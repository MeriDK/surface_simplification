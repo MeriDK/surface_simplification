{
 "cells": [
  {
   "cell_type": "code",
   "execution_count": 1,
   "id": "a98ed90e-4057-4de9-a09c-c7bd9b6acb0d",
   "metadata": {},
   "outputs": [
    {
     "name": "stdout",
     "output_type": "stream",
     "text": [
      "Jupyter environment detected. Enabling Open3D WebVisualizer.\n",
      "[Open3D INFO] WebRTC GUI backend enabled.\n",
      "[Open3D INFO] WebRTCWindowSystem: HTTP handshake server disabled.\n"
     ]
    }
   ],
   "source": [
    "import numpy as np\n",
    "import open3d as o3d\n",
    "import matplotlib.pyplot as plt\n",
    "from tqdm import tqdm"
   ]
  },
  {
   "cell_type": "code",
   "execution_count": 2,
   "id": "25a83719-7600-425f-9856-927c24449457",
   "metadata": {},
   "outputs": [],
   "source": [
    "dataset = o3d.data.BunnyMesh()\n",
    "mesh = o3d.io.read_triangle_mesh(dataset.path)"
   ]
  },
  {
   "cell_type": "code",
   "execution_count": 120,
   "id": "d09af07a-9c6b-4256-a520-36603ee9a17b",
   "metadata": {},
   "outputs": [
    {
     "name": "stdout",
     "output_type": "stream",
     "text": [
      "[Open3D INFO] Skipping non-triangle primitive geometry of type: 20\n"
     ]
    }
   ],
   "source": [
    "mesh_path = 'ImageToStl.com_pikachu.obj'\n",
    "mesh_path = 'botGERMAN1953.obj'\n",
    "mesh = o3d.io.read_triangle_mesh(mesh_path,True)"
   ]
  },
  {
   "cell_type": "code",
   "execution_count": 3,
   "id": "0b5fb416-6a33-4ef2-b2b2-7d95cb70134a",
   "metadata": {},
   "outputs": [
    {
     "data": {
      "text/plain": [
       "TriangleMesh with 35947 points and 69451 triangles."
      ]
     },
     "execution_count": 3,
     "metadata": {},
     "output_type": "execute_result"
    }
   ],
   "source": [
    "mesh"
   ]
  },
  {
   "cell_type": "code",
   "execution_count": 4,
   "id": "46ec0595-7e3d-4d3a-8536-05167ba4373d",
   "metadata": {},
   "outputs": [
    {
     "name": "stdout",
     "output_type": "stream",
     "text": [
      "TriangleMesh with 35947 points and 69451 triangles.\n",
      "Vertices:\n",
      "[[-0.0378297   0.12794     0.00447467]\n",
      " [-0.0447794   0.128887    0.00190497]\n",
      " [-0.0680095   0.151244    0.0371953 ]\n",
      " ...\n",
      " [-0.0704544   0.150585   -0.0434585 ]\n",
      " [-0.0310262   0.153728   -0.00354608]\n",
      " [-0.0400442   0.15362    -0.00816685]]\n",
      "Triangles:\n",
      "[[21216 21215 20399]\n",
      " [ 9186  9280 14838]\n",
      " [16020 13433  5187]\n",
      " ...\n",
      " [17346 34909 17279]\n",
      " [34909 17346 17277]\n",
      " [17277 17346 17345]]\n"
     ]
    }
   ],
   "source": [
    "print(mesh)\n",
    "print('Vertices:')\n",
    "print(np.asarray(mesh.vertices))\n",
    "print('Triangles:')\n",
    "print(np.asarray(mesh.triangles))"
   ]
  },
  {
   "cell_type": "code",
   "execution_count": 58,
   "id": "ec7094a2-b662-49d1-9bfb-569783aa239f",
   "metadata": {},
   "outputs": [],
   "source": [
    "vertices = np.asarray(mesh.vertices)\n",
    "triangles = np.asarray(mesh.triangles)"
   ]
  },
  {
   "cell_type": "code",
   "execution_count": 126,
   "id": "3f10bddd-25ef-4c4e-8c5a-fea62c217ac9",
   "metadata": {},
   "outputs": [
    {
     "data": {
      "text/plain": [
       "(35947, 3)"
      ]
     },
     "execution_count": 126,
     "metadata": {},
     "output_type": "execute_result"
    }
   ],
   "source": [
    "vertices.shape"
   ]
  },
  {
   "cell_type": "code",
   "execution_count": 161,
   "id": "663862aa-f27a-4f45-a7b4-0fe7bab427d5",
   "metadata": {},
   "outputs": [
    {
     "data": {
      "text/plain": [
       "(69451, 3)"
      ]
     },
     "execution_count": 161,
     "metadata": {},
     "output_type": "execute_result"
    }
   ],
   "source": [
    "triangles.shape"
   ]
  },
  {
   "cell_type": "code",
   "execution_count": 162,
   "id": "dc9a06c9-3454-448f-ac9d-4801935233ef",
   "metadata": {},
   "outputs": [
    {
     "data": {
      "text/plain": [
       "array([    0,     1,     2, ..., 35944, 35945, 35946])"
      ]
     },
     "execution_count": 162,
     "metadata": {},
     "output_type": "execute_result"
    }
   ],
   "source": [
    "np.arange(35947)"
   ]
  },
  {
   "cell_type": "code",
   "execution_count": 163,
   "id": "0c3f39d5-74ea-4adc-b7ce-2cf3731d7f86",
   "metadata": {},
   "outputs": [
    {
     "data": {
      "text/plain": [
       "array([    8,    16,    18, ..., 35917, 35919, 35930])"
      ]
     },
     "execution_count": 163,
     "metadata": {},
     "output_type": "execute_result"
    }
   ],
   "source": [
    "np.setxor1d(np.unique(triangles.reshape(-1)), np.arange(35947))"
   ]
  },
  {
   "cell_type": "code",
   "execution_count": 128,
   "id": "5b28dc99-1012-409f-ab79-92746194745d",
   "metadata": {},
   "outputs": [
    {
     "data": {
      "text/plain": [
       "0.5175879396984925"
      ]
     },
     "execution_count": 128,
     "metadata": {},
     "output_type": "execute_result"
    }
   ],
   "source": [
    "vertices.shape[0] / triangles.shape[0]"
   ]
  },
  {
   "cell_type": "code",
   "execution_count": 6,
   "id": "60aa8bba-5f80-48c2-8e29-a9682d230f63",
   "metadata": {},
   "outputs": [],
   "source": [
    "def equation_plane(v0, v1, v2):\n",
    "    x1, y1, z1 = v0\n",
    "    x2, y2, z2 = v1 \n",
    "    x3, y3, z3 = v2\n",
    "    \n",
    "    a1 = x2 - x1\n",
    "    b1 = y2 - y1\n",
    "    c1 = z2 - z1\n",
    "    a2 = x3 - x1\n",
    "    b2 = y3 - y1\n",
    "    c2 = z3 - z1\n",
    "    \n",
    "    a = b1 * c2 - b2 * c1\n",
    "    b = a2 * c1 - a1 * c2\n",
    "    c = a1 * b2 - b1 * a2\n",
    "    d = (- a * x1 - b * y1 - c * z1)\n",
    "    \n",
    "    p = np.array([a, b, c, d])\n",
    "    \n",
    "    return p"
   ]
  },
  {
   "cell_type": "code",
   "execution_count": 12,
   "id": "60c62423-e567-44ac-8d56-353e6e79db9d",
   "metadata": {},
   "outputs": [],
   "source": [
    "t0 = triangles[0]"
   ]
  },
  {
   "cell_type": "code",
   "execution_count": 14,
   "id": "6ffee39b-e75f-4ee1-9c4e-29dc3baf0e71",
   "metadata": {},
   "outputs": [
    {
     "data": {
      "text/plain": [
       "array([0, 1, 2], dtype=int32)"
      ]
     },
     "execution_count": 14,
     "metadata": {},
     "output_type": "execute_result"
    }
   ],
   "source": [
    "t0"
   ]
  },
  {
   "cell_type": "code",
   "execution_count": 21,
   "id": "7129c6b4-6ab0-4e75-ad12-5a159c8e1f66",
   "metadata": {},
   "outputs": [],
   "source": [
    "v0, v1, v2 = vertices[t0[0]], vertices[t0[1]], vertices[t0[2]]"
   ]
  },
  {
   "cell_type": "code",
   "execution_count": 22,
   "id": "eb829f1e-2080-481f-8033-8e42fb1ead71",
   "metadata": {},
   "outputs": [
    {
     "data": {
      "text/plain": [
       "(array([4.60764885, 2.05739808, 6.78165483]),\n",
       " array([-4.89530897,  7.51562309,  6.78165627]),\n",
       " array([-4.89530802,  2.05739498,  6.78165722]))"
      ]
     },
     "execution_count": 22,
     "metadata": {},
     "output_type": "execute_result"
    }
   ],
   "source": [
    "v0, v1, v2"
   ]
  },
  {
   "cell_type": "code",
   "execution_count": 35,
   "id": "0f7a5bf9-4a80-454e-b8a1-1bc3eaaed05f",
   "metadata": {},
   "outputs": [
    {
     "data": {
      "text/plain": [
       "array([ 1.30134270e-05,  9.06272817e-06,  5.18693063e+01, -3.51759811e+02])"
      ]
     },
     "execution_count": 35,
     "metadata": {},
     "output_type": "execute_result"
    }
   ],
   "source": [
    "p = equation_plane(v0, v1, v2)\n",
    "a, b, c, d = p\n",
    "p"
   ]
  },
  {
   "cell_type": "code",
   "execution_count": 36,
   "id": "ab52dcf2-e9d6-40f5-bcac-00d9af993ff0",
   "metadata": {},
   "outputs": [
    {
     "data": {
      "text/plain": [
       "<mpl_toolkits.mplot3d.art3d.Path3DCollection at 0x11554571d60>"
      ]
     },
     "execution_count": 36,
     "metadata": {},
     "output_type": "execute_result"
    },
    {
     "data": {
      "image/png": "[encoded data removed]",
      "text/plain": [
       "<Figure size 432x288 with 1 Axes>"
      ]
     },
     "metadata": {
      "needs_background": "light"
     },
     "output_type": "display_data"
    }
   ],
   "source": [
    "xx, yy = np.meshgrid(range(-10, 20), range(-10, 20))\n",
    "z = (-a * xx - b * yy - d) * 1. / c\n",
    "\n",
    "# plot the surface\n",
    "# Create the figure\n",
    "fig = plt.figure()\n",
    "\n",
    "# Add an axes\n",
    "ax = fig.add_subplot(111, projection='3d')\n",
    "ax.plot_surface(xx, yy, z, alpha=0.2)\n",
    "\n",
    "# Ensure that the next plot doesn't overwrite the first plot\n",
    "ax = plt.gca()\n",
    "# ax.hold(True)\n",
    "\n",
    "ax.scatter(v0[0], v0[1], v0[2], color='green')\n",
    "ax.scatter(v1[0], v1[1], v1[2], color='green')\n",
    "ax.scatter(v2[0], v2[1], v2[2], color='green')"
   ]
  },
  {
   "cell_type": "code",
   "execution_count": 46,
   "id": "20f00098-98f8-4b9e-bfba-f3f027edee95",
   "metadata": {},
   "outputs": [
    {
     "data": {
      "text/plain": [
       "array([[ 1.69349281e-10,  1.17937151e-10,  6.74997429e-04,\n",
       "        -4.57760060e-03],\n",
       "       [ 1.17937151e-10,  8.21330418e-11,  4.70077423e-04,\n",
       "        -3.18790354e-03],\n",
       "       [ 6.74997429e-04,  4.70077423e-04,  2.69042494e+03,\n",
       "        -1.82455374e+04],\n",
       "       [-4.57760060e-03, -3.18790354e-03, -1.82455374e+04,\n",
       "         1.23734964e+05]])"
      ]
     },
     "execution_count": 46,
     "metadata": {},
     "output_type": "execute_result"
    }
   ],
   "source": [
    "np.outer(p, p)"
   ]
  },
  {
   "cell_type": "code",
   "execution_count": 7,
   "id": "ee1e91db-5088-440f-bbc0-f4eda70e44c9",
   "metadata": {},
   "outputs": [],
   "source": [
    "# calculate K\n",
    "def calculate_K(vertices, triangles):\n",
    "    K_list = []\n",
    "\n",
    "    for i in range(len(triangles)):\n",
    "        t = triangles[i]\n",
    "        v0, v1, v2 = vertices[t[0]], vertices[t[1]], vertices[t[2]]\n",
    "        p = equation_plane(v0, v1, v2)\n",
    "        K = np.outer(p, p)\n",
    "        K_list.append(K)\n",
    "                \n",
    "    return K_list"
   ]
  },
  {
   "cell_type": "code",
   "execution_count": 8,
   "id": "974a670e-8e20-4cb6-97ac-7c59807a24dc",
   "metadata": {},
   "outputs": [],
   "source": [
    "# create dict {v_id: [t_id0, t_id1, ...]}\n",
    "def create_v_tr(triangles):\n",
    "    v_tr = {}\n",
    "\n",
    "    for i in range(len(triangles)):\n",
    "        t = triangles[i]\n",
    "        for v in t:\n",
    "            if v in v_tr:\n",
    "                v_tr[v].append(i)\n",
    "            else:\n",
    "                v_tr[v] = [i]\n",
    "                \n",
    "    return v_tr"
   ]
  },
  {
   "cell_type": "code",
   "execution_count": 9,
   "id": "ee9af2a4-094a-4bc1-bc56-6b52c6906e2d",
   "metadata": {},
   "outputs": [],
   "source": [
    "K_list = calculate_K(vertices, triangles)\n",
    "v_tr = create_v_tr(triangles)"
   ]
  },
  {
   "cell_type": "code",
   "execution_count": 136,
   "id": "92bdc693-5204-4f2b-9302-ab8a25e7f7dd",
   "metadata": {},
   "outputs": [],
   "source": [
    "c1, c2, c3, c4, c5, c6, cm = 0, 0, 0, 0, 0, 0, 0\n",
    "\n",
    "for el in v_tr.values():\n",
    "    if len(el) == 1:\n",
    "        c1 += 1\n",
    "    elif len(el) == 2:\n",
    "        c2 += 1\n",
    "    elif len(el) == 3:\n",
    "        c3 += 1\n",
    "    elif len(el) == 4:\n",
    "        c4 += 1\n",
    "    elif len(el) == 5:\n",
    "        c5 += 1\n",
    "    elif len(el) == 6:\n",
    "        c6 += 1\n",
    "    else:\n",
    "        cm += 1"
   ]
  },
  {
   "cell_type": "code",
   "execution_count": 138,
   "id": "474c646d-eb29-4e05-b31d-de26f8677a06",
   "metadata": {},
   "outputs": [
    {
     "data": {
      "text/plain": [
       "(2, 31, 111, 438, 3875, 26165, 4212)"
      ]
     },
     "execution_count": 138,
     "metadata": {},
     "output_type": "execute_result"
    }
   ],
   "source": [
    "c1, c2, c3, c4, c5, c6, cm"
   ]
  },
  {
   "cell_type": "code",
   "execution_count": 10,
   "id": "41efe3a1-b817-4d47-941d-5c856e518944",
   "metadata": {},
   "outputs": [],
   "source": [
    "def calculate_Q(K_list, v_tr):\n",
    "    v_Q = {}\n",
    "\n",
    "    for v_id, tr_ids in v_tr.items():\n",
    "        Q = sum([K_list[el] for el in tr_ids])\n",
    "        v_Q[v_id] = Q\n",
    "        \n",
    "    return v_Q"
   ]
  },
  {
   "cell_type": "code",
   "execution_count": 11,
   "id": "12608495-c97c-4032-b68e-7379cd70d715",
   "metadata": {},
   "outputs": [],
   "source": [
    "v_Q = calculate_Q(K_list, v_tr)"
   ]
  },
  {
   "cell_type": "code",
   "execution_count": 142,
   "id": "cf5fa8d1-1f8e-450d-a337-bf9d37aa2fc7",
   "metadata": {},
   "outputs": [
    {
     "data": {
      "text/plain": [
       "34834"
      ]
     },
     "execution_count": 142,
     "metadata": {},
     "output_type": "execute_result"
    }
   ],
   "source": [
    "len(v_Q)"
   ]
  },
  {
   "cell_type": "code",
   "execution_count": 78,
   "id": "c7d955f7-4a81-4505-a52e-e01dfbcc6dd7",
   "metadata": {},
   "outputs": [],
   "source": [
    "b = np.ones((vertices.shape[0], 1))\n",
    "vertices_4d = np.hstack((vertices, b))"
   ]
  },
  {
   "cell_type": "code",
   "execution_count": 79,
   "id": "4eeb103c-d407-4207-8730-878e4cdd9e62",
   "metadata": {},
   "outputs": [
    {
     "data": {
      "text/plain": [
       "array([[ 4.60764885,  2.05739808,  6.78165483,  1.        ],\n",
       "       [-4.89530897,  7.51562309,  6.78165627,  1.        ],\n",
       "       [-4.89530802,  2.05739498,  6.78165722,  1.        ],\n",
       "       ...,\n",
       "       [-0.171202  ,  0.61816502,  0.73623413,  1.        ],\n",
       "       [-0.081321  ,  0.62343591,  0.72724301,  1.        ],\n",
       "       [-0.06898499,  0.62579101,  0.72813702,  1.        ]])"
      ]
     },
     "execution_count": 79,
     "metadata": {},
     "output_type": "execute_result"
    }
   ],
   "source": [
    "vertices_4d"
   ]
  },
  {
   "cell_type": "code",
   "execution_count": 80,
   "id": "e44bfb8f-7808-4210-aad9-e5b33e418264",
   "metadata": {},
   "outputs": [],
   "source": [
    "v0 = vertices_4d[0]"
   ]
  },
  {
   "cell_type": "code",
   "execution_count": 96,
   "id": "f38440b3-3b5d-401f-a11b-73eb520e0c60",
   "metadata": {},
   "outputs": [
    {
     "data": {
      "text/plain": [
       "(1, 4)"
      ]
     },
     "execution_count": 96,
     "metadata": {},
     "output_type": "execute_result"
    }
   ],
   "source": [
    "v0 = np.reshape(v0, (-1, 4))\n",
    "v0.shape"
   ]
  },
  {
   "cell_type": "code",
   "execution_count": 97,
   "id": "cde3036e-097b-4b6c-afac-e916cf7dcf94",
   "metadata": {},
   "outputs": [
    {
     "data": {
      "text/plain": [
       "(4, 4)"
      ]
     },
     "execution_count": 97,
     "metadata": {},
     "output_type": "execute_result"
    }
   ],
   "source": [
    "v_Q[0].shape"
   ]
  },
  {
   "cell_type": "code",
   "execution_count": 100,
   "id": "7f4605f3-2083-4c41-b8af-22af8931c86f",
   "metadata": {},
   "outputs": [
    {
     "data": {
      "text/plain": [
       "1.7845083751190768e-18"
      ]
     },
     "execution_count": 100,
     "metadata": {},
     "output_type": "execute_result"
    }
   ],
   "source": [
    "np.dot(np.dot(v0, v_Q[0]), v0.T)[0][0]"
   ]
  },
  {
   "cell_type": "code",
   "execution_count": 147,
   "id": "848bdd69-7e83-4f45-aadd-f33a09bb26e7",
   "metadata": {},
   "outputs": [
    {
     "data": {
      "text/plain": [
       "0"
      ]
     },
     "execution_count": 147,
     "metadata": {},
     "output_type": "execute_result"
    }
   ],
   "source": [
    "len(set(v_tr[0]).intersection(set(v_tr[1])))"
   ]
  },
  {
   "cell_type": "code",
   "execution_count": 168,
   "id": "b115b1c5-bd7f-4728-a0ac-92a9659a3bf1",
   "metadata": {},
   "outputs": [
    {
     "data": {
      "text/plain": [
       "1"
      ]
     },
     "execution_count": 168,
     "metadata": {},
     "output_type": "execute_result"
    }
   ],
   "source": [
    "len(set([1, 2, 3]).intersection(set([2, 4])))"
   ]
  },
  {
   "cell_type": "code",
   "execution_count": 172,
   "id": "7be0e94a-5e4c-4b3c-bf88-21f78f0b470a",
   "metadata": {},
   "outputs": [
    {
     "data": {
      "text/plain": [
       "3.7416573867739413"
      ]
     },
     "execution_count": 172,
     "metadata": {},
     "output_type": "execute_result"
    }
   ],
   "source": [
    "np.linalg.norm([1, 2, 3])"
   ]
  },
  {
   "cell_type": "code",
   "execution_count": 192,
   "id": "00e3a1a4-2ca6-48fc-9943-5590dd03b2d0",
   "metadata": {},
   "outputs": [
    {
     "data": {
      "text/plain": [
       "array([0, 1], dtype=int64)"
      ]
     },
     "execution_count": 192,
     "metadata": {},
     "output_type": "execute_result"
    }
   ],
   "source": [
    "np.where(np.sum((vertices[0:3] - vertices[0]) ** 2, axis=1) ** 0.5 < 0.05)[0]"
   ]
  },
  {
   "cell_type": "code",
   "execution_count": 203,
   "id": "bb075606-5eb5-4592-b2a5-3225a74ce64c",
   "metadata": {},
   "outputs": [
    {
     "data": {
      "text/plain": [
       "array([[3., 0.],\n",
       "       [3., 3.],\n",
       "       [3., 4.],\n",
       "       [3., 5.],\n",
       "       [3., 8.],\n",
       "       [3., 0.],\n",
       "       [3., 3.],\n",
       "       [3., 4.],\n",
       "       [3., 5.],\n",
       "       [3., 8.]])"
      ]
     },
     "execution_count": 203,
     "metadata": {},
     "output_type": "execute_result"
    }
   ],
   "source": [
    "np.vstack((\n",
    "    np.vstack((np.ones(5) * 3, np.array([0, 3, 4, 5, 8]))).T,\n",
    "    np.vstack((np.ones(5) * 3, np.array([0, 3, 4, 5, 8]))).T\n",
    "))"
   ]
  },
  {
   "cell_type": "code",
   "execution_count": 12,
   "id": "e917ed87-4249-40f6-a20b-2d4382adcd72",
   "metadata": {},
   "outputs": [],
   "source": [
    "def select_valid_pairs(vertices, v_tr, t=0.001):\n",
    "    \n",
    "    valid_pairs = np.array([])\n",
    "    \n",
    "    for i in tqdm(range(len(vertices))):\n",
    "        v = vertices[i]\n",
    "        distances = np.sum((vertices - v) ** 2, axis=1) ** 0.5\n",
    "        valid = np.where(distances < t)[0]\n",
    "        pairs = np.vstack((np.ones(len(valid)) * i, valid)).T\n",
    "        \n",
    "        if i == 0:\n",
    "            valid_pairs = pairs\n",
    "        else:\n",
    "            valid_pairs = np.vstack((valid_pairs, pairs))\n",
    "\n",
    "    valid_pairs = valid_pairs[valid_pairs[:, 0] != valid_pairs[:, 1]]\n",
    "    valid_pairs = valid_pairs.astype(int)\n",
    "    \n",
    "    return valid_pairs"
   ]
  },
  {
   "cell_type": "code",
   "execution_count": 13,
   "id": "5a326d96-4d0b-4a79-b3e6-6faf29e9804d",
   "metadata": {},
   "outputs": [
    {
     "name": "stderr",
     "output_type": "stream",
     "text": [
      "100%|██████████| 35947/35947 [00:22<00:00, 1631.77it/s]\n"
     ]
    }
   ],
   "source": [
    "valid_pairs = select_valid_pairs(vertices, v_tr)"
   ]
  },
  {
   "cell_type": "code",
   "execution_count": 351,
   "id": "25ec91b6-54de-4b5e-91dc-4f683f2e9840",
   "metadata": {},
   "outputs": [
    {
     "data": {
      "text/plain": [
       "(12704, 2)"
      ]
     },
     "execution_count": 351,
     "metadata": {},
     "output_type": "execute_result"
    }
   ],
   "source": [
    "valid_pairs.shape"
   ]
  },
  {
   "cell_type": "code",
   "execution_count": 14,
   "id": "55d56779-690d-41cd-81ba-f115ca327f13",
   "metadata": {},
   "outputs": [],
   "source": [
    "def calculate_error(valid_pairs, v_Q, vertices):\n",
    "    errors = []\n",
    "    \n",
    "    b = np.ones((vertices.shape[0], 1))\n",
    "    vertices_4d = np.hstack((vertices, b))\n",
    "\n",
    "    for i in range(len(valid_pairs)):\n",
    "        pair = valid_pairs[i]\n",
    "        v = (vertices_4d[pair[0]] - vertices_4d[pair[1]]) / 2\n",
    "        \n",
    "        try:\n",
    "            Q1 = v_Q[pair[0]]\n",
    "            Q2 = v_Q[pair[1]]\n",
    "            Q = Q1 + Q2\n",
    "        \n",
    "            error = np.dot(np.dot(v, Q), v.T)    \n",
    "        except KeyError:\n",
    "            error = 10 ** 10\n",
    "        \n",
    "        errors.append(error)\n",
    "        \n",
    "    return errors"
   ]
  },
  {
   "cell_type": "code",
   "execution_count": 15,
   "id": "f7912c9c-eec4-4853-889e-77caf099b0f3",
   "metadata": {},
   "outputs": [],
   "source": [
    "errors = calculate_error(valid_pairs, v_Q, vertices)"
   ]
  },
  {
   "cell_type": "code",
   "execution_count": 16,
   "id": "d1973979-0bc0-485e-b223-017c29ac9520",
   "metadata": {},
   "outputs": [],
   "source": [
    "queue = np.hstack((valid_pairs, np.reshape(errors, (-1, 1))))"
   ]
  },
  {
   "cell_type": "code",
   "execution_count": 23,
   "id": "46381285-f404-4ceb-8f2d-ff4426b14bf4",
   "metadata": {},
   "outputs": [],
   "source": [
    "outliers = np.unique(queue[queue[:, 2] == 10**10][:, 0:2]).astype(int)"
   ]
  },
  {
   "cell_type": "code",
   "execution_count": 24,
   "id": "aea866a5-c057-497c-a106-80932488c46a",
   "metadata": {},
   "outputs": [],
   "source": [
    "queue = queue[queue[:, 2] != 10 ** 10]"
   ]
  },
  {
   "cell_type": "code",
   "execution_count": 25,
   "id": "b01c5ff8-044e-4367-81b0-f95a4e0b128d",
   "metadata": {},
   "outputs": [],
   "source": [
    "queue = queue[np.argsort(queue[:, 2])]"
   ]
  },
  {
   "cell_type": "code",
   "execution_count": 395,
   "id": "428f2b98-652b-462c-aed8-b526e5b05d02",
   "metadata": {},
   "outputs": [
    {
     "data": {
      "text/plain": [
       "(9258, 3)"
      ]
     },
     "execution_count": 395,
     "metadata": {},
     "output_type": "execute_result"
    }
   ],
   "source": [
    "queue.shape"
   ]
  },
  {
   "cell_type": "code",
   "execution_count": 397,
   "id": "6fc441e4-6607-4a41-b62c-76320100c8b5",
   "metadata": {},
   "outputs": [
    {
     "data": {
      "text/plain": [
       "array([[3.47740000e+04, 3.47730000e+04, 5.40868565e-26],\n",
       "       [3.47730000e+04, 3.47740000e+04, 5.40868565e-26],\n",
       "       [1.72170000e+04, 1.72180000e+04, 1.68450047e-23],\n",
       "       ...,\n",
       "       [3.00280000e+04, 3.00290000e+04, 6.58712719e-18],\n",
       "       [3.23580000e+04, 3.23570000e+04, 7.05953622e-18],\n",
       "       [3.23570000e+04, 3.23580000e+04, 7.05953622e-18]])"
      ]
     },
     "execution_count": 397,
     "metadata": {},
     "output_type": "execute_result"
    }
   ],
   "source": [
    "queue"
   ]
  },
  {
   "cell_type": "code",
   "execution_count": 36,
   "id": "4eb33a56-a0ab-4602-b565-8365e0091768",
   "metadata": {},
   "outputs": [],
   "source": [
    "def remove_vertices(queue, vertices, triangles, v_tr):\n",
    "    v1_deleted = []\n",
    "    \n",
    "    # to remove vertice\n",
    "    for q in queue:\n",
    "        v0, v1, error = q\n",
    "        v0, v1 = int(v0), int(v1)\n",
    "\n",
    "        if v0 not in v1_deleted or v1 not in v1_deleted:\n",
    "            # 1. update v1 values in vertices\n",
    "            vertices[v0] = (vertices[v0] + vertices[v1]) / 2\n",
    "\n",
    "            # 2. change v2 to v1 in planes\n",
    "            for tr in v_tr[v1]:\n",
    "                triangles[tr][triangles[tr] == v1] = v0\n",
    "\n",
    "            # 3. update cost for v1/v2\n",
    "            pass\n",
    "\n",
    "            # 4. remove v2 from cost\n",
    "            v1_deleted.append(v1)\n",
    "\n",
    "            # 5. remove v2 from vertices\n",
    "            pass\n",
    "    \n",
    "    return vertices, triangles"
   ]
  },
  {
   "cell_type": "code",
   "execution_count": 41,
   "id": "f14face2-7bb7-48ba-9bed-1a0bb60fa5f3",
   "metadata": {},
   "outputs": [],
   "source": [
    "vertices_new, triangles_new = remove_vertices(queue, vertices, triangles, v_tr)"
   ]
  },
  {
   "cell_type": "code",
   "execution_count": 39,
   "id": "937181ec-950b-4e87-aa97-53a29296b157",
   "metadata": {},
   "outputs": [
    {
     "data": {
      "text/plain": [
       "array([[3.47740000e+04, 3.47730000e+04, 2.16347426e-25],\n",
       "       [3.47730000e+04, 3.47740000e+04, 2.16347426e-25],\n",
       "       [1.72170000e+04, 1.72180000e+04, 1.68450047e-23],\n",
       "       ...,\n",
       "       [3.00280000e+04, 3.00290000e+04, 6.58712719e-18],\n",
       "       [3.23580000e+04, 3.23570000e+04, 7.05953622e-18],\n",
       "       [3.23570000e+04, 3.23580000e+04, 7.05953622e-18]])"
      ]
     },
     "execution_count": 39,
     "metadata": {},
     "output_type": "execute_result"
    }
   ],
   "source": [
    "queue"
   ]
  },
  {
   "cell_type": "code",
   "execution_count": 60,
   "id": "e8870dcd-b343-489b-a89d-35795a0cb344",
   "metadata": {},
   "outputs": [
    {
     "data": {
      "text/plain": [
       "array([[34775, 34773, 34645]], dtype=int32)"
      ]
     },
     "execution_count": 60,
     "metadata": {},
     "output_type": "execute_result"
    }
   ],
   "source": [
    "triangles[triangles[:, 1] == 34773]"
   ]
  },
  {
   "cell_type": "code",
   "execution_count": 57,
   "id": "ffe7cfbc-2580-4d48-95a1-db2d06a9893c",
   "metadata": {},
   "outputs": [
    {
     "name": "stdout",
     "output_type": "stream",
     "text": [
      "[34646 34774 34772]\n",
      "[34774 34902 34901]\n",
      "[34772 34774 34901]\n",
      "[34645 34774 34774]\n",
      "[34646 34646 34774]\n",
      "[34774 34774 34902]\n"
     ]
    }
   ],
   "source": [
    "for tr in v_tr[34773]:\n",
    "    print(triangles[tr])"
   ]
  },
  {
   "cell_type": "code",
   "execution_count": 51,
   "id": "a0800357-730f-4f99-9e40-fba48d21c108",
   "metadata": {},
   "outputs": [],
   "source": [
    "for tr in v_tr[34773]:\n",
    "    triangles[tr][triangles[tr] == 34773] = 34774"
   ]
  },
  {
   "cell_type": "code",
   "execution_count": 42,
   "id": "d68e890f-2e31-4006-aee8-519e10718646",
   "metadata": {},
   "outputs": [
    {
     "data": {
      "text/plain": [
       "array([[34645, 34773, 34773],\n",
       "       [34773, 34773, 34902],\n",
       "       [34775, 34773, 34645]], dtype=int32)"
      ]
     },
     "execution_count": 42,
     "metadata": {},
     "output_type": "execute_result"
    }
   ],
   "source": [
    "triangles_new[triangles_new[:, 1] == 34773]"
   ]
  },
  {
   "cell_type": "code",
   "execution_count": 427,
   "id": "b818f0ca-df35-4658-96fb-4949f6abaf09",
   "metadata": {},
   "outputs": [
    {
     "data": {
      "text/plain": [
       "array([34774, 34774, 34902], dtype=int32)"
      ]
     },
     "execution_count": 427,
     "metadata": {},
     "output_type": "execute_result"
    }
   ],
   "source": [
    "triangles_new[65962]"
   ]
  },
  {
   "cell_type": "code",
   "execution_count": 358,
   "id": "177fef57-9d60-47bc-8998-eb5b456c40b7",
   "metadata": {},
   "outputs": [
    {
     "data": {
      "text/plain": [
       "(34774, 34773)"
      ]
     },
     "execution_count": 358,
     "metadata": {},
     "output_type": "execute_result"
    }
   ],
   "source": [
    "v0, v1"
   ]
  },
  {
   "cell_type": "code",
   "execution_count": 362,
   "id": "2048f934-2fb9-4795-a719-97d18d477b25",
   "metadata": {},
   "outputs": [
    {
     "data": {
      "text/plain": [
       "34773"
      ]
     },
     "execution_count": 362,
     "metadata": {},
     "output_type": "execute_result"
    }
   ],
   "source": [
    "v1"
   ]
  },
  {
   "cell_type": "code",
   "execution_count": 360,
   "id": "933eb184-2536-4c8b-9f39-a306ef994777",
   "metadata": {},
   "outputs": [
    {
     "data": {
      "text/plain": [
       "[65822, 65824, 65825, 65959, 65960, 65962]"
      ]
     },
     "execution_count": 360,
     "metadata": {},
     "output_type": "execute_result"
    }
   ],
   "source": [
    "v_tr[v1]"
   ]
  },
  {
   "cell_type": "code",
   "execution_count": 363,
   "id": "e02a1e95-70e0-436b-b6d1-f44723ca9134",
   "metadata": {},
   "outputs": [
    {
     "data": {
      "text/plain": [
       "array([34645, 34773, 34772], dtype=int32)"
      ]
     },
     "execution_count": 363,
     "metadata": {},
     "output_type": "execute_result"
    }
   ],
   "source": [
    "triangles[65822]"
   ]
  },
  {
   "cell_type": "code",
   "execution_count": 368,
   "id": "453e023b-05b6-4f0a-91b3-2581294d9dba",
   "metadata": {},
   "outputs": [],
   "source": [
    "triangles[65822][triangles[65822] == v1] = v0"
   ]
  },
  {
   "cell_type": "code",
   "execution_count": 369,
   "id": "c7c509bb-7f2b-468c-a605-824044599c6a",
   "metadata": {},
   "outputs": [
    {
     "data": {
      "text/plain": [
       "array([34645, 34774, 34772], dtype=int32)"
      ]
     },
     "execution_count": 369,
     "metadata": {},
     "output_type": "execute_result"
    }
   ],
   "source": [
    "triangles[65822]"
   ]
  },
  {
   "cell_type": "code",
   "execution_count": 379,
   "id": "2465ea3e-2a93-45b8-993b-e816eb7fb9c3",
   "metadata": {},
   "outputs": [
    {
     "data": {
      "text/plain": [
       "(12702, 3)"
      ]
     },
     "execution_count": 379,
     "metadata": {},
     "output_type": "execute_result"
    }
   ],
   "source": [
    "queue[(queue[:, 0] != v1) & (queue[:, 1] != v1)].shape"
   ]
  },
  {
   "cell_type": "code",
   "execution_count": 375,
   "id": "3b67f5aa-1828-4b11-9c92-934332225786",
   "metadata": {},
   "outputs": [
    {
     "data": {
      "text/plain": [
       "(12704, 3)"
      ]
     },
     "execution_count": 375,
     "metadata": {},
     "output_type": "execute_result"
    }
   ],
   "source": [
    "queue.shape"
   ]
  },
  {
   "cell_type": "code",
   "execution_count": 404,
   "id": "98ddf054-c759-40d6-841c-5569b55b1bec",
   "metadata": {},
   "outputs": [
    {
     "data": {
      "text/plain": [
       "((35947, 3), (35947, 3))"
      ]
     },
     "execution_count": 404,
     "metadata": {},
     "output_type": "execute_result"
    }
   ],
   "source": [
    "vertices_new.shape, vertices.shape"
   ]
  },
  {
   "cell_type": "code",
   "execution_count": 406,
   "id": "3620b6ff-c215-4430-9a7b-ca6a0e926a11",
   "metadata": {},
   "outputs": [
    {
     "data": {
      "text/plain": [
       "((69451, 3), (69451, 3))"
      ]
     },
     "execution_count": 406,
     "metadata": {},
     "output_type": "execute_result"
    }
   ],
   "source": [
    "triangles_new.shape, triangles.shape"
   ]
  },
  {
   "cell_type": "code",
   "execution_count": 410,
   "id": "9fad97c9-51d8-4eff-927b-282c1472718c",
   "metadata": {},
   "outputs": [
    {
     "data": {
      "text/plain": [
       "34630"
      ]
     },
     "execution_count": 410,
     "metadata": {},
     "output_type": "execute_result"
    }
   ],
   "source": [
    "len(np.unique(triangles_new))"
   ]
  },
  {
   "cell_type": "code",
   "execution_count": 411,
   "id": "402e23a6-2381-4b2f-b49a-c44c9019edc1",
   "metadata": {},
   "outputs": [
    {
     "data": {
      "text/plain": [
       "34630"
      ]
     },
     "execution_count": 411,
     "metadata": {},
     "output_type": "execute_result"
    }
   ],
   "source": [
    "len(np.unique(triangles))"
   ]
  },
  {
   "cell_type": "code",
   "execution_count": null,
   "id": "d0953d77-ae0b-42d2-a7e4-7d7f4b13385c",
   "metadata": {},
   "outputs": [],
   "source": []
  }
 ],
 "metadata": {
  "kernelspec": {
   "display_name": "Python 3 (ipykernel)",
   "language": "python",
   "name": "python3"
  },
  "language_info": {
   "codemirror_mode": {
    "name": "ipython",
    "version": 3
   },
   "file_extension": ".py",
   "mimetype": "text/x-python",
   "name": "python",
   "nbconvert_exporter": "python",
   "pygments_lexer": "ipython3",
   "version": "3.9.12"
  }
 },
 "nbformat": 4,
 "nbformat_minor": 5
}
