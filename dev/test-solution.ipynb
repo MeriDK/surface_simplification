{
 "cells": [
  {
   "cell_type": "code",
   "execution_count": 34,
   "id": "2807bdb5-07fe-4a76-9cff-edaad36a2864",
   "metadata": {},
   "outputs": [],
   "source": [
    "from class_mesh_simplify import mesh_simplify\n",
    "import numpy as np"
   ]
  },
  {
   "cell_type": "code",
   "execution_count": 118,
   "id": "b4cd4ad6-ba39-42c1-89f2-69838ceea2ec",
   "metadata": {},
   "outputs": [],
   "source": [
    "input_filepath = 'torus.obj'\n",
    "output_filepath = 'torus7.obj'\n",
    "threshold = 0.01\n",
    "simplify_ratio = 0.1"
   ]
  },
  {
   "cell_type": "code",
   "execution_count": 119,
   "id": "ab973672-16c6-4a43-810f-177c3b8da04b",
   "metadata": {},
   "outputs": [
    {
     "name": "stdout",
     "output_type": "stream",
     "text": [
      "Import model: torus.obj\n"
     ]
    }
   ],
   "source": [
    "model = mesh_simplify(input_filepath, threshold, simplify_ratio)"
   ]
  },
  {
   "cell_type": "code",
   "execution_count": 120,
   "id": "07857dc3-5abf-445f-8df1-083cef76dfcb",
   "metadata": {},
   "outputs": [],
   "source": [
    "model.generate_valid_pairs()"
   ]
  },
  {
   "cell_type": "code",
   "execution_count": 121,
   "id": "69fb4ff6-ce11-4bb0-a34a-27634470c49f",
   "metadata": {},
   "outputs": [
    {
     "data": {
      "text/plain": [
       "(2400, 2)"
      ]
     },
     "execution_count": 121,
     "metadata": {},
     "output_type": "execute_result"
    }
   ],
   "source": [
    "model.valid_pairs.shape"
   ]
  },
  {
   "cell_type": "code",
   "execution_count": 123,
   "id": "f3467771-5de5-43d3-9f69-1bc4525700e1",
   "metadata": {},
   "outputs": [
    {
     "data": {
      "text/plain": [
       "array([[  1,   2],\n",
       "       [  1,  22],\n",
       "       [  1, 581],\n",
       "       [  1, 600],\n",
       "       [  2,   3],\n",
       "       [  2,  23],\n",
       "       [  2, 581],\n",
       "       [  2, 582],\n",
       "       [  3,   4],\n",
       "       [  3,  24],\n",
       "       [  3, 582],\n",
       "       [  3, 583],\n",
       "       [  4,   5],\n",
       "       [  4,  25],\n",
       "       [  4, 583],\n",
       "       [  4, 584],\n",
       "       [  5,   6],\n",
       "       [  5,  26],\n",
       "       [  5, 584],\n",
       "       [  5, 585]])"
      ]
     },
     "execution_count": 123,
     "metadata": {},
     "output_type": "execute_result"
    }
   ],
   "source": [
    "model.valid_pairs[:20, :]"
   ]
  },
  {
   "cell_type": "code",
   "execution_count": 82,
   "id": "2669ecce-ead0-4320-903a-1938343dbec4",
   "metadata": {},
   "outputs": [
    {
     "data": {
      "text/plain": [
       "array([[1, 2],\n",
       "       [1, 3]])"
      ]
     },
     "execution_count": 82,
     "metadata": {},
     "output_type": "execute_result"
    }
   ],
   "source": [
    "model.valid_pairs[model.valid_pairs[:, 0] == 1]"
   ]
  },
  {
   "cell_type": "code",
   "execution_count": 83,
   "id": "acc094cd-5f55-45b8-8b61-aa8ebcc7265a",
   "metadata": {},
   "outputs": [
    {
     "data": {
      "text/plain": [
       "array([[2, 1],\n",
       "       [3, 1],\n",
       "       [4, 1],\n",
       "       [8, 1]])"
      ]
     },
     "execution_count": 83,
     "metadata": {},
     "output_type": "execute_result"
    }
   ],
   "source": [
    "model.valid_pairs[model.valid_pairs[:, 1] == 1]"
   ]
  },
  {
   "cell_type": "code",
   "execution_count": 84,
   "id": "af58aa04-5a15-4601-965d-85c123d0ee06",
   "metadata": {},
   "outputs": [
    {
     "data": {
      "text/plain": [
       "57.9273"
      ]
     },
     "execution_count": 84,
     "metadata": {},
     "output_type": "execute_result"
    }
   ],
   "source": [
    "model.points.max()"
   ]
  },
  {
   "cell_type": "code",
   "execution_count": 102,
   "id": "804d7a86-2172-4952-b4a3-9697e1551307",
   "metadata": {},
   "outputs": [],
   "source": [
    "dist_pairs = []\n",
    "\n",
    "for i in range(0, model.number_of_points):\n",
    "    current_point_location = i + 1\n",
    "    current_point = model.points[i, :]\n",
    "    current_point_to_others_dist = (np.sum((model.points - current_point) ** 2, axis=1)) ** 0.5\n",
    "    valid_pairs_location = np.where(current_point_to_others_dist <= model.t)[0] + 1\n",
    "    valid_pairs_location = valid_pairs_location.reshape(len(valid_pairs_location), 1)\n",
    "    current_valid_pairs = np.concatenate([current_point_location * np.ones((valid_pairs_location.shape[0], 1)), valid_pairs_location], axis=1)\n",
    "    \n",
    "    if i == 0:\n",
    "        dist_pairs = current_valid_pairs\n",
    "    else:\n",
    "        dist_pairs = np.concatenate([dist_pairs, current_valid_pairs], axis=0)"
   ]
  },
  {
   "cell_type": "code",
   "execution_count": 86,
   "id": "2bc1aa3f-36f7-40dc-ba93-d8f8732749f3",
   "metadata": {},
   "outputs": [
    {
     "data": {
      "text/plain": [
       "(2138, 2)"
      ]
     },
     "execution_count": 86,
     "metadata": {},
     "output_type": "execute_result"
    }
   ],
   "source": [
    "dist_pairs.shape"
   ]
  },
  {
   "cell_type": "code",
   "execution_count": 87,
   "id": "05bd18e4-534a-4bff-85db-f5874253cdff",
   "metadata": {},
   "outputs": [],
   "source": [
    "dist_pairs = np.array(dist_pairs)\n",
    "find_same = dist_pairs[:, 1] - dist_pairs[:, 0]\n",
    "find_same_loc = np.where(find_same == 0)[0]\n",
    "dist_pairs = np.delete(dist_pairs, find_same_loc, axis=0)"
   ]
  },
  {
   "cell_type": "code",
   "execution_count": 88,
   "id": "f233111b-27f5-4940-a196-514e0a1da180",
   "metadata": {},
   "outputs": [
    {
     "data": {
      "text/plain": [
       "(136, 2)"
      ]
     },
     "execution_count": 88,
     "metadata": {},
     "output_type": "execute_result"
    }
   ],
   "source": [
    "dist_pairs.shape"
   ]
  },
  {
   "cell_type": "code",
   "execution_count": 89,
   "id": "f94aa953-f5b1-47c0-a5cf-b89c3a495aa9",
   "metadata": {},
   "outputs": [],
   "source": [
    "if dist_pairs.size > 0:\n",
    "    valid_pairs = np.concatenate([model.edges, dist_pairs], axis=0)\n",
    "    valid_pairs = np.array(valid_pairs, dtype=int)\n",
    "else:\n",
    "    valid_pairs = edges"
   ]
  },
  {
   "cell_type": "code",
   "execution_count": 90,
   "id": "e75d670f-08fe-4980-86b5-0ef4a2ba8df0",
   "metadata": {},
   "outputs": [
    {
     "data": {
      "text/plain": [
       "(9858, 2)"
      ]
     },
     "execution_count": 90,
     "metadata": {},
     "output_type": "execute_result"
    }
   ],
   "source": [
    "valid_pairs.shape"
   ]
  },
  {
   "cell_type": "code",
   "execution_count": 91,
   "id": "c6579537-6c46-4987-ba65-86a1dcb83bca",
   "metadata": {},
   "outputs": [
    {
     "data": {
      "text/plain": [
       "(9722, 2)"
      ]
     },
     "execution_count": 91,
     "metadata": {},
     "output_type": "execute_result"
    }
   ],
   "source": [
    "model.edges.shape"
   ]
  },
  {
   "cell_type": "code",
   "execution_count": 92,
   "id": "2a654458-1b6f-407f-a17a-b64765cddff1",
   "metadata": {},
   "outputs": [],
   "source": [
    "find_same = valid_pairs[:, 1] - valid_pairs[:, 0]\n",
    "find_same_loc = np.where(find_same == 0)[0]\n",
    "valid_pairs = np.delete(valid_pairs, find_same_loc, axis=0)\n",
    "\n",
    "unique_valid_pairs_trans, unique_valid_pairs_loc = np.unique(valid_pairs[:, 0] * (10 ** 10) + valid_pairs[:, 1], return_index=True)\n",
    "valid_pairs = valid_pairs[unique_valid_pairs_loc, :]"
   ]
  },
  {
   "cell_type": "code",
   "execution_count": 93,
   "id": "9ace5842-a20b-47e2-887e-56dbe5e3df7e",
   "metadata": {},
   "outputs": [
    {
     "data": {
      "text/plain": [
       "(9761, 2)"
      ]
     },
     "execution_count": 93,
     "metadata": {},
     "output_type": "execute_result"
    }
   ],
   "source": [
    "valid_pairs.shape"
   ]
  },
  {
   "cell_type": "code",
   "execution_count": 103,
   "id": "929caba1-e652-48db-9ae1-f64fa08dee2d",
   "metadata": {},
   "outputs": [],
   "source": [
    "model.calculate_optimal_contraction_pairs_and_cost()"
   ]
  },
  {
   "cell_type": "code",
   "execution_count": 104,
   "id": "0c53220d-2389-43cb-b73b-6676c1f5e4ea",
   "metadata": {},
   "outputs": [
    {
     "name": "stdout",
     "output_type": "stream",
     "text": [
      "Simplification: 100.0%\n",
      "Remaining: 600 points\n",
      "\n",
      "\n",
      "Simplification: 83.33333333333333%\n",
      "Remaining: 500 points\n",
      "\n",
      "\n",
      "Simplification: 66.66666666666667%\n",
      "Remaining: 400 points\n",
      "\n",
      "\n",
      "Simplification: 50.0%\n",
      "Remaining: 300 points\n",
      "\n",
      "\n",
      "Simplification: 33.333333333333336%\n",
      "Remaining: 200 points\n",
      "\n",
      "\n",
      "Simplification: 16.666666666666668%\n",
      "Remaining: 100 points\n",
      "\n",
      "\n",
      "Simplification: 5.170902716914987%\n",
      "Remaining: 59 points\n",
      "End\n",
      "\n"
     ]
    }
   ],
   "source": [
    "model.iteratively_remove_least_cost_valid_pairs()"
   ]
  },
  {
   "cell_type": "code",
   "execution_count": 105,
   "id": "93971967-7237-4608-a70a-54515c3b8d58",
   "metadata": {},
   "outputs": [],
   "source": [
    "model.generate_new_3d_model()"
   ]
  },
  {
   "cell_type": "code",
   "execution_count": 106,
   "id": "00e95e04-2cb0-47e4-956c-7347bd9b841c",
   "metadata": {},
   "outputs": [
    {
     "name": "stdout",
     "output_type": "stream",
     "text": [
      "Output simplified model: torus7.obj\n"
     ]
    }
   ],
   "source": [
    "model.output(output_filepath)"
   ]
  },
  {
   "cell_type": "code",
   "execution_count": 109,
   "id": "b40d55d8-d71e-4b90-a977-a7f09b39dfc4",
   "metadata": {},
   "outputs": [
    {
     "data": {
      "text/plain": [
       "(1626, 2)"
      ]
     },
     "execution_count": 109,
     "metadata": {},
     "output_type": "execute_result"
    }
   ],
   "source": [
    "model.valid_pairs.shape"
   ]
  },
  {
   "cell_type": "code",
   "execution_count": null,
   "id": "858f6d91-a39b-4d86-b39a-bd3f27380482",
   "metadata": {},
   "outputs": [],
   "source": []
  },
  {
   "cell_type": "code",
   "execution_count": null,
   "id": "2c169c78-ffc7-4b14-b8f7-a8a22caefd9b",
   "metadata": {},
   "outputs": [],
   "source": []
  }
 ],
 "metadata": {
  "kernelspec": {
   "display_name": "Python 3 (ipykernel)",
   "language": "python",
   "name": "python3"
  },
  "language_info": {
   "codemirror_mode": {
    "name": "ipython",
    "version": 3
   },
   "file_extension": ".py",
   "mimetype": "text/x-python",
   "name": "python",
   "nbconvert_exporter": "python",
   "pygments_lexer": "ipython3",
   "version": "3.9.12"
  }
 },
 "nbformat": 4,
 "nbformat_minor": 5
}
