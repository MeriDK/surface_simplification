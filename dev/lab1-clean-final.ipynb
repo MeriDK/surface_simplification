{
 "cells": [
  {
   "cell_type": "code",
   "execution_count": 1,
   "id": "ee8d15ae-5026-4193-84cc-6d6a2ac72e10",
   "metadata": {
    "pycharm": {
     "name": "#%%\n"
    }
   },
   "outputs": [
    {
     "name": "stdout",
     "output_type": "stream",
     "text": [
      "Jupyter environment detected. Enabling Open3D WebVisualizer.\n",
      "[Open3D INFO] WebRTC GUI backend enabled.\n",
      "[Open3D INFO] WebRTCWindowSystem: HTTP handshake server disabled.\n"
     ]
    }
   ],
   "source": [
    "import numpy as np\n",
    "import open3d as o3d\n",
    "import matplotlib.pyplot as plt\n",
    "from tqdm import tqdm\n",
    "import time"
   ]
  },
  {
   "cell_type": "code",
   "execution_count": 2,
   "id": "faed26e8-e031-41a1-a8a1-280ff62008ab",
   "metadata": {
    "pycharm": {
     "name": "#%%\n"
    }
   },
   "outputs": [],
   "source": [
    "def equation_plane(v0, v1, v2):\n",
    "    point_mat = np.array([v0, v1, v2])\n",
    "    abc = np.matmul(np.linalg.inv(point_mat), np.array([[1], [1], [1]]))\n",
    "    p = np.concatenate([abc.T, np.array(-1).reshape(1, 1)], axis=1) / (np.sum(abc ** 2) ** 0.5)\n",
    "    p = p.reshape(4)\n",
    "    \n",
    "    return p"
   ]
  },
  {
   "cell_type": "code",
   "execution_count": 3,
   "id": "1f15cd9f-57a6-4032-8724-47af0442b15a",
   "metadata": {
    "pycharm": {
     "name": "#%%\n"
    }
   },
   "outputs": [],
   "source": [
    "# calculate K\n",
    "def calculate_K(vertices, triangles):\n",
    "    K_list = []\n",
    "\n",
    "    for i in range(len(triangles)):\n",
    "        t = triangles[i]\n",
    "        v0, v1, v2 = vertices[t[0]], vertices[t[1]], vertices[t[2]]\n",
    "        p = equation_plane(v0, v1, v2)\n",
    "        K = np.outer(p, p)\n",
    "        K_list.append(K)\n",
    "                \n",
    "    return K_list"
   ]
  },
  {
   "cell_type": "code",
   "execution_count": 4,
   "id": "4b94f488-a744-4b69-8bc8-b28f0a425fd6",
   "metadata": {
    "pycharm": {
     "name": "#%%\n"
    }
   },
   "outputs": [],
   "source": [
    "# create dict {v_id: [t_id0, t_id1, ...]}\n",
    "def create_v_tr(triangles):\n",
    "    v_tr = {}\n",
    "\n",
    "    for i in range(len(triangles)):\n",
    "        t = triangles[i]\n",
    "        for v in t:\n",
    "            if v in v_tr:\n",
    "                v_tr[v].append(i)\n",
    "            else:\n",
    "                v_tr[v] = [i]\n",
    "                \n",
    "    return v_tr"
   ]
  },
  {
   "cell_type": "code",
   "execution_count": 5,
   "id": "8970d590-d920-4dd9-9b80-8b2faca14bd1",
   "metadata": {
    "pycharm": {
     "name": "#%%\n"
    }
   },
   "outputs": [],
   "source": [
    "def calculate_Q(K_list, v_tr):\n",
    "    v_Q = {}\n",
    "\n",
    "    for v_id, tr_ids in v_tr.items():\n",
    "        Q = sum([K_list[el] for el in tr_ids])\n",
    "        v_Q[v_id] = Q\n",
    "        \n",
    "    return v_Q"
   ]
  },
  {
   "cell_type": "code",
   "execution_count": 6,
   "id": "53b4c1a8-b795-426d-80d6-97e13eaed374",
   "metadata": {
    "pycharm": {
     "name": "#%%\n"
    }
   },
   "outputs": [],
   "source": [
    "def find_edges(triangles):\n",
    "    edge_1 = triangles[:, 0:2]\n",
    "    edge_2 = triangles[:, 1:]\n",
    "    edge_3 = np.concatenate([triangles[:, :1], triangles[:, -1:]], axis=1)\n",
    "    edges = np.concatenate([edge_1, edge_2, edge_3], axis=0)\n",
    "    \n",
    "    unique_edges_trans, unique_edges_locs = np.unique(edges[:, 0] * (10 ** 10) + edges[:, 1], return_index=True)\n",
    "    edges = edges[unique_edges_locs, :]\n",
    "    \n",
    "    return edges"
   ]
  },
  {
   "cell_type": "code",
   "execution_count": 7,
   "id": "57fde0f0-7270-4a77-b591-de9b075b4737",
   "metadata": {
    "pycharm": {
     "name": "#%%\n"
    }
   },
   "outputs": [],
   "source": [
    "def select_valid_pairs(vertices, triangles, t=0.001):\n",
    "    \n",
    "    valid_pairs = np.array([])\n",
    "    \n",
    "    for i in tqdm(range(len(vertices))):\n",
    "        v = vertices[i]\n",
    "        distances = np.sum((vertices - v) ** 2, axis=1) ** 0.5\n",
    "        valid = np.where(distances < t)[0]\n",
    "        pairs = np.vstack((np.ones(len(valid)) * i, valid)).T\n",
    "        \n",
    "        if i == 0:\n",
    "            valid_pairs = pairs\n",
    "        else:\n",
    "            valid_pairs = np.vstack((valid_pairs, pairs))\n",
    "\n",
    "    valid_pairs = valid_pairs[valid_pairs[:, 0] != valid_pairs[:, 1]]\n",
    "    valid_pairs = valid_pairs.astype(int)\n",
    "    \n",
    "    edges = find_edges(triangles)\n",
    "    valid_pairs = np.vstack((valid_pairs, edges))\n",
    "    \n",
    "    valid_pairs = valid_pairs[valid_pairs[:, 0] != valid_pairs[:, 1]]\n",
    "\n",
    "    unique_valid_pairs_trans, unique_valid_pairs_loc = np.unique(valid_pairs[:, 0] * (10 ** 10) + valid_pairs[:, 1], return_index=True)\n",
    "    valid_pairs = valid_pairs[unique_valid_pairs_loc, :]\n",
    "    \n",
    "    return valid_pairs"
   ]
  },
  {
   "cell_type": "code",
   "execution_count": 8,
   "id": "58c35671-e039-4697-a092-2c26010abba9",
   "metadata": {
    "pycharm": {
     "name": "#%%\n"
    }
   },
   "outputs": [],
   "source": [
    "def calculate_error(valid_pairs, v_Q, vertices):\n",
    "    errors = []\n",
    "    \n",
    "    b = np.ones((vertices.shape[0], 1))\n",
    "    vertices_4d = np.hstack((vertices, b))\n",
    "\n",
    "    for i in range(len(valid_pairs)):\n",
    "        pair = valid_pairs[i]\n",
    "        v = (vertices_4d[pair[0]] - vertices_4d[pair[1]]) / 2\n",
    "        \n",
    "        try:\n",
    "            Q1 = v_Q[pair[0]]\n",
    "            Q2 = v_Q[pair[1]]\n",
    "            Q = Q1 + Q2\n",
    "        \n",
    "            error = np.dot(np.dot(v, Q), v.T)    \n",
    "        except KeyError:\n",
    "            error = 10 ** 10\n",
    "        \n",
    "        errors.append(error)\n",
    "        \n",
    "    return errors"
   ]
  },
  {
   "cell_type": "code",
   "execution_count": 9,
   "id": "cf10d1dc-1e81-40a4-bfd2-54783eeff9c9",
   "metadata": {
    "pycharm": {
     "name": "#%%\n"
    }
   },
   "outputs": [],
   "source": [
    "def create_queue(valid_pairs, errors):\n",
    "    queue = np.hstack((valid_pairs, np.reshape(errors, (-1, 1))))\n",
    "    # queue = queue[queue[:, 2] != 10 ** 10]\n",
    "    queue = queue[np.argsort(queue[:, 2])]\n",
    "    \n",
    "    return queue"
   ]
  },
  {
   "cell_type": "code",
   "execution_count": 10,
   "id": "4a6a71fb-53a6-42d6-b7bd-a34a691c2f4d",
   "metadata": {
    "pycharm": {
     "name": "#%%\n"
    }
   },
   "outputs": [],
   "source": [
    "def update_queue(queue, v0, v1, v_Q, vertices):\n",
    "    # drop invalid pairs from queue for v1\n",
    "    queue = queue[~((queue[:, 0] == v1) | (queue[:, 1] == v1))]\n",
    "\n",
    "    # update error value for v0\n",
    "    value_pairs_to_update = queue[(queue[:, 0] == v0) | (queue[:, 1] == v0)][:, :2].astype(int)\n",
    "    errors_to_update = np.array(calculate_error(value_pairs_to_update, v_Q, vertices))\n",
    "\n",
    "    rows = np.argwhere((queue[:, 0] == v0) | (queue[:, 1] == v0))    \n",
    "    queue[rows, 2] = np.reshape(errors_to_update, (-1, 1))\n",
    "    \n",
    "    # sort again\n",
    "    queue = queue[np.argsort(queue[:, 2])]\n",
    "    \n",
    "    return queue"
   ]
  },
  {
   "cell_type": "code",
   "execution_count": 19,
   "id": "856baf29-84eb-4660-a886-296cb34cd472",
   "metadata": {
    "pycharm": {
     "name": "#%%\n"
    }
   },
   "outputs": [],
   "source": [
    "def remove_one_vertice(v0, v1, vertices, triangles, v_tr):\n",
    "    vertices[v0] = (vertices[v0] + vertices[v1]) / 2\n",
    "\n",
    "    # 2. change v2 to v1 in planes\n",
    "    try:\n",
    "        for tr in v_tr[v1]:\n",
    "            triangles[tr][triangles[tr] == v1] = v0\n",
    "    except KeyError:\n",
    "        pass\n",
    "\n",
    "    return vertices, triangles"
   ]
  },
  {
   "cell_type": "code",
   "execution_count": 11,
   "id": "4029ba98-31d0-4f7d-964d-d5305629e0ef",
   "metadata": {
    "pycharm": {
     "name": "#%%\n"
    }
   },
   "outputs": [],
   "source": [
    "def remove_vertices3(vertices, triangles, ratio, t):\n",
    "\n",
    "    valid_pairs = select_valid_pairs(vertices, triangles, t=t)\n",
    "    num_steps = int(len(triangles) * (1 - ratio) / 2)\n",
    "    K_list = calculate_K(vertices, triangles)\n",
    "    v_tr = create_v_tr(triangles)\n",
    "    v_Q = calculate_Q(K_list, v_tr)\n",
    "    errors = calculate_error(valid_pairs, v_Q, vertices)\n",
    "    queue = create_queue(valid_pairs, errors)\n",
    "    \n",
    "    for i in tqdm(range(num_steps)):\n",
    "        \n",
    "        v0, v1, error = queue[0]\n",
    "        v0, v1 = int(v0), int(v1)\n",
    "        v_Q[v0] = v_Q[v0] + v_Q[v1]\n",
    "        del v_Q[v1]\n",
    "        \n",
    "        vertices, triangles = remove_one_vertice(v0, v1, vertices, triangles, v_tr)\n",
    "        valid_pairs = valid_pairs[~((valid_pairs[:, 0] == v1) | (valid_pairs[:, 1] == v1))]\n",
    "\n",
    "        triangles = np.unique(triangles, axis=0)\n",
    "        triangles = triangles[(triangles[:, 0] != triangles[:, 1]) & (triangles[:, 1] != triangles[:, 2]) & (triangles[:, 2] != triangles[:, 0])]\n",
    "\n",
    "        v_tr = create_v_tr(triangles)\n",
    "        queue = update_queue(queue, v0, v1, v_Q, vertices)\n",
    "        \n",
    "        if len(queue) == 0:\n",
    "            break\n",
    "\n",
    "    return vertices, triangles"
   ]
  },
  {
   "cell_type": "code",
   "execution_count": 17,
   "id": "1d5467cd-0b8b-4703-8043-4e459653eed6",
   "metadata": {
    "pycharm": {
     "name": "#%%\n"
    }
   },
   "outputs": [],
   "source": [
    "def mesh_simplify(mesh, ratio, t):\n",
    "    print(mesh)\n",
    "\n",
    "    vertices = np.asarray(mesh.vertices)\n",
    "    triangles = np.asarray(mesh.triangles)\n",
    "\n",
    "    vertices_new, triangles_new = remove_vertices3(vertices, triangles, ratio=ratio, t=t)\n",
    "    \n",
    "    mesh_new = o3d.geometry.TriangleMesh()\n",
    "    mesh_new.vertices = o3d.utility.Vector3dVector(vertices_new)\n",
    "    mesh_new.triangles = o3d.utility.Vector3iVector(triangles_new)\n",
    "\n",
    "    mesh_new.remove_unreferenced_vertices()\n",
    "    print(mesh_new)\n",
    "    \n",
    "    return mesh_new"
   ]
  },
  {
   "cell_type": "code",
   "execution_count": 20,
   "id": "b9c8d692-1597-4c25-b5e0-79effac9adee",
   "metadata": {
    "pycharm": {
     "name": "#%%\n"
    }
   },
   "outputs": [
    {
     "name": "stdout",
     "output_type": "stream",
     "text": [
      "TriangleMesh with 600 points and 1200 triangles.\n"
     ]
    },
    {
     "name": "stderr",
     "output_type": "stream",
     "text": [
      "100%|██████████| 600/600 [00:00<00:00, 6877.52it/s]\n",
      "100%|██████████| 300/300 [00:01<00:00, 171.27it/s]"
     ]
    },
    {
     "name": "stdout",
     "output_type": "stream",
     "text": [
      "TriangleMesh with 300 points and 600 triangles.\n"
     ]
    },
    {
     "name": "stderr",
     "output_type": "stream",
     "text": [
      "\n"
     ]
    },
    {
     "data": {
      "text/plain": [
       "True"
      ]
     },
     "execution_count": 20,
     "metadata": {},
     "output_type": "execute_result"
    }
   ],
   "source": [
    "mesh = o3d.geometry.TriangleMesh.create_torus()\n",
    "mesh_new = mesh_simplify(mesh, ratio=0.5, t=1)\n",
    "o3d.io.write_triangle_mesh('torus_ratio0.5_t1.obj', mesh_new)"
   ]
  },
  {
   "cell_type": "code",
   "execution_count": 37,
   "id": "abc4aa43-6f13-4b13-9c8c-69f9b44fc4be",
   "metadata": {
    "pycharm": {
     "name": "#%%\n"
    }
   },
   "outputs": [
    {
     "name": "stdout",
     "output_type": "stream",
     "text": [
      "TriangleMesh with 600 points and 1200 triangles.\n"
     ]
    },
    {
     "name": "stderr",
     "output_type": "stream",
     "text": [
      "100%|██████████| 600/600 [00:00<00:00, 5538.64it/s]\n",
      "100%|██████████| 540/540 [00:02<00:00, 249.97it/s]"
     ]
    },
    {
     "name": "stdout",
     "output_type": "stream",
     "text": [
      "TriangleMesh with 60 points and 120 triangles.\n"
     ]
    },
    {
     "name": "stderr",
     "output_type": "stream",
     "text": [
      "\n"
     ]
    },
    {
     "data": {
      "text/plain": [
       "True"
      ]
     },
     "execution_count": 37,
     "metadata": {},
     "output_type": "execute_result"
    }
   ],
   "source": [
    "mesh = o3d.geometry.TriangleMesh.create_torus()\n",
    "mesh_new = mesh_simplify(mesh, ratio=0.1, t=1)\n",
    "o3d.io.write_triangle_mesh('torus_ratio0.1_t1.obj', mesh_new)"
   ]
  },
  {
   "cell_type": "code",
   "execution_count": 36,
   "id": "929a46e2-ed85-4abd-b42b-639fd2761a3f",
   "metadata": {
    "pycharm": {
     "name": "#%%\n"
    }
   },
   "outputs": [
    {
     "name": "stdout",
     "output_type": "stream",
     "text": [
      "TriangleMesh with 600 points and 1200 triangles.\n"
     ]
    },
    {
     "name": "stderr",
     "output_type": "stream",
     "text": [
      "100%|██████████| 600/600 [00:00<00:00, 20556.79it/s]\n",
      "100%|██████████| 300/300 [00:00<00:00, 723.22it/s]"
     ]
    },
    {
     "name": "stdout",
     "output_type": "stream",
     "text": [
      "TriangleMesh with 300 points and 600 triangles.\n"
     ]
    },
    {
     "name": "stderr",
     "output_type": "stream",
     "text": [
      "\n"
     ]
    },
    {
     "data": {
      "text/plain": [
       "True"
      ]
     },
     "execution_count": 36,
     "metadata": {},
     "output_type": "execute_result"
    }
   ],
   "source": [
    "mesh = o3d.geometry.TriangleMesh.create_torus()\n",
    "mesh_new = mesh_simplify(mesh, ratio=0.5, t=0.01)\n",
    "o3d.io.write_triangle_mesh('torus_ratio0.5_t0.01.obj', mesh_new)"
   ]
  },
  {
   "cell_type": "code",
   "execution_count": 26,
   "id": "88d00b85-ffb6-4d88-b0bc-354a1d327beb",
   "metadata": {
    "pycharm": {
     "name": "#%%\n"
    }
   },
   "outputs": [
    {
     "name": "stdout",
     "output_type": "stream",
     "text": [
      "TriangleMesh with 600 points and 1200 triangles.\n"
     ]
    },
    {
     "name": "stderr",
     "output_type": "stream",
     "text": [
      "100%|██████████| 600/600 [00:00<00:00, 6185.60it/s]\n",
      "100%|██████████| 570/570 [00:02<00:00, 254.92it/s]\n"
     ]
    },
    {
     "name": "stdout",
     "output_type": "stream",
     "text": [
      "TriangleMesh with 30 points and 60 triangles.\n"
     ]
    },
    {
     "data": {
      "text/plain": [
       "True"
      ]
     },
     "execution_count": 26,
     "metadata": {},
     "output_type": "execute_result"
    }
   ],
   "source": [
    "mesh = o3d.geometry.TriangleMesh.create_torus()\n",
    "mesh_new = mesh_simplify(mesh, ratio=0.05, t=1)\n",
    "o3d.io.write_triangle_mesh('torus_ratio0.05_t1.obj', mesh_new)"
   ]
  },
  {
   "cell_type": "code",
   "execution_count": 39,
   "id": "1ecff56a-a0da-48e0-8217-c3f3fd5f773c",
   "metadata": {
    "pycharm": {
     "name": "#%%\n"
    }
   },
   "outputs": [
    {
     "name": "stdout",
     "output_type": "stream",
     "text": [
      "TriangleMesh with 192031 points and 69451 triangles.\n"
     ]
    },
    {
     "name": "stderr",
     "output_type": "stream",
     "text": [
      "  1%|▏         | 2453/192031 [00:13<17:09, 184.07it/s]\n"
     ]
    },
    {
     "ename": "KeyboardInterrupt",
     "evalue": "",
     "output_type": "error",
     "traceback": [
      "\u001B[1;31m---------------------------------------------------------------------------\u001B[0m",
      "\u001B[1;31mKeyboardInterrupt\u001B[0m                         Traceback (most recent call last)",
      "Input \u001B[1;32mIn [39]\u001B[0m, in \u001B[0;36m<cell line: 4>\u001B[1;34m()\u001B[0m\n\u001B[0;32m      1\u001B[0m mesh_path \u001B[38;5;241m=\u001B[39m \u001B[38;5;124m'\u001B[39m\u001B[38;5;124mbunny.obj\u001B[39m\u001B[38;5;124m'\u001B[39m\n\u001B[0;32m      2\u001B[0m mesh \u001B[38;5;241m=\u001B[39m o3d\u001B[38;5;241m.\u001B[39mio\u001B[38;5;241m.\u001B[39mread_triangle_mesh(mesh_path,\u001B[38;5;28;01mTrue\u001B[39;00m)\n\u001B[1;32m----> 4\u001B[0m mesh_new \u001B[38;5;241m=\u001B[39m \u001B[43mmesh_simplify\u001B[49m\u001B[43m(\u001B[49m\u001B[43mmesh\u001B[49m\u001B[43m,\u001B[49m\u001B[43m \u001B[49m\u001B[43mratio\u001B[49m\u001B[38;5;241;43m=\u001B[39;49m\u001B[38;5;241;43m0.05\u001B[39;49m\u001B[43m,\u001B[49m\u001B[43m \u001B[49m\u001B[43mt\u001B[49m\u001B[38;5;241;43m=\u001B[39;49m\u001B[38;5;241;43m0\u001B[39;49m\u001B[43m)\u001B[49m\n\u001B[0;32m      5\u001B[0m o3d\u001B[38;5;241m.\u001B[39mio\u001B[38;5;241m.\u001B[39mwrite_triangle_mesh(\u001B[38;5;124m'\u001B[39m\u001B[38;5;124mtorus_ratio0.05_t1.obj\u001B[39m\u001B[38;5;124m'\u001B[39m, mesh_new)\n",
      "Input \u001B[1;32mIn [17]\u001B[0m, in \u001B[0;36mmesh_simplify\u001B[1;34m(mesh, ratio, t)\u001B[0m\n\u001B[0;32m      4\u001B[0m vertices \u001B[38;5;241m=\u001B[39m np\u001B[38;5;241m.\u001B[39masarray(mesh\u001B[38;5;241m.\u001B[39mvertices)\n\u001B[0;32m      5\u001B[0m triangles \u001B[38;5;241m=\u001B[39m np\u001B[38;5;241m.\u001B[39masarray(mesh\u001B[38;5;241m.\u001B[39mtriangles)\n\u001B[1;32m----> 7\u001B[0m vertices_new, triangles_new \u001B[38;5;241m=\u001B[39m \u001B[43mremove_vertices3\u001B[49m\u001B[43m(\u001B[49m\u001B[43mvertices\u001B[49m\u001B[43m,\u001B[49m\u001B[43m \u001B[49m\u001B[43mtriangles\u001B[49m\u001B[43m,\u001B[49m\u001B[43m \u001B[49m\u001B[43mratio\u001B[49m\u001B[38;5;241;43m=\u001B[39;49m\u001B[43mratio\u001B[49m\u001B[43m,\u001B[49m\u001B[43m \u001B[49m\u001B[43mt\u001B[49m\u001B[38;5;241;43m=\u001B[39;49m\u001B[43mt\u001B[49m\u001B[43m)\u001B[49m\n\u001B[0;32m      9\u001B[0m mesh_new \u001B[38;5;241m=\u001B[39m o3d\u001B[38;5;241m.\u001B[39mgeometry\u001B[38;5;241m.\u001B[39mTriangleMesh()\n\u001B[0;32m     10\u001B[0m mesh_new\u001B[38;5;241m.\u001B[39mvertices \u001B[38;5;241m=\u001B[39m o3d\u001B[38;5;241m.\u001B[39mutility\u001B[38;5;241m.\u001B[39mVector3dVector(vertices_new)\n",
      "Input \u001B[1;32mIn [11]\u001B[0m, in \u001B[0;36mremove_vertices3\u001B[1;34m(vertices, triangles, ratio, t)\u001B[0m\n\u001B[0;32m      1\u001B[0m \u001B[38;5;28;01mdef\u001B[39;00m \u001B[38;5;21mremove_vertices3\u001B[39m(vertices, triangles, ratio, t):\n\u001B[1;32m----> 3\u001B[0m     valid_pairs \u001B[38;5;241m=\u001B[39m \u001B[43mselect_valid_pairs\u001B[49m\u001B[43m(\u001B[49m\u001B[43mvertices\u001B[49m\u001B[43m,\u001B[49m\u001B[43m \u001B[49m\u001B[43mtriangles\u001B[49m\u001B[43m,\u001B[49m\u001B[43m \u001B[49m\u001B[43mt\u001B[49m\u001B[38;5;241;43m=\u001B[39;49m\u001B[43mt\u001B[49m\u001B[43m)\u001B[49m\n\u001B[0;32m      4\u001B[0m     num_steps \u001B[38;5;241m=\u001B[39m \u001B[38;5;28mint\u001B[39m(\u001B[38;5;28mlen\u001B[39m(triangles) \u001B[38;5;241m*\u001B[39m (\u001B[38;5;241m1\u001B[39m \u001B[38;5;241m-\u001B[39m ratio) \u001B[38;5;241m/\u001B[39m \u001B[38;5;241m2\u001B[39m)\n\u001B[0;32m      5\u001B[0m     K_list \u001B[38;5;241m=\u001B[39m calculate_K(vertices, triangles)\n",
      "Input \u001B[1;32mIn [7]\u001B[0m, in \u001B[0;36mselect_valid_pairs\u001B[1;34m(vertices, triangles, t)\u001B[0m\n\u001B[0;32m      5\u001B[0m \u001B[38;5;28;01mfor\u001B[39;00m i \u001B[38;5;129;01min\u001B[39;00m tqdm(\u001B[38;5;28mrange\u001B[39m(\u001B[38;5;28mlen\u001B[39m(vertices))):\n\u001B[0;32m      6\u001B[0m     v \u001B[38;5;241m=\u001B[39m vertices[i]\n\u001B[1;32m----> 7\u001B[0m     distances \u001B[38;5;241m=\u001B[39m np\u001B[38;5;241m.\u001B[39msum((\u001B[43mvertices\u001B[49m\u001B[43m \u001B[49m\u001B[38;5;241;43m-\u001B[39;49m\u001B[43m \u001B[49m\u001B[43mv\u001B[49m) \u001B[38;5;241m*\u001B[39m\u001B[38;5;241m*\u001B[39m \u001B[38;5;241m2\u001B[39m, axis\u001B[38;5;241m=\u001B[39m\u001B[38;5;241m1\u001B[39m) \u001B[38;5;241m*\u001B[39m\u001B[38;5;241m*\u001B[39m \u001B[38;5;241m0.5\u001B[39m\n\u001B[0;32m      8\u001B[0m     valid \u001B[38;5;241m=\u001B[39m np\u001B[38;5;241m.\u001B[39mwhere(distances \u001B[38;5;241m<\u001B[39m t)[\u001B[38;5;241m0\u001B[39m]\n\u001B[0;32m      9\u001B[0m     pairs \u001B[38;5;241m=\u001B[39m np\u001B[38;5;241m.\u001B[39mvstack((np\u001B[38;5;241m.\u001B[39mones(\u001B[38;5;28mlen\u001B[39m(valid)) \u001B[38;5;241m*\u001B[39m i, valid))\u001B[38;5;241m.\u001B[39mT\n",
      "\u001B[1;31mKeyboardInterrupt\u001B[0m: "
     ]
    }
   ],
   "source": [
    "mesh_path = 'bunny.obj'\n",
    "mesh = o3d.io.read_triangle_mesh(mesh_path,True)\n",
    "\n",
    "mesh_new = mesh_simplify(mesh, ratio=0.05, t=0)\n",
    "o3d.io.write_triangle_mesh('torus_ratio0.05_t1.obj', mesh_new)"
   ]
  },
  {
   "cell_type": "code",
   "execution_count": null,
   "id": "7b0c1eb1-886a-43c8-851e-99891cdfa90c",
   "metadata": {
    "pycharm": {
     "name": "#%%\n"
    }
   },
   "outputs": [],
   "source": []
  }
 ],
 "metadata": {
  "kernelspec": {
   "display_name": "Python 3 (ipykernel)",
   "language": "python",
   "name": "python3"
  },
  "language_info": {
   "codemirror_mode": {
    "name": "ipython",
    "version": 3
   },
   "file_extension": ".py",
   "mimetype": "text/x-python",
   "name": "python",
   "nbconvert_exporter": "python",
   "pygments_lexer": "ipython3",
   "version": "3.9.12"
  }
 },
 "nbformat": 4,
 "nbformat_minor": 5
}