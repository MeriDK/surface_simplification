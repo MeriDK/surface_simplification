{
 "cells": [
  {
   "cell_type": "code",
   "execution_count": 44,
   "id": "a320757d-1cea-4067-a44a-9950ced16699",
   "metadata": {},
   "outputs": [],
   "source": [
    "import numpy as np\n",
    "import open3d as o3d\n",
    "import matplotlib.pyplot as plt\n",
    "from tqdm import tqdm\n",
    "import time"
   ]
  },
  {
   "cell_type": "code",
   "execution_count": 2,
   "id": "71f9efa1-a221-4e35-aaed-5a6fbb2ad46c",
   "metadata": {},
   "outputs": [],
   "source": [
    "def equation_plane(v0, v1, v2):\n",
    "    point_mat = np.array([v0, v1, v2])\n",
    "    abc = np.matmul(np.linalg.inv(point_mat), np.array([[1], [1], [1]]))\n",
    "    p = np.concatenate([abc.T, np.array(-1).reshape(1, 1)], axis=1) / (np.sum(abc ** 2) ** 0.5)\n",
    "    p = p.reshape(4)\n",
    "    \n",
    "    return p"
   ]
  },
  {
   "cell_type": "code",
   "execution_count": 196,
   "id": "108438a2-dff2-48ce-902f-3b55615192df",
   "metadata": {},
   "outputs": [
    {
     "data": {
      "text/plain": [
       "array([[-0.0109789 , -0.16954258,  0.17999909],\n",
       "       [-0.52340814,  0.2892106 ,  0.23517165],\n",
       "       [ 0.20746798, -0.08383146, -0.14434425]])"
      ]
     },
     "execution_count": 196,
     "metadata": {},
     "output_type": "execute_result"
    }
   ],
   "source": [
    "np.linalg.inv(np.array([vertices[0], vertices[1], vertices[2]]))"
   ]
  },
  {
   "cell_type": "code",
   "execution_count": 198,
   "id": "78388ecf-11dc-41da-8804-70ccd9b03b69",
   "metadata": {},
   "outputs": [
    {
     "data": {
      "text/plain": [
       "1.0"
      ]
     },
     "execution_count": 198,
     "metadata": {},
     "output_type": "execute_result"
    }
   ],
   "source": [
    "a, b, c, d = equation_plane(vertices[0], vertices[1], vertices[2])\n",
    "a ** 2 + b ** 2 + c ** 2"
   ]
  },
  {
   "cell_type": "code",
   "execution_count": 3,
   "id": "6c0ee39a-7091-43c1-9aa8-5fbb396a019b",
   "metadata": {},
   "outputs": [],
   "source": [
    "# calculate K\n",
    "def calculate_K(vertices, triangles):\n",
    "    K_list = []\n",
    "\n",
    "    for i in range(len(triangles)):\n",
    "        t = triangles[i]\n",
    "        v0, v1, v2 = vertices[t[0]], vertices[t[1]], vertices[t[2]]\n",
    "        p = equation_plane(v0, v1, v2)\n",
    "        K = np.outer(p, p)\n",
    "        K_list.append(K)\n",
    "                \n",
    "    return K_list"
   ]
  },
  {
   "cell_type": "code",
   "execution_count": 4,
   "id": "ebf70c65-ebc5-4916-a52e-37821e41356b",
   "metadata": {},
   "outputs": [],
   "source": [
    "# create dict {v_id: [t_id0, t_id1, ...]}\n",
    "def create_v_tr(triangles):\n",
    "    v_tr = {}\n",
    "\n",
    "    for i in range(len(triangles)):\n",
    "        t = triangles[i]\n",
    "        for v in t:\n",
    "            if v in v_tr:\n",
    "                v_tr[v].append(i)\n",
    "            else:\n",
    "                v_tr[v] = [i]\n",
    "                \n",
    "    return v_tr"
   ]
  },
  {
   "cell_type": "code",
   "execution_count": 5,
   "id": "9ca05d8a-63f6-4c4a-a365-1ce85e7f6ceb",
   "metadata": {},
   "outputs": [],
   "source": [
    "def calculate_Q(K_list, v_tr):\n",
    "    v_Q = {}\n",
    "\n",
    "    for v_id, tr_ids in v_tr.items():\n",
    "        Q = sum([K_list[el] for el in tr_ids])\n",
    "        v_Q[v_id] = Q\n",
    "        \n",
    "    return v_Q"
   ]
  },
  {
   "cell_type": "code",
   "execution_count": 6,
   "id": "86f78175-c874-497e-80f5-e7a13311f526",
   "metadata": {},
   "outputs": [],
   "source": [
    "def find_edges(triangles):\n",
    "    edge_1 = triangles[:, 0:2]\n",
    "    edge_2 = triangles[:, 1:]\n",
    "    edge_3 = np.concatenate([triangles[:, :1], triangles[:, -1:]], axis=1)\n",
    "    edges = np.concatenate([edge_1, edge_2, edge_3], axis=0)\n",
    "    \n",
    "    unique_edges_trans, unique_edges_locs = np.unique(edges[:, 0] * (10 ** 10) + edges[:, 1], return_index=True)\n",
    "    edges = edges[unique_edges_locs, :]\n",
    "    \n",
    "    return edges"
   ]
  },
  {
   "cell_type": "code",
   "execution_count": 7,
   "id": "198e5da3-c983-4ad7-a428-935b4e90977f",
   "metadata": {},
   "outputs": [],
   "source": [
    "def select_valid_pairs(vertices, triangles, t=0.001):\n",
    "    \n",
    "    valid_pairs = np.array([])\n",
    "    \n",
    "    for i in tqdm(range(len(vertices))):\n",
    "        v = vertices[i]\n",
    "        distances = np.sum((vertices - v) ** 2, axis=1) ** 0.5\n",
    "        valid = np.where(distances < t)[0]\n",
    "        pairs = np.vstack((np.ones(len(valid)) * i, valid)).T\n",
    "        \n",
    "        if i == 0:\n",
    "            valid_pairs = pairs\n",
    "        else:\n",
    "            valid_pairs = np.vstack((valid_pairs, pairs))\n",
    "\n",
    "    valid_pairs = valid_pairs[valid_pairs[:, 0] != valid_pairs[:, 1]]\n",
    "    valid_pairs = valid_pairs.astype(int)\n",
    "    \n",
    "    edges = find_edges(triangles)\n",
    "    valid_pairs = np.vstack((valid_pairs, edges))\n",
    "    \n",
    "    valid_pairs = valid_pairs[valid_pairs[:, 0] != valid_pairs[:, 1]]\n",
    "\n",
    "    unique_valid_pairs_trans, unique_valid_pairs_loc = np.unique(valid_pairs[:, 0] * (10 ** 10) + valid_pairs[:, 1], return_index=True)\n",
    "    valid_pairs = valid_pairs[unique_valid_pairs_loc, :]\n",
    "    \n",
    "    return valid_pairs"
   ]
  },
  {
   "cell_type": "code",
   "execution_count": 8,
   "id": "65f5a767-c976-4c58-a9ca-b1527e3c960c",
   "metadata": {},
   "outputs": [],
   "source": [
    "def select_valid_pairs3(vertices, triangles, t=0.001):\n",
    "        \n",
    "    edges = find_edges(triangles)\n",
    "    valid_pairs = edges\n",
    "    \n",
    "    valid_pairs = valid_pairs[valid_pairs[:, 0] != valid_pairs[:, 1]]\n",
    "\n",
    "    unique_valid_pairs_trans, unique_valid_pairs_loc = np.unique(valid_pairs[:, 0] * (10 ** 10) + valid_pairs[:, 1], return_index=True)\n",
    "    valid_pairs = valid_pairs[unique_valid_pairs_loc, :]\n",
    "    \n",
    "    return valid_pairs"
   ]
  },
  {
   "cell_type": "code",
   "execution_count": 185,
   "id": "e12aabf1-3c02-4516-b706-a5a4c23a1e7e",
   "metadata": {},
   "outputs": [
    {
     "name": "stderr",
     "output_type": "stream",
     "text": [
      "100%|██████████| 2002/2002 [00:00<00:00, 16112.62it/s]\n"
     ]
    }
   ],
   "source": [
    "valid_pairs = select_valid_pairs(vertices, triangles, t=1)"
   ]
  },
  {
   "cell_type": "code",
   "execution_count": 176,
   "id": "13e548bd-cf9a-422a-8eb2-ef52294819bd",
   "metadata": {},
   "outputs": [
    {
     "data": {
      "text/plain": [
       "(9722, 2)"
      ]
     },
     "execution_count": 176,
     "metadata": {},
     "output_type": "execute_result"
    }
   ],
   "source": [
    "find_edges(triangles).shape"
   ]
  },
  {
   "cell_type": "code",
   "execution_count": 186,
   "id": "a4b6ec02-31ad-4a4c-9fbf-78451e974f73",
   "metadata": {},
   "outputs": [
    {
     "data": {
      "text/plain": [
       "(9761, 2)"
      ]
     },
     "execution_count": 186,
     "metadata": {},
     "output_type": "execute_result"
    }
   ],
   "source": [
    "valid_pairs.shape"
   ]
  },
  {
   "cell_type": "code",
   "execution_count": 161,
   "id": "9b6247c2-81f5-46bd-a90a-d849f9e3728d",
   "metadata": {},
   "outputs": [
    {
     "name": "stderr",
     "output_type": "stream",
     "text": [
      "  0%|          | 0/2001 [00:00<?, ?it/s]\n"
     ]
    }
   ],
   "source": [
    "t = 1\n",
    "\n",
    "for i in tqdm(range(1, len(vertices))):\n",
    "    v = vertices[i]\n",
    "    distances = np.sum((vertices - v) ** 2, axis=1) ** 0.5\n",
    "    valid = np.where(distances < t)[0]\n",
    "    pairs = np.vstack((np.ones(len(valid)) * i, valid)).T\n",
    "    break"
   ]
  },
  {
   "cell_type": "code",
   "execution_count": 162,
   "id": "3633858b-6f80-48b8-a273-fdc7133fde7f",
   "metadata": {},
   "outputs": [
    {
     "data": {
      "text/plain": [
       "array([[1., 1.]])"
      ]
     },
     "execution_count": 162,
     "metadata": {},
     "output_type": "execute_result"
    }
   ],
   "source": [
    "pairs"
   ]
  },
  {
   "cell_type": "code",
   "execution_count": 150,
   "id": "066e9375-3806-4586-ba0b-2e845dc91358",
   "metadata": {},
   "outputs": [
    {
     "data": {
      "text/plain": [
       "(136, 2)"
      ]
     },
     "execution_count": 150,
     "metadata": {},
     "output_type": "execute_result"
    }
   ],
   "source": [
    "valid_pairs.shape"
   ]
  },
  {
   "cell_type": "code",
   "execution_count": 9,
   "id": "f5d3860d-7708-43b5-b4fb-a86129721cc0",
   "metadata": {},
   "outputs": [],
   "source": [
    "def select_valid_pairs2(vertices, v_tr, t=0.001):\n",
    "    \n",
    "    valid_pairs = []\n",
    "    \n",
    "    for i in tqdm(range(len(vertices))):\n",
    "        v = vertices[i]\n",
    "        distances = np.sum((vertices - v) ** 2, axis=1) ** 0.5\n",
    "        valid = np.where(distances < t)[0]\n",
    "        \n",
    "        for el in valid:\n",
    "            valid_pairs.append([i, el])\n",
    "    \n",
    "    valid_pairs = np.array(valid_pairs)\n",
    "    valid_pairs = valid_pairs[valid_pairs[:, 0] != valid_pairs[:, 1]]\n",
    "    valid_pairs = valid_pairs.astype(int)\n",
    "    \n",
    "    return valid_pairs"
   ]
  },
  {
   "cell_type": "code",
   "execution_count": 139,
   "id": "3cbabeb1-80d4-4bf6-a34f-442d1d9d8a3b",
   "metadata": {},
   "outputs": [
    {
     "data": {
      "text/plain": [
       "(12000, 3)"
      ]
     },
     "execution_count": 139,
     "metadata": {},
     "output_type": "execute_result"
    }
   ],
   "source": [
    "vertices.shape"
   ]
  },
  {
   "cell_type": "code",
   "execution_count": 135,
   "id": "405bc9ed-6173-44be-9262-3a49c80c49df",
   "metadata": {},
   "outputs": [
    {
     "name": "stderr",
     "output_type": "stream",
     "text": [
      "100%|██████████| 12000/12000 [00:02<00:00, 4318.80it/s]\n"
     ]
    }
   ],
   "source": [
    "valid_pairs = select_valid_pairs2(vertices, v_tr, t=1)"
   ]
  },
  {
   "cell_type": "code",
   "execution_count": 10,
   "id": "25369ff3-b3d0-4e72-960d-8f120f1373c1",
   "metadata": {},
   "outputs": [],
   "source": [
    "def calculate_error(valid_pairs, v_Q, vertices):\n",
    "    errors = []\n",
    "    \n",
    "    b = np.ones((vertices.shape[0], 1))\n",
    "    vertices_4d = np.hstack((vertices, b))\n",
    "\n",
    "    for i in range(len(valid_pairs)):\n",
    "        pair = valid_pairs[i]\n",
    "        v = (vertices_4d[pair[0]] - vertices_4d[pair[1]]) / 2\n",
    "        \n",
    "        try:\n",
    "            Q1 = v_Q[pair[0]]\n",
    "            Q2 = v_Q[pair[1]]\n",
    "            Q = Q1 + Q2\n",
    "        \n",
    "            error = np.dot(np.dot(v, Q), v.T)    \n",
    "        except KeyError:\n",
    "            error = 10 ** 10\n",
    "        \n",
    "        errors.append(error)\n",
    "        \n",
    "    return errors"
   ]
  },
  {
   "cell_type": "code",
   "execution_count": 11,
   "id": "7ab7d938-ec95-401a-bf43-d3bde5b31d3a",
   "metadata": {},
   "outputs": [],
   "source": [
    "def create_queue(valid_pairs, errors):\n",
    "    queue = np.hstack((valid_pairs, np.reshape(errors, (-1, 1))))\n",
    "    # queue = queue[queue[:, 2] != 10 ** 10]\n",
    "    queue = queue[np.argsort(queue[:, 2])]\n",
    "    \n",
    "    return queue"
   ]
  },
  {
   "cell_type": "code",
   "execution_count": 213,
   "id": "e26f8a22-2199-4e67-90e1-95ad4f09027c",
   "metadata": {},
   "outputs": [
    {
     "data": {
      "text/plain": [
       "array([[9.02000000e+02, 8.97000000e+02, 1.93389357e-02],\n",
       "       [8.97000000e+02, 9.02000000e+02, 1.93389357e-02],\n",
       "       [1.33200000e+03, 1.39700000e+03, 2.18379684e-02],\n",
       "       ...,\n",
       "       [1.78200000e+03, 1.81500000e+03, 1.31674490e+02],\n",
       "       [1.10000000e+01, 5.10000000e+01, 1.87732560e+02],\n",
       "       [5.10000000e+01, 1.10000000e+01, 1.87732560e+02]])"
      ]
     },
     "execution_count": 213,
     "metadata": {},
     "output_type": "execute_result"
    }
   ],
   "source": [
    "queue"
   ]
  },
  {
   "cell_type": "code",
   "execution_count": 12,
   "id": "46a90a18-55d2-4abc-b836-b099a7c306eb",
   "metadata": {},
   "outputs": [],
   "source": [
    "def remove_vertices(queue, vertices, triangles):\n",
    "    # v1_deleted = []\n",
    "    \n",
    "    # to remove vertice\n",
    "    for q in tqdm(queue):\n",
    "        v0, v1, error = q\n",
    "        v0, v1 = int(v0), int(v1)\n",
    "        \n",
    "        # update v_tr\n",
    "        v_tr = create_v_tr(triangles)\n",
    "\n",
    "        # if v0 not in v1_deleted and v1 not in v1_deleted:\n",
    "        # 1. update v1 values in vertices\n",
    "        vertices[v0] = (vertices[v0] + vertices[v1]) / 2\n",
    "\n",
    "        # 2. change v2 to v1 in planes\n",
    "        try:\n",
    "            for tr in v_tr[v1]:\n",
    "                triangles[tr][triangles[tr] == v1] = v0\n",
    "        except KeyError:\n",
    "            pass\n",
    "        \n",
    "        # 3. update cost for v1/v2\n",
    "        pass\n",
    "\n",
    "        # 4. remove v2 from cost\n",
    "        # v1_deleted.append(v1)\n",
    "\n",
    "        # 5. remove v2 from vertices\n",
    "        pass\n",
    "    \n",
    "    return vertices, triangles"
   ]
  },
  {
   "cell_type": "code",
   "execution_count": 17,
   "id": "da158f34-88dc-47cf-956a-e21ef1dbfa04",
   "metadata": {},
   "outputs": [],
   "source": [
    "def remove_one_vertice(v0, v1, vertices, triangles, v_tr):\n",
    "    vertices[v0] = (vertices[v0] + vertices[v1]) / 2\n",
    "\n",
    "    # 2. change v2 to v1 in planes\n",
    "    try:\n",
    "        for tr in v_tr[v1]:\n",
    "            triangles[tr][triangles[tr] == v1] = v0\n",
    "    except KeyError:\n",
    "        pass\n",
    "\n",
    "    return vertices, triangles"
   ]
  },
  {
   "cell_type": "code",
   "execution_count": 586,
   "id": "5c7c8edc-07f6-49e3-a4d1-d1f18c9e4520",
   "metadata": {},
   "outputs": [
    {
     "data": {
      "text/plain": [
       "(622, 2)"
      ]
     },
     "execution_count": 586,
     "metadata": {},
     "output_type": "execute_result"
    }
   ],
   "source": [
    "valid_pairs[~((valid_pairs[:, 0] == 564) | (valid_pairs[:, 1] == 564))].shape"
   ]
  },
  {
   "cell_type": "code",
   "execution_count": 587,
   "id": "04d1250b-4be5-4c9c-9a46-7c97e8f80a6c",
   "metadata": {},
   "outputs": [
    {
     "data": {
      "text/plain": [
       "(637, 2)"
      ]
     },
     "execution_count": 587,
     "metadata": {},
     "output_type": "execute_result"
    }
   ],
   "source": [
    "valid_pairs.shape"
   ]
  },
  {
   "cell_type": "code",
   "execution_count": 14,
   "id": "9a66cde8-987e-484f-9130-9ba23583375e",
   "metadata": {},
   "outputs": [],
   "source": [
    "def remove_vertices2(vertices, triangles, ratio=0.1):\n",
    "    init_triangles = len(triangles)\n",
    "    valid_pairs = select_valid_pairs(vertices, triangles, t=1)\n",
    "        \n",
    "    while len(triangles) > init_triangles * ratio:\n",
    "        K_list = calculate_K(vertices, triangles)\n",
    "        v_tr = create_v_tr(triangles)\n",
    "        v_Q = calculate_Q(K_list, v_tr)\n",
    "\n",
    "        errors = calculate_error(valid_pairs, v_Q, vertices)\n",
    "        queue = create_queue(valid_pairs, errors)\n",
    "\n",
    "        v0, v1, error = queue[0]\n",
    "        v0, v1 = int(v0), int(v1)\n",
    "\n",
    "        vertices, triangles = remove_one_vertice(v0, v1, vertices, triangles)\n",
    "        valid_pairs = valid_pairs[~((valid_pairs[:, 0] == v1) | (valid_pairs[:, 1] == v1))]\n",
    "\n",
    "        triangles = np.unique(triangles, axis=0)\n",
    "        triangles = triangles[(triangles[:, 0] != triangles[:, 1]) & (triangles[:, 1] != triangles[:, 2]) & (triangles[:, 2] != triangles[:, 0])]\n",
    "\n",
    "        print(len(triangles))\n",
    "        \n",
    "    return vertices, triangles"
   ]
  },
  {
   "cell_type": "code",
   "execution_count": 616,
   "id": "1157afcc-ecaf-44f8-a368-1d41241b051c",
   "metadata": {},
   "outputs": [
    {
     "name": "stdout",
     "output_type": "stream",
     "text": [
      "TriangleMesh with 600 points and 1200 triangles.\n"
     ]
    },
    {
     "name": "stderr",
     "output_type": "stream",
     "text": [
      "100%|██████████| 600/600 [00:00<00:00, 4081.32it/s]\n"
     ]
    },
    {
     "name": "stdout",
     "output_type": "stream",
     "text": [
      "1200\n",
      "1200\n",
      "1200\n",
      "1200\n",
      "1200\n",
      "1199\n",
      "1199\n",
      "1199\n",
      "1199\n"
     ]
    },
    {
     "ename": "KeyboardInterrupt",
     "evalue": "",
     "output_type": "error",
     "traceback": [
      "\u001b[1;31m---------------------------------------------------------------------------\u001b[0m",
      "\u001b[1;31mKeyboardInterrupt\u001b[0m                         Traceback (most recent call last)",
      "Input \u001b[1;32mIn [616]\u001b[0m, in \u001b[0;36m<cell line: 7>\u001b[1;34m()\u001b[0m\n\u001b[0;32m      4\u001b[0m vertices \u001b[38;5;241m=\u001b[39m np\u001b[38;5;241m.\u001b[39masarray(mesh4\u001b[38;5;241m.\u001b[39mvertices)\n\u001b[0;32m      5\u001b[0m triangles \u001b[38;5;241m=\u001b[39m np\u001b[38;5;241m.\u001b[39masarray(mesh4\u001b[38;5;241m.\u001b[39mtriangles)\n\u001b[1;32m----> 7\u001b[0m vertices, triangles \u001b[38;5;241m=\u001b[39m \u001b[43mremove_vertices2\u001b[49m\u001b[43m(\u001b[49m\u001b[43mvertices\u001b[49m\u001b[43m,\u001b[49m\u001b[43m \u001b[49m\u001b[43mtriangles\u001b[49m\u001b[43m,\u001b[49m\u001b[43m \u001b[49m\u001b[43mratio\u001b[49m\u001b[38;5;241;43m=\u001b[39;49m\u001b[38;5;241;43m0.1\u001b[39;49m\u001b[43m)\u001b[49m\n\u001b[0;32m      9\u001b[0m mesh5 \u001b[38;5;241m=\u001b[39m o3d\u001b[38;5;241m.\u001b[39mgeometry\u001b[38;5;241m.\u001b[39mTriangleMesh()\n\u001b[0;32m     10\u001b[0m mesh5\u001b[38;5;241m.\u001b[39mvertices \u001b[38;5;241m=\u001b[39m o3d\u001b[38;5;241m.\u001b[39mutility\u001b[38;5;241m.\u001b[39mVector3dVector(vertices)\n",
      "Input \u001b[1;32mIn [615]\u001b[0m, in \u001b[0;36mremove_vertices2\u001b[1;34m(vertices, triangles, ratio)\u001b[0m\n\u001b[0;32m      8\u001b[0m v_tr \u001b[38;5;241m=\u001b[39m create_v_tr(triangles)\n\u001b[0;32m      9\u001b[0m v_Q \u001b[38;5;241m=\u001b[39m calculate_Q(K_list, v_tr)\n\u001b[1;32m---> 11\u001b[0m errors \u001b[38;5;241m=\u001b[39m \u001b[43mcalculate_error\u001b[49m\u001b[43m(\u001b[49m\u001b[43mvalid_pairs\u001b[49m\u001b[43m,\u001b[49m\u001b[43m \u001b[49m\u001b[43mv_Q\u001b[49m\u001b[43m,\u001b[49m\u001b[43m \u001b[49m\u001b[43mvertices\u001b[49m\u001b[43m)\u001b[49m\n\u001b[0;32m     12\u001b[0m queue \u001b[38;5;241m=\u001b[39m create_queue(valid_pairs, errors)\n\u001b[0;32m     14\u001b[0m v0, v1, error \u001b[38;5;241m=\u001b[39m queue[\u001b[38;5;241m0\u001b[39m]\n",
      "Input \u001b[1;32mIn [10]\u001b[0m, in \u001b[0;36mcalculate_error\u001b[1;34m(valid_pairs, v_Q, vertices)\u001b[0m\n\u001b[0;32m     13\u001b[0m     Q2 \u001b[38;5;241m=\u001b[39m v_Q[pair[\u001b[38;5;241m1\u001b[39m]]\n\u001b[0;32m     14\u001b[0m     Q \u001b[38;5;241m=\u001b[39m Q1 \u001b[38;5;241m+\u001b[39m Q2\n\u001b[1;32m---> 16\u001b[0m     error \u001b[38;5;241m=\u001b[39m np\u001b[38;5;241m.\u001b[39mdot(\u001b[43mnp\u001b[49m\u001b[38;5;241;43m.\u001b[39;49m\u001b[43mdot\u001b[49m\u001b[43m(\u001b[49m\u001b[43mv\u001b[49m\u001b[43m,\u001b[49m\u001b[43m \u001b[49m\u001b[43mQ\u001b[49m\u001b[43m)\u001b[49m, v\u001b[38;5;241m.\u001b[39mT)    \n\u001b[0;32m     17\u001b[0m \u001b[38;5;28;01mexcept\u001b[39;00m \u001b[38;5;167;01mKeyError\u001b[39;00m:\n\u001b[0;32m     18\u001b[0m     error \u001b[38;5;241m=\u001b[39m \u001b[38;5;241m10\u001b[39m \u001b[38;5;241m*\u001b[39m\u001b[38;5;241m*\u001b[39m \u001b[38;5;241m10\u001b[39m\n",
      "File \u001b[1;32m<__array_function__ internals>:5\u001b[0m, in \u001b[0;36mdot\u001b[1;34m(*args, **kwargs)\u001b[0m\n",
      "\u001b[1;31mKeyboardInterrupt\u001b[0m: "
     ]
    }
   ],
   "source": [
    "mesh4 = o3d.geometry.TriangleMesh.create_torus()\n",
    "print(mesh4)\n",
    "\n",
    "vertices = np.asarray(mesh4.vertices)\n",
    "triangles = np.asarray(mesh4.triangles)\n",
    "\n",
    "vertices, triangles = remove_vertices2(vertices, triangles, ratio=0.1)\n",
    "\n",
    "mesh5 = o3d.geometry.TriangleMesh()\n",
    "mesh5.vertices = o3d.utility.Vector3dVector(vertices)\n",
    "mesh5.triangles = o3d.utility.Vector3iVector(triangles)\n",
    "\n",
    "mesh5.remove_unreferenced_vertices()\n",
    "\n",
    "print(mesh5)\n",
    "\n",
    "o3d.io.write_triangle_mesh('torus8.obj', mesh5)"
   ]
  },
  {
   "cell_type": "code",
   "execution_count": 597,
   "id": "fad7fc5e-3cec-4dee-a759-906a5b72ecf9",
   "metadata": {},
   "outputs": [
    {
     "name": "stdout",
     "output_type": "stream",
     "text": [
      "TriangleMesh with 600 points and 1200 triangles.\n"
     ]
    }
   ],
   "source": [
    "mesh4 = o3d.geometry.TriangleMesh.create_torus()\n",
    "print(mesh4)\n",
    "\n",
    "vertices = np.asarray(mesh4.vertices)\n",
    "triangles = np.asarray(mesh4.triangles)"
   ]
  },
  {
   "cell_type": "code",
   "execution_count": 43,
   "id": "6a6c76c4-bb90-4841-9c25-4c49c6aff1d8",
   "metadata": {},
   "outputs": [
    {
     "ename": "NameError",
     "evalue": "name 'errors' is not defined",
     "output_type": "error",
     "traceback": [
      "\u001b[1;31m---------------------------------------------------------------------------\u001b[0m",
      "\u001b[1;31mNameError\u001b[0m                                 Traceback (most recent call last)",
      "Input \u001b[1;32mIn [43]\u001b[0m, in \u001b[0;36m<cell line: 1>\u001b[1;34m()\u001b[0m\n\u001b[1;32m----> 1\u001b[0m \u001b[43merrors\u001b[49m\n",
      "\u001b[1;31mNameError\u001b[0m: name 'errors' is not defined"
     ]
    }
   ],
   "source": [
    "errors"
   ]
  },
  {
   "cell_type": "code",
   "execution_count": 164,
   "id": "6d434796-8f13-4acb-a583-1ae1b67426f6",
   "metadata": {},
   "outputs": [],
   "source": [
    "def update_queue(queue, v0, v1, v_Q, vertices):\n",
    "    # drop invalid pairs from queue for v1\n",
    "    queue = queue[~((queue[:, 0] == v1) | (queue[:, 1] == v1))]\n",
    "\n",
    "    # update error value for v0\n",
    "    value_pairs_to_update = queue[(queue[:, 0] == v0) | (queue[:, 1] == v0)][:, :2].astype(int)\n",
    "    errors_to_update = np.array(calculate_error(value_pairs_to_update, v_Q, vertices))\n",
    "\n",
    "    rows = np.argwhere((queue[:, 0] == v0) | (queue[:, 1] == v0))    \n",
    "    queue[rows, 2] = np.reshape(errors_to_update, (-1, 1))\n",
    "    \n",
    "    # sort again\n",
    "    queue = queue[np.argsort(queue[:, 2])]\n",
    "    \n",
    "    return queue"
   ]
  },
  {
   "cell_type": "code",
   "execution_count": 165,
   "id": "631c1a8f-b836-453d-9a38-352b3b347a78",
   "metadata": {},
   "outputs": [],
   "source": [
    "def remove_vertices3(vertices, triangles, ratio, t):\n",
    "\n",
    "    valid_pairs = select_valid_pairs(vertices, triangles, t=t)\n",
    "    num_steps = int(len(triangles) * (1 - ratio) / 2)\n",
    "    K_list = calculate_K(vertices, triangles)\n",
    "    v_tr = create_v_tr(triangles)\n",
    "    v_Q = calculate_Q(K_list, v_tr)\n",
    "    errors = calculate_error(valid_pairs, v_Q, vertices)\n",
    "    queue = create_queue(valid_pairs, errors)\n",
    "    \n",
    "    for i in tqdm(range(num_steps)):\n",
    "        \n",
    "        v0, v1, error = queue[0]\n",
    "        v0, v1 = int(v0), int(v1)\n",
    "        v_Q[v0] = v_Q[v0] + v_Q[v1]\n",
    "        del v_Q[v1]\n",
    "        \n",
    "        vertices, triangles = remove_one_vertice(v0, v1, vertices, triangles, v_tr)\n",
    "        valid_pairs = valid_pairs[~((valid_pairs[:, 0] == v1) | (valid_pairs[:, 1] == v1))]\n",
    "\n",
    "        triangles = np.unique(triangles, axis=0)\n",
    "        triangles = triangles[(triangles[:, 0] != triangles[:, 1]) & (triangles[:, 1] != triangles[:, 2]) & (triangles[:, 2] != triangles[:, 0])]\n",
    "\n",
    "        v_tr = create_v_tr(triangles)\n",
    "        queue = update_queue(queue, v0, v1, v_Q, vertices)\n",
    "        \n",
    "        if len(queue) == 0:\n",
    "            break\n",
    "\n",
    "    return vertices, triangles"
   ]
  },
  {
   "cell_type": "code",
   "execution_count": 168,
   "id": "e562ffd0-090f-4068-a86e-be14656aefe6",
   "metadata": {},
   "outputs": [
    {
     "name": "stdout",
     "output_type": "stream",
     "text": [
      "TriangleMesh with 600 points and 1200 triangles.\n"
     ]
    },
    {
     "name": "stderr",
     "output_type": "stream",
     "text": [
      "100%|██████████| 600/600 [00:00<00:00, 7679.63it/s]\n",
      "100%|██████████| 540/540 [00:02<00:00, 232.78it/s]\n"
     ]
    }
   ],
   "source": [
    "mesh4 = o3d.geometry.TriangleMesh.create_torus()\n",
    "print(mesh4)\n",
    "\n",
    "torus_v = np.asarray(mesh4.vertices)\n",
    "torus_tr = np.asarray(mesh4.triangles)\n",
    "\n",
    "torus_v2, torus_tr2 = remove_vertices3(torus_v, torus_tr, ratio=0.1, t=1)"
   ]
  },
  {
   "cell_type": "code",
   "execution_count": 169,
   "id": "499a731b-f47c-4201-afa1-5944d532f449",
   "metadata": {},
   "outputs": [
    {
     "name": "stdout",
     "output_type": "stream",
     "text": [
      "TriangleMesh with 60 points and 120 triangles.\n"
     ]
    },
    {
     "data": {
      "text/plain": [
       "True"
      ]
     },
     "execution_count": 169,
     "metadata": {},
     "output_type": "execute_result"
    }
   ],
   "source": [
    "mesh5 = o3d.geometry.TriangleMesh()\n",
    "mesh5.vertices = o3d.utility.Vector3dVector(torus_v2)\n",
    "mesh5.triangles = o3d.utility.Vector3iVector(torus_tr2)\n",
    "\n",
    "mesh5.remove_unreferenced_vertices()\n",
    "\n",
    "print(mesh5)\n",
    "\n",
    "o3d.io.write_triangle_mesh('torus11.obj', mesh5)"
   ]
  },
  {
   "cell_type": "code",
   "execution_count": 138,
   "id": "305abf73-b1dd-4506-af59-311286ef40de",
   "metadata": {},
   "outputs": [
    {
     "name": "stdout",
     "output_type": "stream",
     "text": [
      "TriangleMesh with 600 points and 1200 triangles.\n"
     ]
    },
    {
     "name": "stderr",
     "output_type": "stream",
     "text": [
      "100%|██████████| 600/600 [00:00<00:00, 4999.98it/s]\n"
     ]
    }
   ],
   "source": [
    "mesh4 = o3d.geometry.TriangleMesh.create_torus()\n",
    "print(mesh4)\n",
    "\n",
    "vertices = np.asarray(mesh4.vertices)\n",
    "triangles = np.asarray(mesh4.triangles)\n",
    "\n",
    "valid_pairs = select_valid_pairs(vertices, triangles, t=1)\n",
    "K_list = calculate_K(vertices, triangles)\n",
    "v_tr = create_v_tr(triangles)\n",
    "v_Q = calculate_Q(K_list, v_tr)"
   ]
  },
  {
   "cell_type": "code",
   "execution_count": 139,
   "id": "818bc0ae-bd6f-4da5-8d44-66ac03008fca",
   "metadata": {},
   "outputs": [
    {
     "name": "stdout",
     "output_type": "stream",
     "text": [
      "0.555889368057251\n",
      "0.01034855842590332\n",
      "0.0\n",
      "0.0040514469146728516\n",
      "0.0\n"
     ]
    }
   ],
   "source": [
    "t1 = time.time()\n",
    "errors = calculate_error(valid_pairs, v_Q, vertices)\n",
    "t2 = time.time()\n",
    "print(t2 - t1)\n",
    "\n",
    "queue = create_queue(valid_pairs, errors)\n",
    "t3 = time.time()\n",
    "print(t3 - t2)\n",
    "\n",
    "v0, v1, error = queue[0]\n",
    "v0, v1 = int(v0), int(v1)        \n",
    "vertices, triangles = remove_one_vertice(v0, v1, vertices, triangles, v_tr)\n",
    "valid_pairs = valid_pairs[~((valid_pairs[:, 0] == v1) | (valid_pairs[:, 1] == v1))]\n",
    "t4 = time.time()\n",
    "print(t4 - t3)\n",
    "\n",
    "triangles = np.unique(triangles, axis=0)\n",
    "triangles = triangles[(triangles[:, 0] != triangles[:, 1]) & (triangles[:, 1] != triangles[:, 2]) & (triangles[:, 2] != triangles[:, 0])]\n",
    "t5 = time.time()\n",
    "print(t5 - t4)\n",
    "\n",
    "v_tr = create_v_tr(triangles)\n",
    "t6 = time.time()\n",
    "print(t6 - t5)"
   ]
  },
  {
   "cell_type": "code",
   "execution_count": 140,
   "id": "8d460e22-2108-4f80-afc5-0963fe3d9422",
   "metadata": {},
   "outputs": [
    {
     "data": {
      "text/plain": [
       "(135, 155)"
      ]
     },
     "execution_count": 140,
     "metadata": {},
     "output_type": "execute_result"
    }
   ],
   "source": [
    "v0, v1, _ = queue[0].astype(int)\n",
    "v0, v1"
   ]
  },
  {
   "cell_type": "code",
   "execution_count": 141,
   "id": "f74bc7eb-b2ed-483b-a8aa-6d5cc8c48d6c",
   "metadata": {},
   "outputs": [
    {
     "data": {
      "text/plain": [
       "(86462, 3)"
      ]
     },
     "execution_count": 141,
     "metadata": {},
     "output_type": "execute_result"
    }
   ],
   "source": [
    "queue.shape"
   ]
  },
  {
   "cell_type": "code",
   "execution_count": 143,
   "id": "15619cc1-9c8d-4426-b652-f863aa00063b",
   "metadata": {},
   "outputs": [
    {
     "data": {
      "text/plain": [
       "array([[1.35000000e+02, 1.55000000e+02, 7.00966071e-05],\n",
       "       [1.55000000e+02, 1.35000000e+02, 7.00966071e-05],\n",
       "       [4.75000000e+02, 4.95000000e+02, 7.00966071e-05],\n",
       "       [4.95000000e+02, 4.75000000e+02, 7.00966071e-05],\n",
       "       [4.25000000e+02, 4.45000000e+02, 7.00966071e-05]])"
      ]
     },
     "execution_count": 143,
     "metadata": {},
     "output_type": "execute_result"
    }
   ],
   "source": [
    "queue[:5]"
   ]
  },
  {
   "cell_type": "code",
   "execution_count": 144,
   "id": "424aff7d-c52c-40d1-9125-e44e2fc88501",
   "metadata": {},
   "outputs": [
    {
     "data": {
      "text/plain": [
       "array([[1.35000000e+02, 1.55000000e+02, 7.00966071e-05],\n",
       "       [1.55000000e+02, 1.35000000e+02, 7.00966071e-05],\n",
       "       [1.15000000e+02, 1.35000000e+02, 7.00966071e-05],\n",
       "       [1.35000000e+02, 1.15000000e+02, 7.00966071e-05],\n",
       "       [1.35000000e+02, 1.75000000e+02, 6.82718614e-04]])"
      ]
     },
     "execution_count": 144,
     "metadata": {},
     "output_type": "execute_result"
    }
   ],
   "source": [
    "queue[(queue[:, 0] == v0) | (queue[:, 1] == v0)][:5]"
   ]
  },
  {
   "cell_type": "code",
   "execution_count": 146,
   "id": "e121df0c-ba9d-4183-b897-8869e993ca7b",
   "metadata": {},
   "outputs": [
    {
     "data": {
      "text/plain": [
       "(array([115, 135]), 0.00018971884785696578)"
      ]
     },
     "execution_count": 146,
     "metadata": {},
     "output_type": "execute_result"
    }
   ],
   "source": [
    "value_pairs_to_update[0], errors_to_update[0]"
   ]
  },
  {
   "cell_type": "code",
   "execution_count": 147,
   "id": "4011257a-f6d8-4715-8a20-18624ca47fb1",
   "metadata": {},
   "outputs": [
    {
     "data": {
      "text/plain": [
       "array([[1.15000000e+02, 1.35000000e+02, 1.89718848e-04],\n",
       "       [1.35000000e+02, 1.15000000e+02, 1.89718848e-04],\n",
       "       [1.35000000e+02, 1.75000000e+02, 3.92416720e-04],\n",
       "       [1.75000000e+02, 1.35000000e+02, 3.92416720e-04],\n",
       "       [9.50000000e+01, 1.35000000e+02, 1.12148461e-03]])"
      ]
     },
     "execution_count": 147,
     "metadata": {},
     "output_type": "execute_result"
    }
   ],
   "source": [
    "queue[(queue[:, 0] == v0) | (queue[:, 1] == v0)][:5]"
   ]
  },
  {
   "cell_type": "code",
   "execution_count": 148,
   "id": "6e4b581d-26d1-44db-8b84-ddecd95d3a13",
   "metadata": {},
   "outputs": [
    {
     "data": {
      "text/plain": [
       "array([[4.75000000e+02, 4.95000000e+02, 7.00966071e-05],\n",
       "       [4.95000000e+02, 4.75000000e+02, 7.00966071e-05],\n",
       "       [4.25000000e+02, 4.45000000e+02, 7.00966071e-05],\n",
       "       [4.45000000e+02, 4.25000000e+02, 7.00966071e-05],\n",
       "       [5.75000000e+02, 5.55000000e+02, 7.00966071e-05]])"
      ]
     },
     "execution_count": 148,
     "metadata": {},
     "output_type": "execute_result"
    }
   ],
   "source": [
    "queue[:5]"
   ]
  },
  {
   "cell_type": "code",
   "execution_count": 63,
   "id": "f1cd03a1-54d0-4b98-ac0b-6995cfc284ca",
   "metadata": {},
   "outputs": [],
   "source": [
    "def queue_to_dict(queue):\n",
    "    queue_d = {}\n",
    "    \n",
    "    for el in queue:\n",
    "        v0, v1, error = el\n",
    "        v0, v1 = int(v0), int(v1)\n",
    "        \n",
    "        queue_d[str(v0) + '_' + str(v1)] = error\n",
    "    \n",
    "    return queue_d"
   ]
  },
  {
   "cell_type": "code",
   "execution_count": 64,
   "id": "12169611-9e84-44da-8edd-98bdfb617b4f",
   "metadata": {},
   "outputs": [],
   "source": [
    "queue_d = queue_to_dict(queue)"
   ]
  },
  {
   "cell_type": "code",
   "execution_count": 65,
   "id": "f45d94ac-fd81-42e3-94da-98e51f3ed3e4",
   "metadata": {},
   "outputs": [
    {
     "data": {
      "text/plain": [
       "{'135_155': 7.009660706283341e-05,\n",
       " '155_135': 7.009660706283341e-05,\n",
       " '475_495': 7.009660706283536e-05,\n",
       " '495_475': 7.009660706283536e-05,\n",
       " '425_445': 7.009660706283585e-05,\n",
       " '445_425': 7.009660706283585e-05,\n",
       " '575_555': 7.009660706283914e-05,\n",
       " '555_575': 7.009660706283914e-05,\n",
       " '495_515': 7.009660706283922e-05,\n",
       " '515_495': 7.009660706283922e-05,\n",
       " '435_415': 7.009660706283964e-05,\n",
       " '415_435': 7.009660706283964e-05,\n",
       " '175_155': 7.009660706284005e-05,\n",
       " '155_175': 7.009660706284005e-05,\n",
       " '75_95': 7.009660706284018e-05,\n",
       " '95_75': 7.009660706284018e-05,\n",
       " '45_25': 7.009660706284028e-05,\n",
       " '25_45': 7.009660706284028e-05,\n",
       " '215_235': 7.009660706284036e-05,\n",
       " '235_215': 7.009660706284036e-05,\n",
       " '565_545': 7.009660706284039e-05,\n",
       " '545_565': 7.009660706284039e-05,\n",
       " '265_245': 7.009660706284068e-05,\n",
       " '245_265': 7.009660706284068e-05,\n",
       " '375_395': 7.009660706284078e-05,\n",
       " '395_375': 7.009660706284078e-05,\n",
       " '75_55': 7.009660706284078e-05,\n",
       " '55_75': 7.009660706284078e-05,\n",
       " '345_325': 7.009660706284089e-05,\n",
       " '325_345': 7.009660706284089e-05,\n",
       " '515_535': 7.00966070628409e-05,\n",
       " '535_515': 7.00966070628409e-05,\n",
       " '25_5': 7.009660706284092e-05,\n",
       " '5_25': 7.009660706284092e-05,\n",
       " '355_335': 7.009660706284092e-05,\n",
       " '335_355': 7.009660706284092e-05,\n",
       " '65_45': 7.009660706284097e-05,\n",
       " '45_65': 7.009660706284097e-05,\n",
       " '235_255': 7.009660706284098e-05,\n",
       " '255_235': 7.009660706284098e-05,\n",
       " '275_255': 7.009660706284113e-05,\n",
       " '255_275': 7.009660706284113e-05,\n",
       " '145_165': 7.009660706284117e-05,\n",
       " '165_145': 7.009660706284117e-05,\n",
       " '305_325': 7.009660706284125e-05,\n",
       " '325_305': 7.009660706284125e-05,\n",
       " '405_425': 7.009660706284125e-05,\n",
       " '425_405': 7.009660706284125e-05,\n",
       " '185_165': 7.009660706284127e-05,\n",
       " '165_185': 7.009660706284127e-05,\n",
       " '385_365': 7.009660706284131e-05,\n",
       " '365_385': 7.009660706284131e-05,\n",
       " '105_125': 7.009660706284135e-05,\n",
       " '125_105': 7.009660706284135e-05,\n",
       " '465_485': 7.00966070628414e-05,\n",
       " '485_465': 7.00966070628414e-05,\n",
       " '245_225': 7.00966070628415e-05,\n",
       " '225_245': 7.00966070628415e-05,\n",
       " '395_415': 7.009660706284157e-05,\n",
       " '415_395': 7.009660706284157e-05,\n",
       " '275_295': 7.009660706284157e-05,\n",
       " '295_275': 7.009660706284157e-05,\n",
       " '575_595': 7.009660706284163e-05,\n",
       " '595_575': 7.009660706284163e-05,\n",
       " '265_285': 7.009660706284169e-05,\n",
       " '285_265': 7.009660706284169e-05,\n",
       " '225_205': 7.009660706284171e-05,\n",
       " '205_225': 7.009660706284171e-05,\n",
       " '295_315': 7.009660706284177e-05,\n",
       " '315_295': 7.009660706284177e-05,\n",
       " '205_185': 7.009660706284182e-05,\n",
       " '185_205': 7.009660706284182e-05,\n",
       " '35_15': 7.009660706284184e-05,\n",
       " '15_35': 7.009660706284184e-05,\n",
       " '55_35': 7.009660706284192e-05,\n",
       " '35_55': 7.009660706284192e-05,\n",
       " '375_355': 7.0096607062842e-05,\n",
       " '355_375': 7.0096607062842e-05,\n",
       " '95_115': 7.009660706284216e-05,\n",
       " '115_95': 7.009660706284216e-05,\n",
       " '315_335': 7.009660706284218e-05,\n",
       " '335_315': 7.009660706284218e-05,\n",
       " '505_485': 7.009660706284222e-05,\n",
       " '485_505': 7.009660706284222e-05,\n",
       " '585_565': 7.009660706284222e-05,\n",
       " '565_585': 7.009660706284222e-05,\n",
       " '555_535': 7.009660706284223e-05,\n",
       " '535_555': 7.009660706284223e-05,\n",
       " '525_505': 7.009660706284235e-05,\n",
       " '505_525': 7.009660706284235e-05,\n",
       " '85_65': 7.009660706284237e-05,\n",
       " '65_85': 7.009660706284237e-05,\n",
       " '345_365': 7.009660706284239e-05,\n",
       " '365_345': 7.009660706284239e-05,\n",
       " '385_405': 7.009660706284243e-05,\n",
       " '405_385': 7.009660706284243e-05,\n",
       " '115_135': 7.009660706284255e-05,\n",
       " '135_115': 7.009660706284255e-05,\n",
       " '105_85': 7.009660706284261e-05,\n",
       " '85_105': 7.009660706284261e-05,\n",
       " '305_285': 7.009660706284265e-05,\n",
       " '285_305': 7.009660706284265e-05,\n",
       " '5_585': 7.009660706284284e-05,\n",
       " '585_5': 7.009660706284284e-05,\n",
       " '15_595': 7.00966070628429e-05,\n",
       " '595_15': 7.00966070628429e-05,\n",
       " '455_435': 7.009660706284296e-05,\n",
       " '435_455': 7.009660706284296e-05,\n",
       " '545_525': 7.009660706284299e-05,\n",
       " '525_545': 7.009660706284299e-05,\n",
       " '445_465': 7.009660706284303e-05,\n",
       " '465_445': 7.009660706284303e-05,\n",
       " '145_125': 7.009660706284316e-05,\n",
       " '125_145': 7.009660706284316e-05,\n",
       " '215_195': 7.009660706284342e-05,\n",
       " '195_215': 7.009660706284342e-05,\n",
       " '455_475': 7.00966070628449e-05,\n",
       " '475_455': 7.00966070628449e-05,\n",
       " '195_175': 7.009660706284953e-05,\n",
       " '175_195': 7.009660706284953e-05,\n",
       " '134_154': 0.0002356474389473217,\n",
       " '154_134': 0.0002356474389473217,\n",
       " '494_514': 0.00023564743894732463,\n",
       " '514_494': 0.00023564743894732463,\n",
       " '146_126': 0.00023564743894732571,\n",
       " '126_146': 0.00023564743894732571,\n",
       " '94_114': 0.0002356474389473261,\n",
       " '114_94': 0.0002356474389473261,\n",
       " '434_454': 0.00023564743894732658,\n",
       " '454_434': 0.00023564743894732658,\n",
       " '206_226': 0.00023564743894732707,\n",
       " '226_206': 0.00023564743894732707,\n",
       " '506_486': 0.00023564743894732783,\n",
       " '486_506': 0.00023564743894732783,\n",
       " '466_486': 0.00023564743894732807,\n",
       " '486_466': 0.00023564743894732807,\n",
       " '446_426': 0.0002356474389473281,\n",
       " '426_446': 0.0002356474389473281,\n",
       " '66_86': 0.00023564743894732837,\n",
       " '86_66': 0.00023564743894732837,\n",
       " '546_566': 0.0002356474389473284,\n",
       " '566_546': 0.0002356474389473284,\n",
       " '574_594': 0.00023564743894732902,\n",
       " '594_574': 0.00023564743894732902,\n",
       " '366_386': 0.00023564743894732924,\n",
       " '386_366': 0.00023564743894732924,\n",
       " '354_334': 0.0002356474389473293,\n",
       " '334_354': 0.0002356474389473293,\n",
       " '394_414': 0.0002356474389473294,\n",
       " '414_394': 0.0002356474389473294,\n",
       " '54_34': 0.00023564743894732962,\n",
       " '34_54': 0.00023564743894732962,\n",
       " '126_106': 0.00023564743894732967,\n",
       " '106_126': 0.00023564743894732967,\n",
       " '246_226': 0.00023564743894732986,\n",
       " '226_246': 0.00023564743894732986,\n",
       " '394_374': 0.0002356474389473299,\n",
       " '374_394': 0.0002356474389473299,\n",
       " '366_346': 0.00023564743894732992,\n",
       " '266_246': 0.00023564743894732992,\n",
       " '246_266': 0.00023564743894732992,\n",
       " '346_366': 0.00023564743894732992,\n",
       " '574_554': 0.00023564743894732994,\n",
       " '554_574': 0.00023564743894732994,\n",
       " '434_414': 0.00023564743894732997,\n",
       " '326_306': 0.00023564743894732997,\n",
       " '306_326': 0.00023564743894732997,\n",
       " '414_434': 0.00023564743894732997,\n",
       " '54_74': 0.00023564743894733005,\n",
       " '74_54': 0.00023564743894733005,\n",
       " '234_214': 0.00023564743894733008,\n",
       " '214_234': 0.00023564743894733008,\n",
       " '294_274': 0.00023564743894733016,\n",
       " '274_294': 0.00023564743894733016,\n",
       " '314_334': 0.0002356474389473304,\n",
       " '334_314': 0.0002356474389473304,\n",
       " '286_266': 0.00023564743894733043,\n",
       " '266_286': 0.00023564743894733043,\n",
       " '106_86': 0.0002356474389473305,\n",
       " '86_106': 0.0002356474389473305,\n",
       " '194_214': 0.00023564743894733062,\n",
       " '214_194': 0.00023564743894733062,\n",
       " '534_514': 0.0002356474389473307,\n",
       " '514_534': 0.0002356474389473307,\n",
       " '6_26': 0.00023564743894733076,\n",
       " '26_6': 0.00023564743894733076,\n",
       " '446_466': 0.0002356474389473309,\n",
       " '466_446': 0.0002356474389473309,\n",
       " '386_406': 0.00023564743894733092,\n",
       " '406_386': 0.00023564743894733092,\n",
       " '14_34': 0.00023564743894733114,\n",
       " '34_14': 0.00023564743894733114,\n",
       " '566_586': 0.00023564743894733127,\n",
       " '586_566': 0.00023564743894733127,\n",
       " '346_326': 0.00023564743894733135,\n",
       " '326_346': 0.00023564743894733135,\n",
       " '74_94': 0.0002356474389473314,\n",
       " '94_74': 0.0002356474389473314,\n",
       " '286_306': 0.00023564743894733146,\n",
       " '306_286': 0.00023564743894733146,\n",
       " '174_194': 0.00023564743894733157,\n",
       " '194_174': 0.00023564743894733157,\n",
       " '274_254': 0.0002356474389473316,\n",
       " '254_274': 0.0002356474389473316,\n",
       " '66_46': 0.00023564743894733162,\n",
       " '294_314': 0.00023564743894733162,\n",
       " '314_294': 0.00023564743894733162,\n",
       " '46_66': 0.00023564743894733162,\n",
       " '254_234': 0.0002356474389473317,\n",
       " '234_254': 0.0002356474389473317,\n",
       " '154_174': 0.00023564743894733203,\n",
       " '174_154': 0.00023564743894733203,\n",
       " '134_114': 0.00023564743894733206,\n",
       " '114_134': 0.00023564743894733206,\n",
       " '46_26': 0.00023564743894733208,\n",
       " '26_46': 0.00023564743894733208,\n",
       " '206_186': 0.00023564743894733236,\n",
       " '186_206': 0.00023564743894733236,\n",
       " '586_6': 0.00023564743894733254,\n",
       " '6_586': 0.00023564743894733254,\n",
       " '546_526': 0.0002356474389473331,\n",
       " '526_546': 0.0002356474389473331,\n",
       " '506_526': 0.00023564743894733336,\n",
       " '526_506': 0.00023564743894733336,\n",
       " '554_534': 0.0002356474389473334,\n",
       " '534_554': 0.0002356474389473334,\n",
       " '374_354': 0.0002356474389473336,\n",
       " '354_374': 0.0002356474389473336,\n",
       " '166_146': 0.00023564743894733404,\n",
       " '146_166': 0.00023564743894733404,\n",
       " '14_594': 0.0002356474389473341,\n",
       " '594_14': 0.0002356474389473341,\n",
       " '186_166': 0.00023564743894733414,\n",
       " '166_186': 0.00023564743894733414,\n",
       " '454_474': 0.00023564743894733423,\n",
       " '474_454': 0.00023564743894733423,\n",
       " '426_406': 0.00023564743894733675,\n",
       " '406_426': 0.00023564743894733675,\n",
       " '474_494': 0.0002356474389473397,\n",
       " '494_474': 0.0002356474389473397,\n",
       " '156_136': 0.0004393781914463057,\n",
       " '136_156': 0.0004393781914463057,\n",
       " '476_496': 0.0004393781914463062,\n",
       " '496_476': 0.0004393781914463062,\n",
       " '556_576': 0.00043937819144630773,\n",
       " '576_556': 0.00043937819144630773,\n",
       " '384_364': 0.0004393781914463079,\n",
       " '364_384': 0.0004393781914463079,\n",
       " '484_504': 0.00043937819144630904,\n",
       " '504_484': 0.00043937819144630904,\n",
       " '436_456': 0.00043937819144630985,\n",
       " '456_436': 0.00043937819144630985,\n",
       " '476_456': 0.00043937819144631,\n",
       " '456_476': 0.00043937819144631,\n",
       " '416_436': 0.0004393781914463102,\n",
       " '436_416': 0.0004393781914463102,\n",
       " '36_56': 0.00043937819144631034,\n",
       " '56_36': 0.00043937819144631034,\n",
       " '376_396': 0.0004393781914463106,\n",
       " '396_376': 0.0004393781914463106,\n",
       " '444_424': 0.000439378191446311,\n",
       " '424_444': 0.000439378191446311,\n",
       " '196_216': 0.00043937819144631115,\n",
       " '216_196': 0.00043937819144631115,\n",
       " '324_304': 0.00043937819144631137,\n",
       " '304_324': 0.00043937819144631137,\n",
       " '384_404': 0.00043937819144631164,\n",
       " '404_384': 0.00043937819144631164,\n",
       " '136_116': 0.00043937819144631185,\n",
       " '116_136': 0.00043937819144631185,\n",
       " '336_316': 0.00043937819144631234,\n",
       " '316_336': 0.00043937819144631234,\n",
       " '336_356': 0.00043937819144631256,\n",
       " '356_336': 0.00043937819144631256,\n",
       " '84_104': 0.00043937819144631337,\n",
       " '104_84': 0.00043937819144631337,\n",
       " '96_116': 0.0004393781914463135,\n",
       " '116_96': 0.0004393781914463135,\n",
       " '124_144': 0.0004393781914463136,\n",
       " '144_124': 0.0004393781914463136,\n",
       " '204_224': 0.00043937819144631364,\n",
       " '224_204': 0.00043937819144631364,\n",
       " '96_76': 0.0004393781914463138,\n",
       " '76_96': 0.0004393781914463138,\n",
       " '376_356': 0.00043937819144631413,\n",
       " '356_376': 0.00043937819144631413,\n",
       " '544_564': 0.00043937819144631435,\n",
       " '164_184': 0.00043937819144631435,\n",
       " '564_544': 0.00043937819144631435,\n",
       " '184_164': 0.00043937819144631435,\n",
       " '416_396': 0.00043937819144631446,\n",
       " '396_416': 0.00043937819144631446,\n",
       " '224_244': 0.00043937819144631446,\n",
       " '244_224': 0.00043937819144631446,\n",
       " '84_64': 0.0004393781914463145,\n",
       " '64_84': 0.0004393781914463145,\n",
       " '236_216': 0.00043937819144631473,\n",
       " '216_236': 0.00043937819144631473,\n",
       " '44_64': 0.00043937819144631576,\n",
       " '64_44': 0.00043937819144631576,\n",
       " '556_536': 0.0004393781914463158,\n",
       " '536_556': 0.0004393781914463158,\n",
       " '16_36': 0.000439378191446316,\n",
       " '36_16': 0.000439378191446316,\n",
       " '104_124': 0.0004393781914463161,\n",
       " '124_104': 0.0004393781914463161,\n",
       " '264_244': 0.00043937819144631625,\n",
       " '244_264': 0.00043937819144631625,\n",
       " '584_564': 0.00043937819144631635,\n",
       " '564_584': 0.00043937819144631635,\n",
       " '56_76': 0.0004393781914463166,\n",
       " '76_56': 0.0004393781914463166,\n",
       " '504_524': 0.0004393781914463167,\n",
       " '524_504': 0.0004393781914463167,\n",
       " '516_536': 0.0004393781914463169,\n",
       " '536_516': 0.0004393781914463169,\n",
       " '24_4': 0.00043937819144631695,\n",
       " '4_24': 0.00043937819144631695,\n",
       " '276_256': 0.000439378191446317,\n",
       " '256_276': 0.000439378191446317,\n",
       " '256_236': 0.0004393781914463174,\n",
       " '236_256': 0.0004393781914463174,\n",
       " '404_424': 0.00043937819144631776,\n",
       " '24_44': 0.00043937819144631776,\n",
       " '424_404': 0.00043937819144631776,\n",
       " '44_24': 0.00043937819144631776,\n",
       " '276_296': 0.0004393781914463178,\n",
       " '296_276': 0.0004393781914463178,\n",
       " '484_464': 0.0004393781914463179,\n",
       " '464_484': 0.0004393781914463179,\n",
       " '596_576': 0.00043937819144631836,\n",
       " '576_596': 0.00043937819144631836,\n",
       " '296_316': 0.0004393781914463184,\n",
       " '316_296': 0.0004393781914463184,\n",
       " '284_264': 0.00043937819144631863,\n",
       " '264_284': 0.00043937819144631863,\n",
       " '344_324': 0.0004393781914463191,\n",
       " '324_344': 0.0004393781914463191,\n",
       " '344_364': 0.0004393781914463202,\n",
       " '364_344': 0.0004393781914463202,\n",
       " '304_284': 0.00043937819144632037,\n",
       " '284_304': 0.00043937819144632037,\n",
       " '496_516': 0.0004393781914463212,\n",
       " '516_496': 0.0004393781914463212,\n",
       " '444_464': 0.00043937819144632253,\n",
       " '464_444': 0.00043937819144632253,\n",
       " '584_4': 0.0004393781914463228,\n",
       " '4_584': 0.0004393781914463228,\n",
       " '524_544': 0.00043937819144632324,\n",
       " '544_524': 0.00043937819144632324,\n",
       " '176_196': 0.000439378191446324,\n",
       " '196_176': 0.000439378191446324,\n",
       " '596_16': 0.00043937819144632465,\n",
       " '16_596': 0.00043937819144632465,\n",
       " '184_204': 0.0004393781914463251,\n",
       " '204_184': 0.0004393781914463251,\n",
       " '164_144': 0.00043937819144632584,\n",
       " '144_164': 0.00043937819144632584,\n",
       " '156_176': 0.00043937819144632633,\n",
       " '176_156': 0.00043937819144632633,\n",
       " '147_127': 0.0005020534776122251,\n",
       " '127_147': 0.0005020534776122251,\n",
       " '453_433': 0.0005020534776122305,\n",
       " '433_453': 0.0005020534776122305,\n",
       " '133_153': 0.0005020534776122307,\n",
       " '153_133': 0.0005020534776122307,\n",
       " '507_487': 0.0005020534776122317,\n",
       " '487_507': 0.0005020534776122317,\n",
       " '447_427': 0.0005020534776122329,\n",
       " '427_447': 0.0005020534776122329,\n",
       " '213_233': 0.000502053477612233,\n",
       " '233_213': 0.000502053477612233,\n",
       " '67_87': 0.0005020534776122331,\n",
       " '87_67': 0.0005020534776122331,\n",
       " '187_207': 0.000502053477612234,\n",
       " '207_187': 0.000502053477612234,\n",
       " '513_493': 0.0005020534776122346,\n",
       " '493_513': 0.0005020534776122346,\n",
       " '573_553': 0.0005020534776122352,\n",
       " '553_573': 0.0005020534776122352,\n",
       " '207_227': 0.0005020534776122354,\n",
       " '227_207': 0.0005020534776122354,\n",
       " '313_333': 0.0005020534776122355,\n",
       " '333_313': 0.0005020534776122355,\n",
       " '567_547': 0.0005020534776122358,\n",
       " '547_567': 0.0005020534776122358,\n",
       " '33_53': 0.000502053477612236,\n",
       " '53_33': 0.000502053477612236,\n",
       " '387_367': 0.0005020534776122362,\n",
       " '367_387': 0.0005020534776122362,\n",
       " '247_267': 0.0005020534776122366,\n",
       " '267_247': 0.0005020534776122366,\n",
       " '327_307': 0.0005020534776122369,\n",
       " '307_327': 0.0005020534776122369,\n",
       " '407_427': 0.0005020534776122371,\n",
       " '427_407': 0.0005020534776122371,\n",
       " '273_293': 0.0005020534776122372,\n",
       " '293_273': 0.0005020534776122372,\n",
       " '333_353': 0.0005020534776122372,\n",
       " '353_333': 0.0005020534776122372,\n",
       " '87_107': 0.0005020534776122375,\n",
       " '107_87': 0.0005020534776122375,\n",
       " '513_533': 0.0005020534776122379,\n",
       " '267_287': 0.0005020534776122379,\n",
       " '533_513': 0.0005020534776122379,\n",
       " '287_267': 0.0005020534776122379,\n",
       " '527_507': 0.0005020534776122384,\n",
       " '507_527': 0.0005020534776122384,\n",
       " '93_113': 0.0005020534776122384,\n",
       " '113_93': 0.0005020534776122384,\n",
       " '33_13': 0.0005020534776122385,\n",
       " '413_433': 0.0005020534776122385,\n",
       " '433_413': 0.0005020534776122385,\n",
       " '13_33': 0.0005020534776122385,\n",
       " '493_473': 0.0005020534776122386,\n",
       " '473_493': 0.0005020534776122386,\n",
       " '327_347': 0.0005020534776122388,\n",
       " '413_393': 0.0005020534776122388,\n",
       " '253_233': 0.0005020534776122388,\n",
       " '233_253': 0.0005020534776122388,\n",
       " '73_53': 0.0005020534776122388,\n",
       " '53_73': 0.0005020534776122388,\n",
       " '347_327': 0.0005020534776122388,\n",
       " '393_413': 0.0005020534776122388,\n",
       " '393_373': 0.000502053477612239,\n",
       " '373_393': 0.000502053477612239,\n",
       " '227_247': 0.0005020534776122392,\n",
       " '247_227': 0.0005020534776122392,\n",
       " '593_573': 0.0005020534776122393,\n",
       " '193_213': 0.0005020534776122393,\n",
       " '573_593': 0.0005020534776122393,\n",
       " '213_193': 0.0005020534776122393,\n",
       " '347_367': 0.0005020534776122394,\n",
       " '367_347': 0.0005020534776122394,\n",
       " '67_47': 0.0005020534776122394,\n",
       " '7_27': 0.0005020534776122394,\n",
       " '27_7': 0.0005020534776122394,\n",
       " '47_67': 0.0005020534776122394,\n",
       " '467_487': 0.0005020534776122398,\n",
       " '487_467': 0.0005020534776122398,\n",
       " '133_113': 0.0005020534776122401,\n",
       " '113_133': 0.0005020534776122401,\n",
       " '127_107': 0.0005020534776122404,\n",
       " '107_127': 0.0005020534776122404,\n",
       " '587_567': 0.0005020534776122405,\n",
       " '567_587': 0.0005020534776122405,\n",
       " '273_253': 0.0005020534776122409,\n",
       " '253_273': 0.0005020534776122409,\n",
       " '7_587': 0.000502053477612241,\n",
       " '587_7': 0.000502053477612241,\n",
       " '73_93': 0.0005020534776122411,\n",
       " '93_73': 0.0005020534776122411,\n",
       " '153_173': 0.0005020534776122414,\n",
       " '173_153': 0.0005020534776122414,\n",
       " '287_307': 0.0005020534776122417,\n",
       " '307_287': 0.0005020534776122417,\n",
       " '27_47': 0.0005020534776122417,\n",
       " '47_27': 0.0005020534776122417,\n",
       " '547_527': 0.0005020534776122418,\n",
       " '527_547': 0.0005020534776122418,\n",
       " '293_313': 0.0005020534776122419,\n",
       " '313_293': 0.0005020534776122419,\n",
       " '353_373': 0.000502053477612242,\n",
       " '373_353': 0.000502053477612242,\n",
       " '467_447': 0.0005020534776122425,\n",
       " '447_467': 0.0005020534776122425,\n",
       " '533_553': 0.0005020534776122428,\n",
       " '387_407': 0.0005020534776122428,\n",
       " '407_387': 0.0005020534776122428,\n",
       " '553_533': 0.0005020534776122428,\n",
       " '453_473': 0.0005020534776122431,\n",
       " '473_453': 0.0005020534776122431,\n",
       " '167_147': 0.0005020534776122436,\n",
       " '147_167': 0.0005020534776122436,\n",
       " '13_593': 0.0005020534776122451,\n",
       " '593_13': 0.0005020534776122451,\n",
       " '167_187': 0.0005020534776122461,\n",
       " '187_167': 0.0005020534776122461,\n",
       " '173_193': 0.0005020534776122497,\n",
       " '193_173': 0.0005020534776122497,\n",
       " '132_152': 0.0006524064301482917,\n",
       " '152_132': 0.0006524064301482917,\n",
       " '448_428': 0.0006524064301482924,\n",
       " '428_448': 0.0006524064301482924,\n",
       " '148_128': 0.0006524064301482951,\n",
       " '128_148': 0.0006524064301482951,\n",
       " '488_508': 0.0006524064301482955,\n",
       " '508_488': 0.0006524064301482955,\n",
       " '232_212': 0.0006524064301482961,\n",
       " '212_232': 0.0006524064301482961,\n",
       " '188_208': 0.0006524064301482963,\n",
       " '208_188': 0.0006524064301482963,\n",
       " '392_372': 0.000652406430148298,\n",
       " '372_392': 0.000652406430148298,\n",
       " '568_548': 0.000652406430148298,\n",
       " '548_568': 0.000652406430148298,\n",
       " '172_152': 0.0006524064301482987,\n",
       " '412_392': 0.0006524064301482987,\n",
       " '152_172': 0.0006524064301482987,\n",
       " '392_412': 0.0006524064301482987,\n",
       " '492_512': 0.0006524064301482988,\n",
       " '512_492': 0.0006524064301482988,\n",
       " '88_68': 0.0006524064301482997,\n",
       " '68_88': 0.0006524064301482997,\n",
       " '228_208': 0.0006524064301482997,\n",
       " '208_228': 0.0006524064301482997,\n",
       " '308_328': 0.0006524064301482998,\n",
       " '328_308': 0.0006524064301482998,\n",
       " '332_312': 0.0006524064301482999,\n",
       " '312_332': 0.0006524064301482999,\n",
       " '552_572': 0.0006524064301483,\n",
       " '572_552': 0.0006524064301483,\n",
       " '388_368': 0.0006524064301483001,\n",
       " '368_388': 0.0006524064301483001,\n",
       " '32_52': 0.0006524064301483008,\n",
       " '52_32': 0.0006524064301483008,\n",
       " '68_48': 0.0006524064301483009,\n",
       " '48_68': 0.0006524064301483009,\n",
       " '292_272': 0.000652406430148301,\n",
       " '272_292': 0.000652406430148301,\n",
       " '408_428': 0.0006524064301483011,\n",
       " '428_408': 0.0006524064301483011,\n",
       " '112_92': 0.0006524064301483012,\n",
       " '92_112': 0.0006524064301483012,\n",
       " '92_72': 0.0006524064301483015,\n",
       " '72_92': 0.0006524064301483015,\n",
       " '348_368': 0.0006524064301483021,\n",
       " '368_348': 0.0006524064301483021,\n",
       " '272_252': 0.0006524064301483022,\n",
       " '252_272': 0.0006524064301483022,\n",
       " '128_108': 0.0006524064301483023,\n",
       " '352_332': 0.0006524064301483023,\n",
       " '108_128': 0.0006524064301483023,\n",
       " '332_352': 0.0006524064301483023,\n",
       " '112_132': 0.0006524064301483025,\n",
       " '528_548': 0.0006524064301483025,\n",
       " '132_112': 0.0006524064301483025,\n",
       " '548_528': 0.0006524064301483025,\n",
       " '72_52': 0.000652406430148303,\n",
       " '52_72': 0.000652406430148303,\n",
       " '348_328': 0.0006524064301483031,\n",
       " '328_348': 0.0006524064301483031,\n",
       " '528_508': 0.0006524064301483032,\n",
       " '412_432': 0.0006524064301483032,\n",
       " '432_412': 0.0006524064301483032,\n",
       " '508_528': 0.0006524064301483032,\n",
       " '168_148': 0.0006524064301483033,\n",
       " '532_512': 0.0006524064301483033,\n",
       " '512_532': 0.0006524064301483033,\n",
       " '148_168': 0.0006524064301483033,\n",
       " '268_288': 0.0006524064301483034,\n",
       " '308_288': 0.0006524064301483034,\n",
       " '288_308': 0.0006524064301483034,\n",
       " '288_268': 0.0006524064301483034,\n",
       " '248_268': 0.0006524064301483036,\n",
       " '268_248': 0.0006524064301483036,\n",
       " '212_192': 0.0006524064301483037,\n",
       " '192_212': 0.0006524064301483037,\n",
       " '108_88': 0.0006524064301483038,\n",
       " '408_388': 0.0006524064301483038,\n",
       " '388_408': 0.0006524064301483038,\n",
       " '572_592': 0.0006524064301483038,\n",
       " '88_108': 0.0006524064301483038,\n",
       " '592_572': 0.0006524064301483038,\n",
       " '492_472': 0.0006524064301483039,\n",
       " '472_492': 0.0006524064301483039,\n",
       " '28_8': 0.000652406430148304,\n",
       " '8_28': 0.000652406430148304,\n",
       " '472_452': 0.0006524064301483041,\n",
       " '452_472': 0.0006524064301483041,\n",
       " '252_232': 0.0006524064301483046,\n",
       " '232_252': 0.0006524064301483046,\n",
       " '372_352': 0.0006524064301483047,\n",
       " '352_372': 0.0006524064301483047,\n",
       " '12_32': 0.000652406430148305,\n",
       " '32_12': 0.000652406430148305,\n",
       " '588_8': 0.0006524064301483051,\n",
       " '8_588': 0.0006524064301483051,\n",
       " '452_432': 0.0006524064301483052,\n",
       " '432_452': 0.0006524064301483052,\n",
       " '28_48': 0.0006524064301483057,\n",
       " '48_28': 0.0006524064301483057,\n",
       " '588_568': 0.0006524064301483062,\n",
       " '568_588': 0.0006524064301483062,\n",
       " '488_468': 0.0006524064301483065,\n",
       " '468_488': 0.0006524064301483065,\n",
       " '312_292': 0.000652406430148307,\n",
       " '292_312': 0.000652406430148307,\n",
       " '228_248': 0.0006524064301483071,\n",
       " '248_228': 0.0006524064301483071,\n",
       " '592_12': 0.0006524064301483088,\n",
       " '12_592': 0.0006524064301483088,\n",
       " '552_532': 0.0006524064301483089,\n",
       " '532_552': 0.0006524064301483089,\n",
       " '168_188': 0.0006524064301483124,\n",
       " '188_168': 0.0006524064301483124,\n",
       " '448_468': 0.0006524064301483126,\n",
       " '468_448': 0.0006524064301483126,\n",
       " '172_192': 0.0006524064301483133,\n",
       " '192_172': 0.0006524064301483133,\n",
       " '515_475': 0.000682718614280548,\n",
       " '475_515': 0.000682718614280548,\n",
       " '115_155': 0.000682718614280555,\n",
       " '155_115': 0.000682718614280555,\n",
       " '405_445': 0.000682718614280566,\n",
       " '445_405': 0.000682718614280566,\n",
       " '135_175': 0.0006827186142805723,\n",
       " '175_135': 0.0006827186142805723,\n",
       " '495_535': 0.000682718614280582,\n",
       " '535_495': 0.000682718614280582,\n",
       " '395_435': 0.0006827186142805863,\n",
       " '435_395': 0.0006827186142805863,\n",
       " '5_45': 0.000682718614280588,\n",
       " '45_5': 0.000682718614280588,\n",
       " '255_215': 0.0006827186142805881,\n",
       " '215_255': 0.0006827186142805881,\n",
       " '595_555': 0.0006827186142805882,\n",
       " '555_595': 0.0006827186142805882,\n",
       " '535_575': 0.000682718614280589,\n",
       " '575_535': 0.000682718614280589,\n",
       " '55_95': 0.0006827186142805893,\n",
       " '95_55': 0.0006827186142805893,\n",
       " '305_345': 0.0006827186142805902,\n",
       " '345_305': 0.0006827186142805902,\n",
       " '165_125': 0.0006827186142805903,\n",
       " '125_165': 0.0006827186142805903,\n",
       " '395_355': 0.0006827186142805909,\n",
       " '355_395': 0.0006827186142805909,\n",
       " '555_515': 0.0006827186142805918,\n",
       " '515_555': 0.0006827186142805918,\n",
       " '275_235': 0.0006827186142805922,\n",
       " '235_275': 0.0006827186142805922,\n",
       " '375_335': 0.0006827186142805922,\n",
       " '335_375': 0.0006827186142805922,\n",
       " '525_565': 0.0006827186142805926,\n",
       " '565_525': 0.0006827186142805926,\n",
       " '25_65': 0.0006827186142805929,\n",
       " '65_25': 0.0006827186142805929,\n",
       " '185_145': 0.000682718614280593,\n",
       " '145_185': 0.000682718614280593,\n",
       " '375_415': 0.0006827186142805931,\n",
       " '415_375': 0.0006827186142805931,\n",
       " '345_385': 0.0006827186142805935,\n",
       " '385_345': 0.0006827186142805935,\n",
       " '85_45': 0.0006827186142805937,\n",
       " '45_85': 0.0006827186142805937,\n",
       " '225_265': 0.0006827186142805937,\n",
       " '265_225': 0.0006827186142805937,\n",
       " '115_75': 0.000682718614280594,\n",
       " '205_165': 0.000682718614280594,\n",
       " '75_115': 0.000682718614280594,\n",
       " '165_205': 0.000682718614280594,\n",
       " '35_75': 0.0006827186142805942,\n",
       " '75_35': 0.0006827186142805942,\n",
       " '425_385': 0.0006827186142805945,\n",
       " '465_505': 0.0006827186142805945,\n",
       " '385_425': 0.0006827186142805945,\n",
       " '505_465': 0.0006827186142805945,\n",
       " '465_425': 0.0006827186142805953,\n",
       " '425_465': 0.0006827186142805953,\n",
       " '245_285': 0.0006827186142805958,\n",
       " '285_245': 0.0006827186142805958,\n",
       " '335_295': 0.0006827186142805959,\n",
       " '295_335': 0.0006827186142805959,\n",
       " '85_125': 0.000682718614280596,\n",
       " '125_85': 0.000682718614280596,\n",
       " '295_255': 0.0006827186142805962,\n",
       " '255_295': 0.0006827186142805962,\n",
       " '315_355': 0.0006827186142805969,\n",
       " '355_315': 0.0006827186142805969,\n",
       " '325_365': 0.0006827186142805973,\n",
       " '365_325': 0.0006827186142805973,\n",
       " '245_205': 0.0006827186142805977,\n",
       " '205_245': 0.0006827186142805977,\n",
       " '225_185': 0.0006827186142805979,\n",
       " '185_225': 0.0006827186142805979,\n",
       " '545_585': 0.0006827186142805982,\n",
       " '585_545': 0.0006827186142805982,\n",
       " '55_15': 0.0006827186142805983,\n",
       " '15_55': 0.0006827186142805983,\n",
       " '265_305': 0.0006827186142805984,\n",
       " '305_265': 0.0006827186142805984,\n",
       " '525_485': 0.0006827186142805985,\n",
       " '485_525': 0.0006827186142805985,\n",
       " '275_315': 0.0006827186142805987,\n",
       " '315_275': 0.0006827186142805987,\n",
       " '15_575': 0.0006827186142805998,\n",
       " '575_15': 0.0006827186142805998,\n",
       " '5_565': 0.0006827186142806013,\n",
       " '565_5': 0.0006827186142806013,\n",
       " '25_585': 0.0006827186142806014,\n",
       " '585_25': 0.0006827186142806014,\n",
       " '195_235': 0.0006827186142806018,\n",
       " '235_195': 0.0006827186142806018,\n",
       " '285_325': 0.0006827186142806022,\n",
       " '325_285': 0.0006827186142806022,\n",
       " '105_65': 0.0006827186142806024,\n",
       " '65_105': 0.0006827186142806024,\n",
       " '95_135': 0.0006827186142806029,\n",
       " '135_95': 0.0006827186142806029,\n",
       " '455_415': 0.0006827186142806037,\n",
       " '415_455': 0.0006827186142806037,\n",
       " '595_35': 0.0006827186142806042,\n",
       " '35_595': 0.0006827186142806042,\n",
       " '195_155': 0.0006827186142806045,\n",
       " '155_195': 0.0006827186142806045,\n",
       " '365_405': 0.0006827186142806049,\n",
       " '405_365': 0.0006827186142806049,\n",
       " '445_485': 0.0006827186142806073,\n",
       " '105_145': 0.0006827186142806073,\n",
       " '485_445': 0.0006827186142806073,\n",
       " '145_105': 0.0006827186142806073,\n",
       " '545_505': 0.0006827186142806076,\n",
       " '505_545': 0.0006827186142806076,\n",
       " '435_475': 0.0006827186142806124,\n",
       " '475_435': 0.0006827186142806124,\n",
       " '455_495': 0.0006827186142806231,\n",
       " '495_455': 0.0006827186142806231,\n",
       " '215_175': 0.0006827186142806363,\n",
       " '175_215': 0.0006827186142806363,\n",
       " '511_491': 0.0006904418238470396,\n",
       " '491_511': 0.0006904418238470396,\n",
       " '429_449': 0.0006904418238470417,\n",
       " '449_429': 0.0006904418238470417,\n",
       " '129_149': 0.000690441823847042,\n",
       " '149_129': 0.000690441823847042,\n",
       " '389_369': 0.0006904418238470423,\n",
       " '369_389': 0.0006904418238470423,\n",
       " '489_509': 0.0006904418238470425,\n",
       " '431_451': 0.0006904418238470425,\n",
       " '451_431': 0.0006904418238470425,\n",
       " '509_489': 0.0006904418238470425,\n",
       " '571_551': 0.0006904418238470426,\n",
       " '551_571': 0.0006904418238470426,\n",
       " '291_271': 0.0006904418238470431,\n",
       " '271_291': 0.0006904418238470431,\n",
       " '549_569': 0.0006904418238470435,\n",
       " '269_249': 0.0006904418238470435,\n",
       " '249_269': 0.0006904418238470435,\n",
       " '569_549': 0.0006904418238470435,\n",
       " '91_111': 0.0006904418238470437,\n",
       " '111_91': 0.0006904418238470437,\n",
       " '209_229': 0.0006904418238470439,\n",
       " '229_209': 0.0006904418238470439,\n",
       " '411_391': 0.0006904418238470442,\n",
       " '391_411': 0.0006904418238470442,\n",
       " '49_69': 0.0006904418238470445,\n",
       " '69_49': 0.0006904418238470445,\n",
       " '371_391': 0.0006904418238470446,\n",
       " '309_329': 0.0006904418238470446,\n",
       " '391_371': 0.0006904418238470446,\n",
       " '329_309': 0.0006904418238470446,\n",
       " '211_191': 0.0006904418238470448,\n",
       " '191_211': 0.0006904418238470448,\n",
       " '231_211': 0.0006904418238470454,\n",
       " '211_231': 0.0006904418238470454,\n",
       " '171_151': 0.0006904418238470456,\n",
       " '151_171': 0.0006904418238470456,\n",
       " '131_151': 0.000690441823847046,\n",
       " '189_209': 0.000690441823847046,\n",
       " '209_189': 0.000690441823847046,\n",
       " '151_131': 0.000690441823847046,\n",
       " '229_249': 0.0006904418238470465,\n",
       " '249_229': 0.0006904418238470465,\n",
       " '89_69': 0.0006904418238470468,\n",
       " '69_89': 0.0006904418238470468,\n",
       " '571_591': 0.0006904418238470473,\n",
       " '591_571': 0.0006904418238470473,\n",
       " '251_271': 0.0006904418238470476,\n",
       " '271_251': 0.0006904418238470476,\n",
       " '531_511': 0.0006904418238470476,\n",
       " '311_331': 0.0006904418238470476,\n",
       " '149_169': 0.0006904418238470476,\n",
       " '511_531': 0.0006904418238470476,\n",
       " '169_149': 0.0006904418238470476,\n",
       " '331_311': 0.0006904418238470476,\n",
       " '71_51': 0.000690441823847048,\n",
       " '51_71': 0.000690441823847048,\n",
       " '129_109': 0.000690441823847048,\n",
       " '109_129': 0.000690441823847048,\n",
       " '529_509': 0.0006904418238470482,\n",
       " '509_529': 0.0006904418238470482,\n",
       " '71_91': 0.0006904418238470483,\n",
       " '349_369': 0.0006904418238470483,\n",
       " '269_289': 0.0006904418238470483,\n",
       " '91_71': 0.0006904418238470483,\n",
       " '289_269': 0.0006904418238470483,\n",
       " '369_349': 0.0006904418238470483,\n",
       " '351_331': 0.0006904418238470484,\n",
       " '331_351': 0.0006904418238470484,\n",
       " '291_311': 0.0006904418238470485,\n",
       " '311_291': 0.0006904418238470485,\n",
       " '51_31': 0.0006904418238470487,\n",
       " '31_51': 0.0006904418238470487,\n",
       " '49_29': 0.0006904418238470489,\n",
       " '29_49': 0.0006904418238470489,\n",
       " '409_429': 0.000690441823847049,\n",
       " '429_409': 0.000690441823847049,\n",
       " '29_9': 0.0006904418238470493,\n",
       " '9_29': 0.0006904418238470493,\n",
       " '109_89': 0.0006904418238470496,\n",
       " '89_109': 0.0006904418238470496,\n",
       " '349_329': 0.0006904418238470496,\n",
       " '329_349': 0.0006904418238470496,\n",
       " '309_289': 0.0006904418238470497,\n",
       " '289_309': 0.0006904418238470497,\n",
       " '531_551': 0.0006904418238470498,\n",
       " '551_531': 0.0006904418238470498,\n",
       " '389_409': 0.0006904418238470503,\n",
       " '569_589': 0.0006904418238470503,\n",
       " '409_389': 0.0006904418238470503,\n",
       " '589_569': 0.0006904418238470503,\n",
       " '431_411': 0.0006904418238470504,\n",
       " '411_431': 0.0006904418238470504,\n",
       " '171_191': 0.0006904418238470504,\n",
       " '191_171': 0.0006904418238470504,\n",
       " '371_351': 0.0006904418238470507,\n",
       " '351_371': 0.0006904418238470507,\n",
       " '111_131': 0.0006904418238470509,\n",
       " '449_469': 0.0006904418238470509,\n",
       " '131_111': 0.0006904418238470509,\n",
       " '469_449': 0.0006904418238470509,\n",
       " '11_31': 0.0006904418238470513,\n",
       " '31_11': 0.0006904418238470513,\n",
       " '451_471': 0.0006904418238470517,\n",
       " '471_451': 0.0006904418238470517,\n",
       " '529_549': 0.0006904418238470527,\n",
       " '549_529': 0.0006904418238470527,\n",
       " '169_189': 0.0006904418238470529,\n",
       " '189_169': 0.0006904418238470529,\n",
       " '231_251': 0.0006904418238470532,\n",
       " '251_231': 0.0006904418238470532,\n",
       " '591_11': 0.0006904418238470536,\n",
       " '11_591': 0.0006904418238470536,\n",
       " '9_589': 0.0006904418238470537,\n",
       " '589_9': 0.0006904418238470537,\n",
       " '489_469': 0.0006904418238470538,\n",
       " '469_489': 0.0006904418238470538,\n",
       " '471_491': 0.0006904418238470539,\n",
       " '491_471': 0.0006904418238470539,\n",
       " '430_450': 0.0006913121719080184,\n",
       " '450_430': 0.0006913121719080184,\n",
       " '510_490': 0.0006913121719080221,\n",
       " '490_510': 0.0006913121719080221,\n",
       " '190_210': 0.0006913121719080245,\n",
       " '210_190': 0.0006913121719080245,\n",
       " '550_570': 0.0006913121719080246,\n",
       " '570_550': 0.0006913121719080246,\n",
       " '70_90': 0.0006913121719080251,\n",
       " '90_70': 0.0006913121719080251,\n",
       " '310_330': 0.0006913121719080257,\n",
       " '330_310': 0.0006913121719080257,\n",
       " '390_370': 0.0006913121719080261,\n",
       " '370_390': 0.0006913121719080261,\n",
       " '290_270': 0.0006913121719080263,\n",
       " '270_290': 0.0006913121719080263,\n",
       " '510_530': 0.0006913121719080263,\n",
       " '530_510': 0.0006913121719080263,\n",
       " '230_210': 0.0006913121719080264,\n",
       " '210_230': 0.0006913121719080264,\n",
       " '90_110': 0.000691312171908027,\n",
       " '110_90': 0.000691312171908027,\n",
       " '350_330': 0.0006913121719080272,\n",
       " '330_350': 0.0006913121719080272,\n",
       " '130_150': 0.0006913121719080274,\n",
       " '150_130': 0.0006913121719080274,\n",
       " '250_270': 0.0006913121719080279,\n",
       " '270_250': 0.0006913121719080279,\n",
       " '30_50': 0.0006913121719080283,\n",
       " '50_30': 0.0006913121719080283,\n",
       " '30_10': 0.0006913121719080293,\n",
       " '10_30': 0.0006913121719080293,\n",
       " '350_370': 0.0006913121719080294,\n",
       " '370_350': 0.0006913121719080294,\n",
       " '410_390': 0.0006913121719080302,\n",
       " '390_410': 0.0006913121719080302,\n",
       " '150_170': 0.0006913121719080306,\n",
       " '170_150': 0.0006913121719080306,\n",
       " '430_410': 0.000691312171908031,\n",
       " '410_430': 0.000691312171908031,\n",
       " '70_50': 0.0006913121719080311,\n",
       " '50_70': 0.0006913121719080311,\n",
       " '290_310': 0.0006913121719080313,\n",
       " '310_290': 0.0006913121719080313,\n",
       " '570_590': 0.0006913121719080321,\n",
       " '590_570': 0.0006913121719080321,\n",
       " '110_130': 0.0006913121719080323,\n",
       " '130_110': 0.0006913121719080323,\n",
       " '170_190': 0.0006913121719080324,\n",
       " '190_170': 0.0006913121719080324,\n",
       " '490_470': 0.0006913121719080328,\n",
       " '470_490': 0.0006913121719080328,\n",
       " '530_550': 0.000691312171908034,\n",
       " '550_530': 0.000691312171908034,\n",
       " '450_470': 0.0006913121719080341,\n",
       " '470_450': 0.0006913121719080341,\n",
       " '250_230': 0.000691312171908035,\n",
       " '230_250': 0.000691312171908035,\n",
       " '10_590': 0.0006913121719080354,\n",
       " '590_10': 0.0006913121719080354,\n",
       " '183_163': 0.0016857957774468904,\n",
       " '163_183': 0.0016857957774468904,\n",
       " '483_463': 0.0016857957774468987,\n",
       " '463_483': 0.0016857957774468987,\n",
       " '397_377': 0.0016857957774469104,\n",
       " '377_397': 0.0016857957774469104,\n",
       " '457_437': 0.001685795777446911,\n",
       " '437_457': 0.001685795777446911,\n",
       " '577_557': 0.0016857957774469115,\n",
       " '197_217': 0.0016857957774469115,\n",
       " '557_577': 0.0016857957774469115,\n",
       " '217_197': 0.0016857957774469115,\n",
       " '137_157': 0.0016857957774469123,\n",
       " '157_137': 0.0016857957774469123,\n",
       " '383_363': 0.0016857957774469138,\n",
       " '363_383': 0.0016857957774469138,\n",
       " '37_57': 0.0016857957774469182,\n",
       " '57_37': 0.0016857957774469182,\n",
       " '337_317': 0.0016857957774469193,\n",
       " '317_337': 0.0016857957774469193,\n",
       " '563_543': 0.0016857957774469195,\n",
       " '543_563': 0.0016857957774469195,\n",
       " '83_103': 0.001685795777446924,\n",
       " '103_83': 0.001685795777446924,\n",
       " '477_457': 0.0016857957774469242,\n",
       " '457_477': 0.0016857957774469242,\n",
       " '117_97': 0.001685795777446925,\n",
       " '223_243': 0.001685795777446925,\n",
       " '417_397': 0.001685795777446925,\n",
       " '397_417': 0.001685795777446925,\n",
       " '243_223': 0.001685795777446925,\n",
       " '97_117': 0.001685795777446925,\n",
       " '357_337': 0.0016857957774469253,\n",
       " '337_357': 0.0016857957774469253,\n",
       " '323_303': 0.0016857957774469255,\n",
       " '403_383': 0.0016857957774469255,\n",
       " '303_323': 0.0016857957774469255,\n",
       " '383_403': 0.0016857957774469255,\n",
       " '297_277': 0.001685795777446926,\n",
       " '277_297': 0.001685795777446926,\n",
       " '277_257': 0.0016857957774469266,\n",
       " '257_277': 0.0016857957774469266,\n",
       " '497_477': 0.0016857957774469284,\n",
       " '477_497': 0.0016857957774469284,\n",
       " '77_97': 0.0016857957774469292,\n",
       " '97_77': 0.0016857957774469292,\n",
       " '423_443': 0.001685795777446931,\n",
       " '443_423': 0.001685795777446931,\n",
       " '163_143': 0.0016857957774469312,\n",
       " '143_163': 0.0016857957774469312,\n",
       " '583_563': 0.0016857957774469318,\n",
       " '563_583': 0.0016857957774469318,\n",
       " '503_483': 0.0016857957774469323,\n",
       " '483_503': 0.0016857957774469323,\n",
       " '57_77': 0.0016857957774469325,\n",
       " '77_57': 0.0016857957774469325,\n",
       " '43_63': 0.0016857957774469331,\n",
       " '237_217': 0.0016857957774469331,\n",
       " '63_43': 0.0016857957774469331,\n",
       " '217_237': 0.0016857957774469331,\n",
       " '243_263': 0.0016857957774469338,\n",
       " '263_243': 0.0016857957774469338,\n",
       " '317_297': 0.001685795777446934,\n",
       " '297_317': 0.001685795777446934,\n",
       " '37_17': 0.0016857957774469349,\n",
       " '17_37': 0.0016857957774469349,\n",
       " '283_263': 0.0016857957774469355,\n",
       " '263_283': 0.0016857957774469355,\n",
       " '597_577': 0.001685795777446936,\n",
       " '403_423': 0.001685795777446936,\n",
       " '577_597': 0.001685795777446936,\n",
       " '423_403': 0.001685795777446936,\n",
       " '557_537': 0.0016857957774469362,\n",
       " '117_137': 0.0016857957774469362,\n",
       " '537_557': 0.0016857957774469362,\n",
       " '137_117': 0.0016857957774469362,\n",
       " '43_23': 0.0016857957774469366,\n",
       " '23_43': 0.0016857957774469366,\n",
       " '237_257': 0.001685795777446937,\n",
       " '257_237': 0.001685795777446937,\n",
       " '283_303': 0.0016857957774469373,\n",
       " '303_283': 0.0016857957774469373,\n",
       " '177_157': 0.0016857957774469377,\n",
       " '157_177': 0.0016857957774469377,\n",
       " '357_377': 0.0016857957774469381,\n",
       " '377_357': 0.0016857957774469381,\n",
       " '63_83': 0.0016857957774469383,\n",
       " '83_63': 0.0016857957774469383,\n",
       " '203_223': 0.0016857957774469392,\n",
       " '223_203': 0.0016857957774469392,\n",
       " '103_123': 0.0016857957774469396,\n",
       " '123_103': 0.0016857957774469396,\n",
       " '23_3': 0.0016857957774469399,\n",
       " '3_23': 0.0016857957774469399,\n",
       " '343_363': 0.00168579577744694,\n",
       " '363_343': 0.00168579577744694,\n",
       " '197_177': 0.0016857957774469405,\n",
       " '177_197': 0.0016857957774469405,\n",
       " '523_543': 0.0016857957774469422,\n",
       " '543_523': 0.0016857957774469422,\n",
       " ...}"
      ]
     },
     "execution_count": 65,
     "metadata": {},
     "output_type": "execute_result"
    }
   ],
   "source": [
    "queue_d"
   ]
  },
  {
   "cell_type": "code",
   "execution_count": 549,
   "id": "427dc662-33c9-4717-a581-921c7ab49065",
   "metadata": {},
   "outputs": [
    {
     "data": {
      "text/plain": [
       "array([[1.55000000e+02, 1.35000000e+02, 7.00966071e-05],\n",
       "       [4.95000000e+02, 4.75000000e+02, 7.00966071e-05],\n",
       "       [4.45000000e+02, 4.25000000e+02, 7.00966071e-05],\n",
       "       ...,\n",
       "       [5.80000000e+02, 1.00000000e+00, 1.50550004e-02],\n",
       "       [5.99000000e+02, 0.00000000e+00, 1.50550004e-02],\n",
       "       [0.00000000e+00, 5.99000000e+02, 1.50550004e-02]])"
      ]
     },
     "execution_count": 549,
     "metadata": {},
     "output_type": "execute_result"
    }
   ],
   "source": [
    "queue"
   ]
  },
  {
   "cell_type": "code",
   "execution_count": 535,
   "id": "09edb78f-6db7-405e-97c9-9f6c78f375f5",
   "metadata": {},
   "outputs": [
    {
     "name": "stderr",
     "output_type": "stream",
     "text": [
      "100%|██████████| 600/600 [00:00<00:00, 14999.57it/s]\n"
     ]
    },
    {
     "data": {
      "text/plain": [
       "array([[  5,  11],\n",
       "       [  5,  25],\n",
       "       [  5,  50],\n",
       "       ...,\n",
       "       [581,  24],\n",
       "       [581, 499],\n",
       "       [581, 564]])"
      ]
     },
     "execution_count": 535,
     "metadata": {},
     "output_type": "execute_result"
    }
   ],
   "source": [
    "valid_pairs = select_valid_pairs(vertices, triangles, t=0.00001)\n",
    "valid_pairs"
   ]
  },
  {
   "cell_type": "code",
   "execution_count": 112,
   "id": "47a496fc-5683-45a4-98e5-2700fe223568",
   "metadata": {},
   "outputs": [],
   "source": [
    "dataset = o3d.data.BunnyMesh()\n",
    "mesh = o3d.io.read_triangle_mesh(dataset.path)"
   ]
  },
  {
   "cell_type": "code",
   "execution_count": 251,
   "id": "647b9111-b6f6-41ab-b95d-35f4811409a0",
   "metadata": {},
   "outputs": [],
   "source": [
    "mesh_path = 'dinosaur.obj'\n",
    "mesh = o3d.io.read_triangle_mesh(mesh_path)"
   ]
  },
  {
   "cell_type": "code",
   "execution_count": 252,
   "id": "c645ef55-1584-4afd-b118-a7e483df6dd8",
   "metadata": {},
   "outputs": [],
   "source": [
    "vertices = np.asarray(mesh.vertices)\n",
    "triangles = np.asarray(mesh.triangles)"
   ]
  },
  {
   "cell_type": "code",
   "execution_count": 253,
   "id": "01705890-60d9-4642-bf67-66d4c983d54d",
   "metadata": {},
   "outputs": [
    {
     "data": {
      "text/plain": [
       "array([-11.7397995 , -21.08160019, -48.98669815])"
      ]
     },
     "execution_count": 253,
     "metadata": {},
     "output_type": "execute_result"
    }
   ],
   "source": [
    "vertices[0]"
   ]
  },
  {
   "cell_type": "code",
   "execution_count": 254,
   "id": "ec300864-1cd1-4ebf-9cfa-b930d8cffa72",
   "metadata": {},
   "outputs": [],
   "source": [
    "K_list = calculate_K(vertices, triangles)\n",
    "v_tr = create_v_tr(triangles)\n",
    "v_Q = calculate_Q(K_list, v_tr)"
   ]
  },
  {
   "cell_type": "code",
   "execution_count": 255,
   "id": "a82046cd-4cb0-42bc-9aba-256d1ae79b20",
   "metadata": {},
   "outputs": [
    {
     "data": {
      "text/plain": [
       "array([[ 0,  1],\n",
       "       [ 0,  2],\n",
       "       [ 0,  3],\n",
       "       [ 0,  4],\n",
       "       [ 0,  5],\n",
       "       [ 0, 10],\n",
       "       [ 0, 16]])"
      ]
     },
     "execution_count": 255,
     "metadata": {},
     "output_type": "execute_result"
    }
   ],
   "source": [
    "valid_pairs[valid_pairs[:, 0] == 0]"
   ]
  },
  {
   "cell_type": "code",
   "execution_count": 256,
   "id": "ad47d41b-3659-4302-a3e4-5b12b2436198",
   "metadata": {},
   "outputs": [
    {
     "data": {
      "text/plain": [
       "array([[ 1,  0],\n",
       "       [ 3,  0],\n",
       "       [ 4,  0],\n",
       "       [ 5,  0],\n",
       "       [10,  0],\n",
       "       [16,  0]])"
      ]
     },
     "execution_count": 256,
     "metadata": {},
     "output_type": "execute_result"
    }
   ],
   "source": [
    "valid_pairs[valid_pairs[:, 1] == 0]"
   ]
  },
  {
   "cell_type": "code",
   "execution_count": 257,
   "id": "66569f86-ea32-4a60-8e19-9cfaa864cf55",
   "metadata": {},
   "outputs": [
    {
     "name": "stderr",
     "output_type": "stream",
     "text": [
      "100%|██████████| 2002/2002 [00:00<00:00, 14574.78it/s]\n"
     ]
    }
   ],
   "source": [
    "valid_pairs = select_valid_pairs(vertices, triangles, t=1)\n",
    "errors = calculate_error(valid_pairs, v_Q, vertices)\n",
    "queue = create_queue(valid_pairs, errors)"
   ]
  },
  {
   "cell_type": "code",
   "execution_count": 258,
   "id": "243ef02e-bd2c-4d15-9a96-de68bebd5074",
   "metadata": {},
   "outputs": [
    {
     "data": {
      "text/plain": [
       "(9761, 3)"
      ]
     },
     "execution_count": 258,
     "metadata": {},
     "output_type": "execute_result"
    }
   ],
   "source": [
    "queue.shape"
   ]
  },
  {
   "cell_type": "code",
   "execution_count": 102,
   "id": "79f4ea1e-d7ee-46e7-8b01-e8788ff40414",
   "metadata": {},
   "outputs": [],
   "source": [
    "queue_short = queue[:10**5, :]"
   ]
  },
  {
   "cell_type": "code",
   "execution_count": 259,
   "id": "8ce8bc1a-b727-4cd2-8461-541b2b2dbf79",
   "metadata": {},
   "outputs": [
    {
     "name": "stderr",
     "output_type": "stream",
     "text": [
      "100%|██████████| 9761/9761 [00:00<00:00, 129272.09it/s]\n"
     ]
    }
   ],
   "source": [
    "vertices, triangles = remove_vertices(queue, vertices, triangles, v_tr)"
   ]
  },
  {
   "cell_type": "code",
   "execution_count": 260,
   "id": "027334f2-cb52-441c-98d7-ebf27a83f421",
   "metadata": {},
   "outputs": [
    {
     "data": {
      "text/plain": [
       "(4000, 3)"
      ]
     },
     "execution_count": 260,
     "metadata": {},
     "output_type": "execute_result"
    }
   ],
   "source": [
    "triangles.shape"
   ]
  },
  {
   "cell_type": "code",
   "execution_count": 261,
   "id": "14635b5b-91c3-4de1-a5df-fcc1670ae227",
   "metadata": {},
   "outputs": [
    {
     "data": {
      "text/plain": [
       "(3980, 3)"
      ]
     },
     "execution_count": 261,
     "metadata": {},
     "output_type": "execute_result"
    }
   ],
   "source": [
    "triangles = np.unique(triangles, axis=0)\n",
    "triangles.shape"
   ]
  },
  {
   "cell_type": "code",
   "execution_count": 262,
   "id": "bf0f4e5e-a735-4412-9a60-b96b3d777cb6",
   "metadata": {},
   "outputs": [
    {
     "data": {
      "text/plain": [
       "array([[   1,   60,   60],\n",
       "       [   3,   35,   64],\n",
       "       [   3,  136,   61],\n",
       "       ...,\n",
       "       [2000, 1972, 2000],\n",
       "       [2000, 1978, 1969],\n",
       "       [2000, 1986, 2000]], dtype=int32)"
      ]
     },
     "execution_count": 262,
     "metadata": {},
     "output_type": "execute_result"
    }
   ],
   "source": [
    "triangles"
   ]
  },
  {
   "cell_type": "code",
   "execution_count": 263,
   "id": "f9ec3cd4-681b-4758-8f4a-a3c6707a3a41",
   "metadata": {},
   "outputs": [
    {
     "data": {
      "text/plain": [
       "(2117, 3)"
      ]
     },
     "execution_count": 263,
     "metadata": {},
     "output_type": "execute_result"
    }
   ],
   "source": [
    "triangles = np.unique(triangles, axis=0)\n",
    "triangles = triangles[(triangles[:, 0] != triangles[:, 1]) & (triangles[:, 1] != triangles[:, 2]) & (triangles[:, 2] != triangles[:, 0])]\n",
    "triangles.shape"
   ]
  },
  {
   "cell_type": "code",
   "execution_count": 264,
   "id": "7c818889-9e18-482f-9a18-8e6e8b992b7c",
   "metadata": {},
   "outputs": [
    {
     "data": {
      "text/plain": [
       "array([[   3,   35,   64],\n",
       "       [   3,  136,   61],\n",
       "       [   5,   24,   60],\n",
       "       ...,\n",
       "       [1998, 1996, 1988],\n",
       "       [1999, 1923, 1985],\n",
       "       [2000, 1978, 1969]], dtype=int32)"
      ]
     },
     "execution_count": 264,
     "metadata": {},
     "output_type": "execute_result"
    }
   ],
   "source": [
    "triangles"
   ]
  },
  {
   "cell_type": "code",
   "execution_count": 93,
   "id": "2f617071-1396-485c-b828-972a7635b7c2",
   "metadata": {},
   "outputs": [],
   "source": [
    "# reduce amount of vertices\n",
    "# unique = np.unique(triangles)\n",
    "# mask = np.isin(np.arange(len(vertices)), unique)\n",
    "# vertices = vertices[mask]"
   ]
  },
  {
   "cell_type": "code",
   "execution_count": 265,
   "id": "44a4ede4-8cd0-46e7-8c5a-a5cb813acd2e",
   "metadata": {},
   "outputs": [],
   "source": [
    "mesh2 = o3d.geometry.TriangleMesh()\n",
    "mesh2.vertices = o3d.utility.Vector3dVector(vertices)\n",
    "mesh2.triangles = o3d.utility.Vector3iVector(triangljes)"
   ]
  },
  {
   "cell_type": "code",
   "execution_count": 266,
   "id": "fb85fac0-89cd-4c32-94f2-4230439f8533",
   "metadata": {},
   "outputs": [
    {
     "data": {
      "text/plain": [
       "True"
      ]
     },
     "execution_count": 266,
     "metadata": {},
     "output_type": "execute_result"
    }
   ],
   "source": [
    "o3d.io.write_triangle_mesh('dinosaur6.obj', mesh2)"
   ]
  },
  {
   "cell_type": "code",
   "execution_count": null,
   "id": "8a897553-093a-4546-b048-39242c710f36",
   "metadata": {},
   "outputs": [],
   "source": [
    "# remove_duplicated_vertices': <instancemethod remove_duplicated_vertices at 0x000002BF4739EBE0>,\n",
    "# 'remove_duplicated_triangles': <instancemethod remove_duplicated_triangles at 0x000002BF4739EC40>,\n",
    "# 'remove_unreferenced_vertices': <instancemethod remove_unreferenced_vertices at 0x000002BF4739ECA0>,\n",
    "# 'remove_degenerate_triangles': <instancemethod remove_degenerate_triangles at 0x000002BF4739ED00>,\n",
    "# 'remove_non_manifold_edges"
   ]
  },
  {
   "cell_type": "code",
   "execution_count": 273,
   "id": "e7eff86d-59a2-4e05-b007-ea77ce32edef",
   "metadata": {},
   "outputs": [
    {
     "data": {
      "text/plain": [
       "mappingproxy({'__init__': <instancemethod __init__ at 0x000002BF4739E970>,\n",
       "              '__doc__': 'TriangleMesh class. Triangle mesh contains vertices and triangles represented by the indices to the vertices. Optionally, the mesh may also contain triangle normals, vertex normals and vertex colors.',\n",
       "              '__module__': 'open3d.cpu.pybind.geometry',\n",
       "              '__copy__': <instancemethod __copy__ at 0x000002BF4739E8E0>,\n",
       "              '__deepcopy__': <instancemethod __deepcopy__ at 0x000002BF4739E940>,\n",
       "              '__repr__': <instancemethod __repr__ at 0x000002BF4739E9A0>,\n",
       "              '__add__': <instancemethod __add__ at 0x000002BF4739EA00>,\n",
       "              '__iadd__': <instancemethod __iadd__ at 0x000002BF4739EA60>,\n",
       "              'compute_triangle_normals': <instancemethod compute_triangle_normals at 0x000002BF4739EAC0>,\n",
       "              'compute_vertex_normals': <instancemethod compute_vertex_normals at 0x000002BF4739EB20>,\n",
       "              'compute_adjacency_list': <instancemethod compute_adjacency_list at 0x000002BF4739EB80>,\n",
       "              'remove_duplicated_vertices': <instancemethod remove_duplicated_vertices at 0x000002BF4739EBE0>,\n",
       "              'remove_duplicated_triangles': <instancemethod remove_duplicated_triangles at 0x000002BF4739EC40>,\n",
       "              'remove_unreferenced_vertices': <instancemethod remove_unreferenced_vertices at 0x000002BF4739ECA0>,\n",
       "              'remove_degenerate_triangles': <instancemethod remove_degenerate_triangles at 0x000002BF4739ED00>,\n",
       "              'remove_non_manifold_edges': <instancemethod remove_non_manifold_edges at 0x000002BF4739ED60>,\n",
       "              'merge_close_vertices': <instancemethod merge_close_vertices at 0x000002BF4739EDC0>,\n",
       "              'filter_sharpen': <instancemethod filter_sharpen at 0x000002BF4739EE50>,\n",
       "              'filter_smooth_simple': <instancemethod filter_smooth_simple at 0x000002BF4739EEB0>,\n",
       "              'filter_smooth_laplacian': <instancemethod filter_smooth_laplacian at 0x000002BF4739EF10>,\n",
       "              'filter_smooth_taubin': <instancemethod filter_smooth_taubin at 0x000002BF4739EF70>,\n",
       "              'has_vertices': <instancemethod has_vertices at 0x000002BF4739EFD0>,\n",
       "              'has_triangles': <instancemethod has_triangles at 0x000002BF473A3070>,\n",
       "              'has_vertex_normals': <instancemethod has_vertex_normals at 0x000002BF473A30D0>,\n",
       "              'has_vertex_colors': <instancemethod has_vertex_colors at 0x000002BF473A3130>,\n",
       "              'has_triangle_normals': <instancemethod has_triangle_normals at 0x000002BF473A3190>,\n",
       "              'has_adjacency_list': <instancemethod has_adjacency_list at 0x000002BF473A31F0>,\n",
       "              'has_triangle_uvs': <instancemethod has_triangle_uvs at 0x000002BF473A3250>,\n",
       "              'has_triangle_material_ids': <instancemethod has_triangle_material_ids at 0x000002BF473A32B0>,\n",
       "              'has_textures': <instancemethod has_textures at 0x000002BF473A3310>,\n",
       "              'normalize_normals': <instancemethod normalize_normals at 0x000002BF473A3370>,\n",
       "              'paint_uniform_color': <instancemethod paint_uniform_color at 0x000002BF473A33D0>,\n",
       "              'euler_poincare_characteristic': <instancemethod euler_poincare_characteristic at 0x000002BF473A3430>,\n",
       "              'get_non_manifold_edges': <instancemethod get_non_manifold_edges at 0x000002BF473A3490>,\n",
       "              'is_edge_manifold': <instancemethod is_edge_manifold at 0x000002BF473A34F0>,\n",
       "              'get_non_manifold_vertices': <instancemethod get_non_manifold_vertices at 0x000002BF473A3550>,\n",
       "              'is_vertex_manifold': <instancemethod is_vertex_manifold at 0x000002BF473A35B0>,\n",
       "              'is_self_intersecting': <instancemethod is_self_intersecting at 0x000002BF473A3610>,\n",
       "              'get_self_intersecting_triangles': <instancemethod get_self_intersecting_triangles at 0x000002BF473A3670>,\n",
       "              'is_intersecting': <instancemethod is_intersecting at 0x000002BF473A36D0>,\n",
       "              'is_orientable': <instancemethod is_orientable at 0x000002BF473A3730>,\n",
       "              'is_watertight': <instancemethod is_watertight at 0x000002BF473A3790>,\n",
       "              'orient_triangles': <instancemethod orient_triangles at 0x000002BF473A37F0>,\n",
       "              'select_by_index': <instancemethod select_by_index at 0x000002BF473A3850>,\n",
       "              'crop': <instancemethod crop at 0x000002BF473A38E0>,\n",
       "              'get_surface_area': <instancemethod get_surface_area at 0x000002BF473A3910>,\n",
       "              'get_volume': <instancemethod get_volume at 0x000002BF473A3970>,\n",
       "              'sample_points_uniformly': <instancemethod sample_points_uniformly at 0x000002BF473A39D0>,\n",
       "              'sample_points_poisson_disk': <instancemethod sample_points_poisson_disk at 0x000002BF473A3A30>,\n",
       "              'subdivide_midpoint': <instancemethod subdivide_midpoint at 0x000002BF473A3A90>,\n",
       "              'subdivide_loop': <instancemethod subdivide_loop at 0x000002BF473A3AF0>,\n",
       "              'simplify_vertex_clustering': <instancemethod simplify_vertex_clustering at 0x000002BF473A3B50>,\n",
       "              'simplify_quadric_decimation': <instancemethod simplify_quadric_decimation at 0x000002BF473A3BB0>,\n",
       "              'compute_convex_hull': <instancemethod compute_convex_hull at 0x000002BF473A3C10>,\n",
       "              'cluster_connected_triangles': <instancemethod cluster_connected_triangles at 0x000002BF473A3C70>,\n",
       "              'remove_triangles_by_index': <instancemethod remove_triangles_by_index at 0x000002BF473A3CD0>,\n",
       "              'remove_triangles_by_mask': <instancemethod remove_triangles_by_mask at 0x000002BF473A3D30>,\n",
       "              'remove_vertices_by_index': <instancemethod remove_vertices_by_index at 0x000002BF473A3D90>,\n",
       "              'remove_vertices_by_mask': <instancemethod remove_vertices_by_mask at 0x000002BF473A3DF0>,\n",
       "              'deform_as_rigid_as_possible': <instancemethod deform_as_rigid_as_possible at 0x000002BF473A3E50>,\n",
       "              'create_from_point_cloud_alpha_shape': <staticmethod at 0x2bf473a3ee0>,\n",
       "              'create_from_point_cloud_ball_pivoting': <staticmethod at 0x2bf473a3f10>,\n",
       "              'create_from_point_cloud_poisson': <staticmethod at 0x2bf473a3fa0>,\n",
       "              'create_box': <staticmethod at 0x2bf473a5040>,\n",
       "              'create_tetrahedron': <staticmethod at 0x2bf473a50a0>,\n",
       "              'create_octahedron': <staticmethod at 0x2bf473a5100>,\n",
       "              'create_icosahedron': <staticmethod at 0x2bf473a5160>,\n",
       "              'create_sphere': <staticmethod at 0x2bf473a51c0>,\n",
       "              'create_cylinder': <staticmethod at 0x2bf473a5220>,\n",
       "              'create_cone': <staticmethod at 0x2bf473a5280>,\n",
       "              'create_torus': <staticmethod at 0x2bf473a52e0>,\n",
       "              'create_arrow': <staticmethod at 0x2bf473a5340>,\n",
       "              'create_coordinate_frame': <staticmethod at 0x2bf473a55b0>,\n",
       "              'create_mobius': <staticmethod at 0x2bf473a54c0>,\n",
       "              'vertices': <property at 0x2bf473a6220>,\n",
       "              'vertex_normals': <property at 0x2bf473a6310>,\n",
       "              'vertex_colors': <property at 0x2bf473a6400>,\n",
       "              'triangles': <property at 0x2bf473a64f0>,\n",
       "              'triangle_normals': <property at 0x2bf473a65e0>,\n",
       "              'adjacency_list': <property at 0x2bf473a6720>,\n",
       "              'triangle_uvs': <property at 0x2bf473a6810>,\n",
       "              'triangle_material_ids': <property at 0x2bf473a6900>,\n",
       "              'textures': <property at 0x2bf473a6a40>})"
      ]
     },
     "execution_count": 273,
     "metadata": {},
     "output_type": "execute_result"
    }
   ],
   "source": [
    "o3d.geometry.TriangleMesh.__dict__"
   ]
  },
  {
   "cell_type": "code",
   "execution_count": 324,
   "id": "1fe862f8-6707-4034-bb97-41e26d22d3d5",
   "metadata": {},
   "outputs": [
    {
     "data": {
      "text/plain": [
       "TriangleMesh with 600 points and 1200 triangles."
      ]
     },
     "execution_count": 324,
     "metadata": {},
     "output_type": "execute_result"
    }
   ],
   "source": [
    "o3d.geometry.TriangleMesh.create_torus()"
   ]
  },
  {
   "cell_type": "code",
   "execution_count": 518,
   "id": "c9dcfeda-8bcf-41eb-84e6-6d31fb64b178",
   "metadata": {},
   "outputs": [
    {
     "name": "stdout",
     "output_type": "stream",
     "text": [
      "TriangleMesh with 600 points and 1200 triangles.\n"
     ]
    }
   ],
   "source": [
    "# mesh4 = o3d.geometry.TriangleMesh.create_octahedron()\n",
    "mesh4 = o3d.geometry.TriangleMesh.create_torus()\n",
    "print(mesh4)\n",
    "\n",
    "vertices = np.asarray(mesh4.vertices)\n",
    "triangles = np.asarray(mesh4.triangles)"
   ]
  },
  {
   "cell_type": "code",
   "execution_count": 482,
   "id": "1e6a004a-90af-4cfa-96ee-a767f1e9dbf1",
   "metadata": {},
   "outputs": [
    {
     "name": "stderr",
     "output_type": "stream",
     "text": [
      "100%|██████████| 600/600 [00:00<00:00, 26106.98it/s]\n",
      "100%|██████████| 4/4 [00:00<00:00, 666.61it/s]\n"
     ]
    }
   ],
   "source": [
    "K_list = calculate_K(vertices, triangles)\n",
    "v_tr = create_v_tr(triangles)\n",
    "v_Q = calculate_Q(K_list, v_tr)\n",
    "\n",
    "valid_pairs = select_valid_pairs(vertices, triangles, t=0.001)\n",
    "errors = calculate_error(valid_pairs, v_Q, vertices)\n",
    "queue = create_queue(valid_pairs, errors)\n",
    "# queue = queue[:5, :]\n",
    "\n",
    "vertices, triangles = remove_vertices(queue[:4, :], vertices, triangles)"
   ]
  },
  {
   "cell_type": "code",
   "execution_count": 483,
   "id": "e62593b6-eda9-43ea-99ac-b295a424b8de",
   "metadata": {},
   "outputs": [
    {
     "data": {
      "text/plain": [
       "(array([[515, 516, 495],\n",
       "        [515, 536, 516]], dtype=int32),\n",
       " array([[514, 515, 494],\n",
       "        [494, 515, 495]], dtype=int32),\n",
       " array([[514, 535, 515],\n",
       "        [535, 536, 515]], dtype=int32))"
      ]
     },
     "execution_count": 483,
     "metadata": {},
     "output_type": "execute_result"
    }
   ],
   "source": [
    "triangles[triangles[:, 0] == 515], triangles[triangles[:, 1] == 515], triangles[triangles[:, 2] == 515]"
   ]
  },
  {
   "cell_type": "code",
   "execution_count": 484,
   "id": "502bce99-4920-4b70-bb5d-7d7527b73eb3",
   "metadata": {},
   "outputs": [
    {
     "data": {
      "text/plain": [
       "(array([[495, 476, 455],\n",
       "        [495, 496, 495],\n",
       "        [495, 496, 476],\n",
       "        [495, 516, 496]], dtype=int32),\n",
       " array([[474, 495, 454],\n",
       "        [454, 495, 455],\n",
       "        [494, 495, 474],\n",
       "        [474, 495, 495]], dtype=int32),\n",
       " array([[474, 495, 495],\n",
       "        [495, 496, 495],\n",
       "        [494, 515, 495],\n",
       "        [515, 516, 495]], dtype=int32))"
      ]
     },
     "execution_count": 484,
     "metadata": {},
     "output_type": "execute_result"
    }
   ],
   "source": [
    "triangles[triangles[:, 0] == 495], triangles[triangles[:, 1] == 495], triangles[triangles[:, 2] == 495]"
   ]
  },
  {
   "cell_type": "code",
   "execution_count": 485,
   "id": "117b4390-eb48-41fa-b096-c61a60e3d74f",
   "metadata": {},
   "outputs": [
    {
     "data": {
      "text/plain": [
       "array([155, 135,   0])"
      ]
     },
     "execution_count": 485,
     "metadata": {},
     "output_type": "execute_result"
    }
   ],
   "source": [
    "queue[0].astype(int)"
   ]
  },
  {
   "cell_type": "code",
   "execution_count": 486,
   "id": "a83df9ef-aeec-4868-b55c-3bc8ed7d13b5",
   "metadata": {},
   "outputs": [
    {
     "data": {
      "text/plain": [
       "[228, 229, 230, 269, 270, 271]"
      ]
     },
     "execution_count": 486,
     "metadata": {},
     "output_type": "execute_result"
    }
   ],
   "source": [
    "v_tr[135]"
   ]
  },
  {
   "cell_type": "code",
   "execution_count": 487,
   "id": "00532b80-9456-4978-9c8c-49ff421da1a7",
   "metadata": {},
   "outputs": [],
   "source": [
    "v_tr = create_v_tr(triangles)"
   ]
  },
  {
   "cell_type": "code",
   "execution_count": 488,
   "id": "895dc222-c306-4d0a-8ace-a714fa8f28cf",
   "metadata": {},
   "outputs": [
    {
     "ename": "KeyError",
     "evalue": "135",
     "output_type": "error",
     "traceback": [
      "\u001b[1;31m---------------------------------------------------------------------------\u001b[0m",
      "\u001b[1;31mKeyError\u001b[0m                                  Traceback (most recent call last)",
      "Input \u001b[1;32mIn [488]\u001b[0m, in \u001b[0;36m<cell line: 1>\u001b[1;34m()\u001b[0m\n\u001b[1;32m----> 1\u001b[0m \u001b[43mv_tr\u001b[49m\u001b[43m[\u001b[49m\u001b[38;5;241;43m135\u001b[39;49m\u001b[43m]\u001b[49m\n",
      "\u001b[1;31mKeyError\u001b[0m: 135"
     ]
    }
   ],
   "source": [
    "v_tr[135]"
   ]
  },
  {
   "cell_type": "code",
   "execution_count": 489,
   "id": "ad455c2f-5913-4eaa-9a27-b6ffb7746141",
   "metadata": {},
   "outputs": [
    {
     "data": {
      "text/plain": [
       "array([515, 495,   0])"
      ]
     },
     "execution_count": 489,
     "metadata": {},
     "output_type": "execute_result"
    }
   ],
   "source": [
    "queue[4].astype(int)"
   ]
  },
  {
   "cell_type": "code",
   "execution_count": 490,
   "id": "7d477141-5e6b-4a20-a51e-f99ff8fccb86",
   "metadata": {},
   "outputs": [
    {
     "name": "stderr",
     "output_type": "stream",
     "text": [
      "100%|██████████| 1/1 [00:00<00:00, 986.66it/s]\n"
     ]
    }
   ],
   "source": [
    "vertices, triangles = remove_vertices(queue[4:5, :], vertices, triangles)"
   ]
  },
  {
   "cell_type": "code",
   "execution_count": 491,
   "id": "3d3ed59a-a447-4dc3-a513-9fad75755fdd",
   "metadata": {},
   "outputs": [
    {
     "data": {
      "text/plain": [
       "(array([[515, 476, 455],\n",
       "        [515, 496, 515],\n",
       "        [515, 496, 476],\n",
       "        [515, 516, 515],\n",
       "        [515, 516, 496],\n",
       "        [515, 536, 516]], dtype=int32),\n",
       " array([[474, 515, 454],\n",
       "        [454, 515, 455],\n",
       "        [494, 515, 474],\n",
       "        [474, 515, 515],\n",
       "        [514, 515, 494],\n",
       "        [494, 515, 515]], dtype=int32),\n",
       " array([[474, 515, 515],\n",
       "        [515, 496, 515],\n",
       "        [494, 515, 515],\n",
       "        [515, 516, 515],\n",
       "        [514, 535, 515],\n",
       "        [535, 536, 515]], dtype=int32))"
      ]
     },
     "execution_count": 491,
     "metadata": {},
     "output_type": "execute_result"
    }
   ],
   "source": [
    "triangles[triangles[:, 0] == 515], triangles[triangles[:, 1] == 515], triangles[triangles[:, 2] == 515]"
   ]
  },
  {
   "cell_type": "code",
   "execution_count": 492,
   "id": "90b469e8-6a30-4814-8c31-b981d75f83e4",
   "metadata": {},
   "outputs": [
    {
     "data": {
      "text/plain": [
       "(array([], shape=(0, 3), dtype=int32),\n",
       " array([], shape=(0, 3), dtype=int32),\n",
       " array([], shape=(0, 3), dtype=int32))"
      ]
     },
     "execution_count": 492,
     "metadata": {},
     "output_type": "execute_result"
    }
   ],
   "source": [
    "triangles[triangles[:, 0] == 495], triangles[triangles[:, 1] == 495], triangles[triangles[:, 2] == 495]"
   ]
  },
  {
   "cell_type": "code",
   "execution_count": 493,
   "id": "aafb74a2-7bd1-4e37-a17a-2bcf15f59a9a",
   "metadata": {},
   "outputs": [
    {
     "data": {
      "text/plain": [
       "array([435, 415,   0])"
      ]
     },
     "execution_count": 493,
     "metadata": {},
     "output_type": "execute_result"
    }
   ],
   "source": [
    "queue[5].astype(int)"
   ]
  },
  {
   "cell_type": "code",
   "execution_count": 494,
   "id": "71125331-d5bf-49ac-8cb5-bf0ab21f5d8f",
   "metadata": {},
   "outputs": [],
   "source": [
    "triangles = np.unique(triangles, axis=0)\n",
    "triangles = triangles[(triangles[:, 0] != triangles[:, 1]) & (triangles[:, 1] != triangles[:, 2]) & (triangles[:, 2] != triangles[:, 0])]"
   ]
  },
  {
   "cell_type": "code",
   "execution_count": 495,
   "id": "1670ebdd-0870-45fd-b09a-54c8201df147",
   "metadata": {},
   "outputs": [
    {
     "data": {
      "text/plain": [
       "(array([], shape=(0, 3), dtype=int32),\n",
       " array([], shape=(0, 3), dtype=int32),\n",
       " array([], shape=(0, 3), dtype=int32))"
      ]
     },
     "execution_count": 495,
     "metadata": {},
     "output_type": "execute_result"
    }
   ],
   "source": [
    "triangles[triangles[:, 0] == 135], triangles[triangles[:, 1] == 135], triangles[triangles[:, 2] == 135]"
   ]
  },
  {
   "cell_type": "code",
   "execution_count": 496,
   "id": "1df9b2fa-c1ed-4b7b-98f6-56392759df1c",
   "metadata": {},
   "outputs": [],
   "source": [
    "mesh5 = o3d.geometry.TriangleMesh()\n",
    "mesh5.vertices = o3d.utility.Vector3dVector(vertices)\n",
    "mesh5.triangles = o3d.utility.Vector3iVector(triangles)"
   ]
  },
  {
   "cell_type": "code",
   "execution_count": 497,
   "id": "284849b1-df80-4587-98d7-5a4f29a4da77",
   "metadata": {},
   "outputs": [
    {
     "data": {
      "text/plain": [
       "TriangleMesh with 595 points and 1190 triangles."
      ]
     },
     "execution_count": 497,
     "metadata": {},
     "output_type": "execute_result"
    }
   ],
   "source": [
    "mesh5.remove_unreferenced_vertices()"
   ]
  },
  {
   "cell_type": "code",
   "execution_count": 498,
   "id": "cb3862a4-c304-42d3-bbcb-126ad29ccb65",
   "metadata": {},
   "outputs": [],
   "source": [
    "# queue 1 => TriangleMesh with 599 points and 1198 triangles.\n",
    "# 2 => TriangleMesh with 598 points and 1196 triangles.\n",
    "# 3 => TriangleMesh with 597 points and 1194 triangles."
   ]
  },
  {
   "cell_type": "code",
   "execution_count": 499,
   "id": "e47e9a52-8473-4dbc-8375-950067b116b4",
   "metadata": {},
   "outputs": [
    {
     "data": {
      "text/plain": [
       "True"
      ]
     },
     "execution_count": 499,
     "metadata": {},
     "output_type": "execute_result"
    }
   ],
   "source": [
    "o3d.io.write_triangle_mesh('torus5.obj', mesh5)"
   ]
  },
  {
   "cell_type": "code",
   "execution_count": 308,
   "id": "eeaca8ac-85ab-4a1d-a31e-fc70140c2b0a",
   "metadata": {},
   "outputs": [
    {
     "data": {
      "text/plain": [
       "(array([[ 1.,  0.,  0.],\n",
       "        [ 0.,  1.,  0.],\n",
       "        [ 0.,  0.,  1.],\n",
       "        [-1.,  0.,  0.],\n",
       "        [ 0., -1.,  0.],\n",
       "        [ 0.,  0., -1.]]),\n",
       " array([[0, 0, 2],\n",
       "        [0, 3, 2],\n",
       "        [3, 4, 2],\n",
       "        [4, 0, 2],\n",
       "        [0, 5, 0],\n",
       "        [0, 5, 3],\n",
       "        [3, 5, 4],\n",
       "        [4, 5, 0]], dtype=int32))"
      ]
     },
     "execution_count": 308,
     "metadata": {},
     "output_type": "execute_result"
    }
   ],
   "source": [
    "vertices, triangles"
   ]
  },
  {
   "cell_type": "code",
   "execution_count": 336,
   "id": "b2227740-359b-48bb-9e9b-c1d6271910f7",
   "metadata": {},
   "outputs": [
    {
     "data": {
      "text/plain": [
       "array([[  0,   1, 580],\n",
       "       [  0,  21,   1],\n",
       "       [  1,   2, 581],\n",
       "       ...,\n",
       "       [598, 599, 578],\n",
       "       [599,   0, 580],\n",
       "       [599, 580, 579]], dtype=int32)"
      ]
     },
     "execution_count": 336,
     "metadata": {},
     "output_type": "execute_result"
    }
   ],
   "source": [
    "triangles"
   ]
  },
  {
   "cell_type": "code",
   "execution_count": 314,
   "id": "f5ec9fc3-547f-4e44-8802-cd5de543c30c",
   "metadata": {},
   "outputs": [
    {
     "data": {
      "text/plain": [
       "array([[0, 0, 2],\n",
       "       [0, 3, 2],\n",
       "       [3, 4, 2],\n",
       "       [4, 0, 2],\n",
       "       [0, 5, 0],\n",
       "       [0, 5, 3],\n",
       "       [3, 5, 4],\n",
       "       [4, 5, 0]], dtype=int32)"
      ]
     },
     "execution_count": 314,
     "metadata": {},
     "output_type": "execute_result"
    }
   ],
   "source": [
    "np.asarray(mesh5.triangles)"
   ]
  },
  {
   "cell_type": "code",
   "execution_count": 269,
   "id": "bed64a79-0a76-44ef-89da-779a4edf6c85",
   "metadata": {},
   "outputs": [
    {
     "name": "stdout",
     "output_type": "stream",
     "text": [
      "[Open3D INFO] Downloading https://github.com/isl-org/open3d_downloads/releases/download/20220201-data/KnotMesh.ply\n",
      "[Open3D WARNING] Failed to download from https://github.com/isl-org/open3d_downloads/releases/download/20220201-data/KnotMesh.ply. Expection [Open3D Error] (class std::basic_string<char,struct std::char_traits<char>,class std::allocator<char> > __cdecl open3d::utility::DownloadFromURL(const class std::basic_string<char,struct std::char_traits<char>,class std::allocator<char> > &,const class std::basic_string<char,struct std::char_traits<char>,class std::allocator<char> > &,const class std::basic_string<char,struct std::char_traits<char>,class std::allocator<char> > &,const class std::basic_string<char,struct std::char_traits<char>,class std::allocator<char> > &)) D:\\a\\Open3D\\Open3D\\cpp\\open3d\\utility\\Download.cpp:173: Download failed with error code: Timeout was reached.\n",
      ".\n"
     ]
    },
    {
     "ename": "RuntimeError",
     "evalue": "[Open3D Error] (class std::basic_string<char,struct std::char_traits<char>,class std::allocator<char> > __cdecl open3d::utility::DownloadFromURL(const class std::vector<class std::basic_string<char,struct std::char_traits<char>,class std::allocator<char> >,class std::allocator<class std::basic_string<char,struct std::char_traits<char>,class std::allocator<char> > > > &,const class std::basic_string<char,struct std::char_traits<char>,class std::allocator<char> > &,const class std::basic_string<char,struct std::char_traits<char>,class std::allocator<char> > &,const class std::basic_string<char,struct std::char_traits<char>,class std::allocator<char> > &)) D:\\a\\Open3D\\Open3D\\cpp\\open3d\\utility\\Download.cpp:192: Downloading failed from available mirrors.\n",
     "output_type": "error",
     "traceback": [
      "\u001b[1;31m---------------------------------------------------------------------------\u001b[0m",
      "\u001b[1;31mRuntimeError\u001b[0m                              Traceback (most recent call last)",
      "Input \u001b[1;32mIn [269]\u001b[0m, in \u001b[0;36m<cell line: 1>\u001b[1;34m()\u001b[0m\n\u001b[1;32m----> 1\u001b[0m dataset \u001b[38;5;241m=\u001b[39m \u001b[43mo3d\u001b[49m\u001b[38;5;241;43m.\u001b[39;49m\u001b[43mdata\u001b[49m\u001b[38;5;241;43m.\u001b[39;49m\u001b[43mKnotMesh\u001b[49m\u001b[43m(\u001b[49m\u001b[43m)\u001b[49m\n\u001b[0;32m      2\u001b[0m mesh3 \u001b[38;5;241m=\u001b[39m o3d\u001b[38;5;241m.\u001b[39mio\u001b[38;5;241m.\u001b[39mread_triangle_mesh(dataset\u001b[38;5;241m.\u001b[39mpath)\n\u001b[0;32m      3\u001b[0m o3d\u001b[38;5;241m.\u001b[39mio\u001b[38;5;241m.\u001b[39mwrite_triangle_mesh(\u001b[38;5;124m'\u001b[39m\u001b[38;5;124mknot.obj\u001b[39m\u001b[38;5;124m'\u001b[39m, mesh3)\n",
      "\u001b[1;31mRuntimeError\u001b[0m: [Open3D Error] (class std::basic_string<char,struct std::char_traits<char>,class std::allocator<char> > __cdecl open3d::utility::DownloadFromURL(const class std::vector<class std::basic_string<char,struct std::char_traits<char>,class std::allocator<char> >,class std::allocator<class std::basic_string<char,struct std::char_traits<char>,class std::allocator<char> > > > &,const class std::basic_string<char,struct std::char_traits<char>,class std::allocator<char> > &,const class std::basic_string<char,struct std::char_traits<char>,class std::allocator<char> > &,const class std::basic_string<char,struct std::char_traits<char>,class std::allocator<char> > &)) D:\\a\\Open3D\\Open3D\\cpp\\open3d\\utility\\Download.cpp:192: Downloading failed from available mirrors.\n"
     ]
    }
   ],
   "source": [
    "dataset = o3d.data.KnotMesh()\n",
    "mesh3 = o3d.io.read_triangle_mesh(dataset.path)\n",
    "o3d.io.write_triangle_mesh('knot.obj', mesh3)"
   ]
  },
  {
   "cell_type": "code",
   "execution_count": null,
   "id": "cadba677-d6fa-46c3-b5f9-2719b0dfb31c",
   "metadata": {},
   "outputs": [],
   "source": [
    "mesh2 = o3d.geometry.TriangleMesh()\n",
    "mesh2.vertices = o3d.utility.Vector3dVector([\n",
    "    [1, 1, 1], # 0\n",
    "    [0, 0, 0], # 1\n",
    "    [0, 0, 1], # 2\n",
    "    [0, 1, 0], # 3\n",
    "    [1, 0, 0], # 4\n",
    "    [0, 1, 1], # 5\n",
    "    [1, 1, 0], # 6\n",
    "    [1, 0, 1] # 7\n",
    "])\n",
    "mesh2.triangles = o3d.utility.Vector3iVector([\n",
    "    [1, 4, 6],\n",
    "    [1, 3, 6],\n",
    "    [1, 2, 3],\n",
    "    [3, 2, 5],\n",
    "    []\n",
    "])"
   ]
  },
  {
   "cell_type": "code",
   "execution_count": 526,
   "id": "032141f2-9114-4198-bda4-460759e9b480",
   "metadata": {},
   "outputs": [
    {
     "name": "stdout",
     "output_type": "stream",
     "text": [
      "TriangleMesh with 600 points and 1200 triangles.\n"
     ]
    },
    {
     "name": "stderr",
     "output_type": "stream",
     "text": [
      "100%|██████████| 600/600 [00:00<00:00, 15001.53it/s]\n",
      "100%|██████████| 2400/2400 [00:05<00:00, 473.85it/s]"
     ]
    },
    {
     "name": "stdout",
     "output_type": "stream",
     "text": [
      "TriangleMesh with 136 points and 349 triangles.\n"
     ]
    },
    {
     "name": "stderr",
     "output_type": "stream",
     "text": [
      "\n"
     ]
    },
    {
     "data": {
      "text/plain": [
       "True"
      ]
     },
     "execution_count": 526,
     "metadata": {},
     "output_type": "execute_result"
    }
   ],
   "source": [
    "# mesh4 = o3d.geometry.TriangleMesh.create_octahedron()\n",
    "mesh4 = o3d.geometry.TriangleMesh.create_torus()\n",
    "print(mesh4)\n",
    "\n",
    "vertices = np.asarray(mesh4.vertices)\n",
    "triangles = np.asarray(mesh4.triangles)\n",
    "\n",
    "K_list = calculate_K(vertices, triangles)\n",
    "v_tr = create_v_tr(triangles)\n",
    "v_Q = calculate_Q(K_list, v_tr)\n",
    "\n",
    "valid_pairs = select_valid_pairs(vertices, triangles, t=0.01)\n",
    "errors = calculate_error(valid_pairs, v_Q, vertices)\n",
    "queue = create_queue(valid_pairs, errors)\n",
    "\n",
    "vertices, triangles = remove_vertices(queue, vertices, triangles)\n",
    "\n",
    "triangles = np.unique(triangles, axis=0)\n",
    "triangles = triangles[(triangles[:, 0] != triangles[:, 1]) & (triangles[:, 1] != triangles[:, 2]) & (triangles[:, 2] != triangles[:, 0])]\n",
    "\n",
    "mesh5 = o3d.geometry.TriangleMesh()\n",
    "mesh5.vertices = o3d.utility.Vector3dVector(vertices)\n",
    "mesh5.triangles = o3d.utility.Vector3iVector(triangles)\n",
    "\n",
    "mesh5.remove_unreferenced_vertices()\n",
    "\n",
    "print(mesh5)\n",
    "\n",
    "o3d.io.write_triangle_mesh('torus8.obj', mesh5)"
   ]
  },
  {
   "cell_type": "code",
   "execution_count": 527,
   "id": "a1dacec6-294d-44f1-a7eb-ff4ac967f343",
   "metadata": {},
   "outputs": [
    {
     "data": {
      "text/plain": [
       "(2400, 2)"
      ]
     },
     "execution_count": 527,
     "metadata": {},
     "output_type": "execute_result"
    }
   ],
   "source": [
    "valid_pairs.shape"
   ]
  },
  {
   "cell_type": "code",
   "execution_count": 530,
   "id": "8bee21c3-a958-446d-a42a-2e0bdf6a2534",
   "metadata": {},
   "outputs": [
    {
     "data": {
      "text/plain": [
       "array([[  0,   1],\n",
       "       [  0,  21],\n",
       "       [  0, 580],\n",
       "       [  0, 599],\n",
       "       [  1,   2],\n",
       "       [  1,  22],\n",
       "       [  1, 580],\n",
       "       [  1, 581],\n",
       "       [  2,   3],\n",
       "       [  2,  23],\n",
       "       [  2, 581],\n",
       "       [  2, 582],\n",
       "       [  3,   4],\n",
       "       [  3,  24],\n",
       "       [  3, 582],\n",
       "       [  3, 583],\n",
       "       [  4,   5],\n",
       "       [  4,  25],\n",
       "       [  4, 583],\n",
       "       [  4, 584]])"
      ]
     },
     "execution_count": 530,
     "metadata": {},
     "output_type": "execute_result"
    }
   ],
   "source": [
    "valid_pairs[:20, :]"
   ]
  },
  {
   "cell_type": "code",
   "execution_count": null,
   "id": "7db56986-0c19-4061-8435-d98970199e7b",
   "metadata": {},
   "outputs": [],
   "source": []
  }
 ],
 "metadata": {
  "kernelspec": {
   "display_name": "Python 3 (ipykernel)",
   "language": "python",
   "name": "python3"
  },
  "language_info": {
   "codemirror_mode": {
    "name": "ipython",
    "version": 3
   },
   "file_extension": ".py",
   "mimetype": "text/x-python",
   "name": "python",
   "nbconvert_exporter": "python",
   "pygments_lexer": "ipython3",
   "version": "3.9.12"
  }
 },
 "nbformat": 4,
 "nbformat_minor": 5
}
